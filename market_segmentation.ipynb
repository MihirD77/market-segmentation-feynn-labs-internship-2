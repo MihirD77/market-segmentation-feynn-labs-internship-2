{
  "nbformat": 4,
  "nbformat_minor": 0,
  "metadata": {
    "colab": {
      "name": "market_segmentation.ipynb",
      "provenance": []
    },
    "kernelspec": {
      "name": "python3",
      "display_name": "Python 3"
    },
    "language_info": {
      "name": "python"
    }
  },
  "cells": [
    {
      "cell_type": "markdown",
      "source": [
        "**Importing the Libraries**"
      ],
      "metadata": {
        "id": "NVoRXwyDw9Fh"
      }
    },
    {
      "cell_type": "code",
      "execution_count": null,
      "metadata": {
        "id": "HVan_Ze6u6gN"
      },
      "outputs": [],
      "source": [
        "import numpy as np\n",
        "import pandas as pd\n",
        "import seaborn as sns\n",
        "sns.set(style=\"darkgrid\")\n",
        "import matplotlib.pyplot as plt\n",
        "import sklearn"
      ]
    },
    {
      "cell_type": "markdown",
      "source": [
        "**Reading the Dataset(McDonald's Case Study Dataset)**"
      ],
      "metadata": {
        "id": "gvWgbVgsxEGX"
      }
    },
    {
      "cell_type": "code",
      "source": [
        "dataset = pd.read_csv('https://homepage.boku.ac.at/leisch/MSA/datasets/mcdonalds.csv')"
      ],
      "metadata": {
        "id": "01hVqHosvMbX"
      },
      "execution_count": null,
      "outputs": []
    },
    {
      "cell_type": "markdown",
      "source": [
        "**Data Preprocessing**"
      ],
      "metadata": {
        "id": "k5xy8nWAxNCl"
      }
    },
    {
      "cell_type": "code",
      "source": [
        "dataset.head()"
      ],
      "metadata": {
        "colab": {
          "base_uri": "https://localhost:8080/",
          "height": 206
        },
        "id": "WUHI_fsnvrDz",
        "outputId": "22ed93da-e91b-4731-b9e2-399e1c9fc357"
      },
      "execution_count": null,
      "outputs": [
        {
          "output_type": "execute_result",
          "data": {
            "text/plain": [
              "  yummy convenient spicy fattening greasy fast cheap tasty expensive healthy  \\\n",
              "0    No        Yes    No       Yes     No  Yes   Yes    No       Yes      No   \n",
              "1   Yes        Yes    No       Yes    Yes  Yes   Yes   Yes       Yes      No   \n",
              "2    No        Yes   Yes       Yes    Yes  Yes    No   Yes       Yes     Yes   \n",
              "3   Yes        Yes    No       Yes    Yes  Yes   Yes   Yes        No      No   \n",
              "4    No        Yes    No       Yes    Yes  Yes   Yes    No        No     Yes   \n",
              "\n",
              "  disgusting Like  Age      VisitFrequency  Gender  \n",
              "0         No   -3   61  Every three months  Female  \n",
              "1         No   +2   51  Every three months  Female  \n",
              "2         No   +1   62  Every three months  Female  \n",
              "3        Yes   +4   69         Once a week  Female  \n",
              "4         No   +2   49        Once a month    Male  "
            ],
            "text/html": [
              "\n",
              "  <div id=\"df-f5cf18b5-23a1-4d40-b228-c06f6dd433bf\">\n",
              "    <div class=\"colab-df-container\">\n",
              "      <div>\n",
              "<style scoped>\n",
              "    .dataframe tbody tr th:only-of-type {\n",
              "        vertical-align: middle;\n",
              "    }\n",
              "\n",
              "    .dataframe tbody tr th {\n",
              "        vertical-align: top;\n",
              "    }\n",
              "\n",
              "    .dataframe thead th {\n",
              "        text-align: right;\n",
              "    }\n",
              "</style>\n",
              "<table border=\"1\" class=\"dataframe\">\n",
              "  <thead>\n",
              "    <tr style=\"text-align: right;\">\n",
              "      <th></th>\n",
              "      <th>yummy</th>\n",
              "      <th>convenient</th>\n",
              "      <th>spicy</th>\n",
              "      <th>fattening</th>\n",
              "      <th>greasy</th>\n",
              "      <th>fast</th>\n",
              "      <th>cheap</th>\n",
              "      <th>tasty</th>\n",
              "      <th>expensive</th>\n",
              "      <th>healthy</th>\n",
              "      <th>disgusting</th>\n",
              "      <th>Like</th>\n",
              "      <th>Age</th>\n",
              "      <th>VisitFrequency</th>\n",
              "      <th>Gender</th>\n",
              "    </tr>\n",
              "  </thead>\n",
              "  <tbody>\n",
              "    <tr>\n",
              "      <th>0</th>\n",
              "      <td>No</td>\n",
              "      <td>Yes</td>\n",
              "      <td>No</td>\n",
              "      <td>Yes</td>\n",
              "      <td>No</td>\n",
              "      <td>Yes</td>\n",
              "      <td>Yes</td>\n",
              "      <td>No</td>\n",
              "      <td>Yes</td>\n",
              "      <td>No</td>\n",
              "      <td>No</td>\n",
              "      <td>-3</td>\n",
              "      <td>61</td>\n",
              "      <td>Every three months</td>\n",
              "      <td>Female</td>\n",
              "    </tr>\n",
              "    <tr>\n",
              "      <th>1</th>\n",
              "      <td>Yes</td>\n",
              "      <td>Yes</td>\n",
              "      <td>No</td>\n",
              "      <td>Yes</td>\n",
              "      <td>Yes</td>\n",
              "      <td>Yes</td>\n",
              "      <td>Yes</td>\n",
              "      <td>Yes</td>\n",
              "      <td>Yes</td>\n",
              "      <td>No</td>\n",
              "      <td>No</td>\n",
              "      <td>+2</td>\n",
              "      <td>51</td>\n",
              "      <td>Every three months</td>\n",
              "      <td>Female</td>\n",
              "    </tr>\n",
              "    <tr>\n",
              "      <th>2</th>\n",
              "      <td>No</td>\n",
              "      <td>Yes</td>\n",
              "      <td>Yes</td>\n",
              "      <td>Yes</td>\n",
              "      <td>Yes</td>\n",
              "      <td>Yes</td>\n",
              "      <td>No</td>\n",
              "      <td>Yes</td>\n",
              "      <td>Yes</td>\n",
              "      <td>Yes</td>\n",
              "      <td>No</td>\n",
              "      <td>+1</td>\n",
              "      <td>62</td>\n",
              "      <td>Every three months</td>\n",
              "      <td>Female</td>\n",
              "    </tr>\n",
              "    <tr>\n",
              "      <th>3</th>\n",
              "      <td>Yes</td>\n",
              "      <td>Yes</td>\n",
              "      <td>No</td>\n",
              "      <td>Yes</td>\n",
              "      <td>Yes</td>\n",
              "      <td>Yes</td>\n",
              "      <td>Yes</td>\n",
              "      <td>Yes</td>\n",
              "      <td>No</td>\n",
              "      <td>No</td>\n",
              "      <td>Yes</td>\n",
              "      <td>+4</td>\n",
              "      <td>69</td>\n",
              "      <td>Once a week</td>\n",
              "      <td>Female</td>\n",
              "    </tr>\n",
              "    <tr>\n",
              "      <th>4</th>\n",
              "      <td>No</td>\n",
              "      <td>Yes</td>\n",
              "      <td>No</td>\n",
              "      <td>Yes</td>\n",
              "      <td>Yes</td>\n",
              "      <td>Yes</td>\n",
              "      <td>Yes</td>\n",
              "      <td>No</td>\n",
              "      <td>No</td>\n",
              "      <td>Yes</td>\n",
              "      <td>No</td>\n",
              "      <td>+2</td>\n",
              "      <td>49</td>\n",
              "      <td>Once a month</td>\n",
              "      <td>Male</td>\n",
              "    </tr>\n",
              "  </tbody>\n",
              "</table>\n",
              "</div>\n",
              "      <button class=\"colab-df-convert\" onclick=\"convertToInteractive('df-f5cf18b5-23a1-4d40-b228-c06f6dd433bf')\"\n",
              "              title=\"Convert this dataframe to an interactive table.\"\n",
              "              style=\"display:none;\">\n",
              "        \n",
              "  <svg xmlns=\"http://www.w3.org/2000/svg\" height=\"24px\"viewBox=\"0 0 24 24\"\n",
              "       width=\"24px\">\n",
              "    <path d=\"M0 0h24v24H0V0z\" fill=\"none\"/>\n",
              "    <path d=\"M18.56 5.44l.94 2.06.94-2.06 2.06-.94-2.06-.94-.94-2.06-.94 2.06-2.06.94zm-11 1L8.5 8.5l.94-2.06 2.06-.94-2.06-.94L8.5 2.5l-.94 2.06-2.06.94zm10 10l.94 2.06.94-2.06 2.06-.94-2.06-.94-.94-2.06-.94 2.06-2.06.94z\"/><path d=\"M17.41 7.96l-1.37-1.37c-.4-.4-.92-.59-1.43-.59-.52 0-1.04.2-1.43.59L10.3 9.45l-7.72 7.72c-.78.78-.78 2.05 0 2.83L4 21.41c.39.39.9.59 1.41.59.51 0 1.02-.2 1.41-.59l7.78-7.78 2.81-2.81c.8-.78.8-2.07 0-2.86zM5.41 20L4 18.59l7.72-7.72 1.47 1.35L5.41 20z\"/>\n",
              "  </svg>\n",
              "      </button>\n",
              "      \n",
              "  <style>\n",
              "    .colab-df-container {\n",
              "      display:flex;\n",
              "      flex-wrap:wrap;\n",
              "      gap: 12px;\n",
              "    }\n",
              "\n",
              "    .colab-df-convert {\n",
              "      background-color: #E8F0FE;\n",
              "      border: none;\n",
              "      border-radius: 50%;\n",
              "      cursor: pointer;\n",
              "      display: none;\n",
              "      fill: #1967D2;\n",
              "      height: 32px;\n",
              "      padding: 0 0 0 0;\n",
              "      width: 32px;\n",
              "    }\n",
              "\n",
              "    .colab-df-convert:hover {\n",
              "      background-color: #E2EBFA;\n",
              "      box-shadow: 0px 1px 2px rgba(60, 64, 67, 0.3), 0px 1px 3px 1px rgba(60, 64, 67, 0.15);\n",
              "      fill: #174EA6;\n",
              "    }\n",
              "\n",
              "    [theme=dark] .colab-df-convert {\n",
              "      background-color: #3B4455;\n",
              "      fill: #D2E3FC;\n",
              "    }\n",
              "\n",
              "    [theme=dark] .colab-df-convert:hover {\n",
              "      background-color: #434B5C;\n",
              "      box-shadow: 0px 1px 3px 1px rgba(0, 0, 0, 0.15);\n",
              "      filter: drop-shadow(0px 1px 2px rgba(0, 0, 0, 0.3));\n",
              "      fill: #FFFFFF;\n",
              "    }\n",
              "  </style>\n",
              "\n",
              "      <script>\n",
              "        const buttonEl =\n",
              "          document.querySelector('#df-f5cf18b5-23a1-4d40-b228-c06f6dd433bf button.colab-df-convert');\n",
              "        buttonEl.style.display =\n",
              "          google.colab.kernel.accessAllowed ? 'block' : 'none';\n",
              "\n",
              "        async function convertToInteractive(key) {\n",
              "          const element = document.querySelector('#df-f5cf18b5-23a1-4d40-b228-c06f6dd433bf');\n",
              "          const dataTable =\n",
              "            await google.colab.kernel.invokeFunction('convertToInteractive',\n",
              "                                                     [key], {});\n",
              "          if (!dataTable) return;\n",
              "\n",
              "          const docLinkHtml = 'Like what you see? Visit the ' +\n",
              "            '<a target=\"_blank\" href=https://colab.research.google.com/notebooks/data_table.ipynb>data table notebook</a>'\n",
              "            + ' to learn more about interactive tables.';\n",
              "          element.innerHTML = '';\n",
              "          dataTable['output_type'] = 'display_data';\n",
              "          await google.colab.output.renderOutput(dataTable, element);\n",
              "          const docLink = document.createElement('div');\n",
              "          docLink.innerHTML = docLinkHtml;\n",
              "          element.appendChild(docLink);\n",
              "        }\n",
              "      </script>\n",
              "    </div>\n",
              "  </div>\n",
              "  "
            ]
          },
          "metadata": {},
          "execution_count": 3
        }
      ]
    },
    {
      "cell_type": "code",
      "source": [
        "dataset.shape"
      ],
      "metadata": {
        "colab": {
          "base_uri": "https://localhost:8080/"
        },
        "id": "6UelGYRZwDMm",
        "outputId": "a7f1ae48-d49e-4553-c8d2-030044874edc"
      },
      "execution_count": null,
      "outputs": [
        {
          "output_type": "execute_result",
          "data": {
            "text/plain": [
              "(1453, 15)"
            ]
          },
          "metadata": {},
          "execution_count": 4
        }
      ]
    },
    {
      "cell_type": "code",
      "source": [
        "dataset.dtypes"
      ],
      "metadata": {
        "colab": {
          "base_uri": "https://localhost:8080/"
        },
        "id": "Z2kp7S_iwI19",
        "outputId": "dabf62cb-e2a9-4797-d975-4f610047d1c9"
      },
      "execution_count": null,
      "outputs": [
        {
          "output_type": "execute_result",
          "data": {
            "text/plain": [
              "yummy             object\n",
              "convenient        object\n",
              "spicy             object\n",
              "fattening         object\n",
              "greasy            object\n",
              "fast              object\n",
              "cheap             object\n",
              "tasty             object\n",
              "expensive         object\n",
              "healthy           object\n",
              "disgusting        object\n",
              "Like              object\n",
              "Age                int64\n",
              "VisitFrequency    object\n",
              "Gender            object\n",
              "dtype: object"
            ]
          },
          "metadata": {},
          "execution_count": 5
        }
      ]
    },
    {
      "cell_type": "code",
      "source": [
        "dataset['Age'].unique()"
      ],
      "metadata": {
        "colab": {
          "base_uri": "https://localhost:8080/"
        },
        "id": "k-TTOjUOwesv",
        "outputId": "4263c797-c11b-46a2-af15-ace0da4346ca"
      },
      "execution_count": null,
      "outputs": [
        {
          "output_type": "execute_result",
          "data": {
            "text/plain": [
              "array([61, 51, 62, 69, 49, 55, 56, 23, 58, 32, 53, 28, 65, 54, 67, 34, 31,\n",
              "       47, 37, 41, 36, 50, 39, 35, 20, 24, 44, 40, 48, 38, 57, 60, 66, 42,\n",
              "       26, 52, 29, 25, 22, 45, 18, 68, 43, 21, 27, 33, 63, 46, 59, 19, 64,\n",
              "       70, 30, 71])"
            ]
          },
          "metadata": {},
          "execution_count": 6
        }
      ]
    },
    {
      "cell_type": "code",
      "source": [
        "dataset['spicy'].unique()"
      ],
      "metadata": {
        "colab": {
          "base_uri": "https://localhost:8080/"
        },
        "id": "PMrbwC81wpWL",
        "outputId": "73fcec8e-5e1c-4f86-d51d-1dd442edac3c"
      },
      "execution_count": null,
      "outputs": [
        {
          "output_type": "execute_result",
          "data": {
            "text/plain": [
              "array(['No', 'Yes'], dtype=object)"
            ]
          },
          "metadata": {},
          "execution_count": 7
        }
      ]
    },
    {
      "cell_type": "code",
      "source": [
        "dataset.isnull().sum()"
      ],
      "metadata": {
        "colab": {
          "base_uri": "https://localhost:8080/"
        },
        "id": "OmdZE5YtwsSv",
        "outputId": "c6b4f2fc-347c-40e1-b8ec-e8236268beaf"
      },
      "execution_count": null,
      "outputs": [
        {
          "output_type": "execute_result",
          "data": {
            "text/plain": [
              "yummy             0\n",
              "convenient        0\n",
              "spicy             0\n",
              "fattening         0\n",
              "greasy            0\n",
              "fast              0\n",
              "cheap             0\n",
              "tasty             0\n",
              "expensive         0\n",
              "healthy           0\n",
              "disgusting        0\n",
              "Like              0\n",
              "Age               0\n",
              "VisitFrequency    0\n",
              "Gender            0\n",
              "dtype: int64"
            ]
          },
          "metadata": {},
          "execution_count": 8
        }
      ]
    },
    {
      "cell_type": "code",
      "source": [
        "dataset.isnull().any()"
      ],
      "metadata": {
        "colab": {
          "base_uri": "https://localhost:8080/"
        },
        "id": "yg0EkvqDwuTP",
        "outputId": "a8cbb78e-aa49-44c4-baec-97379c38c099"
      },
      "execution_count": null,
      "outputs": [
        {
          "output_type": "execute_result",
          "data": {
            "text/plain": [
              "yummy             False\n",
              "convenient        False\n",
              "spicy             False\n",
              "fattening         False\n",
              "greasy            False\n",
              "fast              False\n",
              "cheap             False\n",
              "tasty             False\n",
              "expensive         False\n",
              "healthy           False\n",
              "disgusting        False\n",
              "Like              False\n",
              "Age               False\n",
              "VisitFrequency    False\n",
              "Gender            False\n",
              "dtype: bool"
            ]
          },
          "metadata": {},
          "execution_count": 9
        }
      ]
    },
    {
      "cell_type": "code",
      "source": [
        "dataset['Gender'].value_counts()"
      ],
      "metadata": {
        "colab": {
          "base_uri": "https://localhost:8080/"
        },
        "id": "vf7qGfNrwyx8",
        "outputId": "95ffcc55-8380-4258-c19b-b870c7f27cff"
      },
      "execution_count": null,
      "outputs": [
        {
          "output_type": "execute_result",
          "data": {
            "text/plain": [
              "Female    788\n",
              "Male      665\n",
              "Name: Gender, dtype: int64"
            ]
          },
          "metadata": {},
          "execution_count": 10
        }
      ]
    },
    {
      "cell_type": "code",
      "source": [
        "dataset['VisitFrequency'].value_counts()"
      ],
      "metadata": {
        "colab": {
          "base_uri": "https://localhost:8080/"
        },
        "id": "f18wVZfJw1Ei",
        "outputId": "8125de13-4118-4807-85eb-d1ae3a228611"
      },
      "execution_count": null,
      "outputs": [
        {
          "output_type": "execute_result",
          "data": {
            "text/plain": [
              "Once a month             439\n",
              "Every three months       342\n",
              "Once a year              252\n",
              "Once a week              235\n",
              "Never                    131\n",
              "More than once a week     54\n",
              "Name: VisitFrequency, dtype: int64"
            ]
          },
          "metadata": {},
          "execution_count": 11
        }
      ]
    },
    {
      "cell_type": "code",
      "source": [
        "dataset.columns"
      ],
      "metadata": {
        "colab": {
          "base_uri": "https://localhost:8080/"
        },
        "id": "H5IwO5Rew29w",
        "outputId": "69cd75c4-d5d4-4e2b-9468-3069a62f7329"
      },
      "execution_count": null,
      "outputs": [
        {
          "output_type": "execute_result",
          "data": {
            "text/plain": [
              "Index(['yummy', 'convenient', 'spicy', 'fattening', 'greasy', 'fast', 'cheap',\n",
              "       'tasty', 'expensive', 'healthy', 'disgusting', 'Like', 'Age',\n",
              "       'VisitFrequency', 'Gender'],\n",
              "      dtype='object')"
            ]
          },
          "metadata": {},
          "execution_count": 12
        }
      ]
    },
    {
      "cell_type": "markdown",
      "source": [
        "**Data Visualization**"
      ],
      "metadata": {
        "id": "E1efSpodxRuG"
      }
    },
    {
      "cell_type": "code",
      "source": [
        "sns.heatmap(dataset.isnull(), yticklabels=False)"
      ],
      "metadata": {
        "colab": {
          "base_uri": "https://localhost:8080/",
          "height": 360
        },
        "id": "1ZJWIOKDxVnR",
        "outputId": "970b584c-2d26-4579-ca2a-bc776f32b0f7"
      },
      "execution_count": null,
      "outputs": [
        {
          "output_type": "execute_result",
          "data": {
            "text/plain": [
              "<matplotlib.axes._subplots.AxesSubplot at 0x7fa668a37e10>"
            ]
          },
          "metadata": {},
          "execution_count": 13
        },
        {
          "output_type": "display_data",
          "data": {
            "text/plain": [
              "<Figure size 432x288 with 2 Axes>"
            ],
            "image/png": "[encoded data removed]"
          },
          "metadata": {}
        }
      ]
    },
    {
      "cell_type": "code",
      "source": [
        "sns.barplot(dataset['Age'],dataset['healthy'])"
      ],
      "metadata": {
        "colab": {
          "base_uri": "https://localhost:8080/",
          "height": 357
        },
        "id": "AWbTuvPhxd4z",
        "outputId": "2c72069a-19c3-42ea-ea80-5d15e9b063d3"
      },
      "execution_count": null,
      "outputs": [
        {
          "output_type": "stream",
          "name": "stderr",
          "text": [
            "/usr/local/lib/python3.7/dist-packages/seaborn/_decorators.py:43: FutureWarning: Pass the following variables as keyword args: x, y. From version 0.12, the only valid positional argument will be `data`, and passing other arguments without an explicit keyword will result in an error or misinterpretation.\n",
            "  FutureWarning\n"
          ]
        },
        {
          "output_type": "execute_result",
          "data": {
            "text/plain": [
              "<matplotlib.axes._subplots.AxesSubplot at 0x7fa664ec1f90>"
            ]
          },
          "metadata": {},
          "execution_count": 14
        },
        {
          "output_type": "display_data",
          "data": {
            "text/plain": [
              "<Figure size 432x288 with 1 Axes>"
            ],
            "image/png": "[encoded data removed]"
          },
          "metadata": {}
        }
      ]
    },
    {
      "cell_type": "code",
      "source": [
        "sns.displot(dataset['Age'])"
      ],
      "metadata": {
        "colab": {
          "base_uri": "https://localhost:8080/",
          "height": 382
        },
        "id": "3DQnQzkyxgm8",
        "outputId": "30937867-1c58-4556-da53-5adcd6936e62"
      },
      "execution_count": null,
      "outputs": [
        {
          "output_type": "execute_result",
          "data": {
            "text/plain": [
              "<seaborn.axisgrid.FacetGrid at 0x7fa664ed3850>"
            ]
          },
          "metadata": {},
          "execution_count": 15
        },
        {
          "output_type": "display_data",
          "data": {
            "text/plain": [
              "<Figure size 360x360 with 1 Axes>"
            ],
            "image/png": "[encoded data removed]"
          },
          "metadata": {}
        }
      ]
    },
    {
      "cell_type": "code",
      "source": [
        "sns.boxplot(data = dataset, x = 'yummy', y = 'Age', hue='Gender', palette='husl')\n",
        "plt.legend(bbox_to_anchor = (1,1))"
      ],
      "metadata": {
        "colab": {
          "base_uri": "https://localhost:8080/",
          "height": 302
        },
        "id": "UXv4RD0Kxja8",
        "outputId": "a7c95cbe-887b-4fb3-f13a-192cd71e91ef"
      },
      "execution_count": null,
      "outputs": [
        {
          "output_type": "execute_result",
          "data": {
            "text/plain": [
              "<matplotlib.legend.Legend at 0x7fa66494cdd0>"
            ]
          },
          "metadata": {},
          "execution_count": 16
        },
        {
          "output_type": "display_data",
          "data": {
            "text/plain": [
              "<Figure size 432x288 with 1 Axes>"
            ],
            "image/png": "[encoded data removed]"
          },
          "metadata": {}
        }
      ]
    },
    {
      "cell_type": "code",
      "source": [
        "sns.boxplot(data = dataset, x = 'yummy', y = 'Age', hue='VisitFrequency',  palette='RdPu')\n",
        "plt.legend(bbox_to_anchor = (1,1))"
      ],
      "metadata": {
        "colab": {
          "base_uri": "https://localhost:8080/",
          "height": 302
        },
        "id": "IndtLmCIxmcH",
        "outputId": "deb6fa97-2acb-4900-e7b9-dc484e3f317b"
      },
      "execution_count": null,
      "outputs": [
        {
          "output_type": "execute_result",
          "data": {
            "text/plain": [
              "<matplotlib.legend.Legend at 0x7fa66486ead0>"
            ]
          },
          "metadata": {},
          "execution_count": 17
        },
        {
          "output_type": "display_data",
          "data": {
            "text/plain": [
              "<Figure size 432x288 with 1 Axes>"
            ],
            "image/png": "[encoded data removed]"
          },
          "metadata": {}
        }
      ]
    },
    {
      "cell_type": "code",
      "source": [
        "data = dataset.copy()"
      ],
      "metadata": {
        "id": "NhTfMgTzyKyf"
      },
      "execution_count": null,
      "outputs": []
    },
    {
      "cell_type": "code",
      "source": [
        "data = data.iloc[:,0:-4]"
      ],
      "metadata": {
        "id": "IzX0V_h2yNwi"
      },
      "execution_count": null,
      "outputs": []
    },
    {
      "cell_type": "code",
      "source": [
        "data.head()"
      ],
      "metadata": {
        "colab": {
          "base_uri": "https://localhost:8080/",
          "height": 206
        },
        "id": "GaRN6tglyQyf",
        "outputId": "950ea45e-42ad-455b-f294-1d484cb8c2c6"
      },
      "execution_count": null,
      "outputs": [
        {
          "output_type": "execute_result",
          "data": {
            "text/plain": [
              "  yummy convenient spicy fattening greasy fast cheap tasty expensive healthy  \\\n",
              "0    No        Yes    No       Yes     No  Yes   Yes    No       Yes      No   \n",
              "1   Yes        Yes    No       Yes    Yes  Yes   Yes   Yes       Yes      No   \n",
              "2    No        Yes   Yes       Yes    Yes  Yes    No   Yes       Yes     Yes   \n",
              "3   Yes        Yes    No       Yes    Yes  Yes   Yes   Yes        No      No   \n",
              "4    No        Yes    No       Yes    Yes  Yes   Yes    No        No     Yes   \n",
              "\n",
              "  disgusting  \n",
              "0         No  \n",
              "1         No  \n",
              "2         No  \n",
              "3        Yes  \n",
              "4         No  "
            ],
            "text/html": [
              "\n",
              "  <div id=\"df-245fe44d-1ade-40c9-9e9c-e42c36396636\">\n",
              "    <div class=\"colab-df-container\">\n",
              "      <div>\n",
              "<style scoped>\n",
              "    .dataframe tbody tr th:only-of-type {\n",
              "        vertical-align: middle;\n",
              "    }\n",
              "\n",
              "    .dataframe tbody tr th {\n",
              "        vertical-align: top;\n",
              "    }\n",
              "\n",
              "    .dataframe thead th {\n",
              "        text-align: right;\n",
              "    }\n",
              "</style>\n",
              "<table border=\"1\" class=\"dataframe\">\n",
              "  <thead>\n",
              "    <tr style=\"text-align: right;\">\n",
              "      <th></th>\n",
              "      <th>yummy</th>\n",
              "      <th>convenient</th>\n",
              "      <th>spicy</th>\n",
              "      <th>fattening</th>\n",
              "      <th>greasy</th>\n",
              "      <th>fast</th>\n",
              "      <th>cheap</th>\n",
              "      <th>tasty</th>\n",
              "      <th>expensive</th>\n",
              "      <th>healthy</th>\n",
              "      <th>disgusting</th>\n",
              "    </tr>\n",
              "  </thead>\n",
              "  <tbody>\n",
              "    <tr>\n",
              "      <th>0</th>\n",
              "      <td>No</td>\n",
              "      <td>Yes</td>\n",
              "      <td>No</td>\n",
              "      <td>Yes</td>\n",
              "      <td>No</td>\n",
              "      <td>Yes</td>\n",
              "      <td>Yes</td>\n",
              "      <td>No</td>\n",
              "      <td>Yes</td>\n",
              "      <td>No</td>\n",
              "      <td>No</td>\n",
              "    </tr>\n",
              "    <tr>\n",
              "      <th>1</th>\n",
              "      <td>Yes</td>\n",
              "      <td>Yes</td>\n",
              "      <td>No</td>\n",
              "      <td>Yes</td>\n",
              "      <td>Yes</td>\n",
              "      <td>Yes</td>\n",
              "      <td>Yes</td>\n",
              "      <td>Yes</td>\n",
              "      <td>Yes</td>\n",
              "      <td>No</td>\n",
              "      <td>No</td>\n",
              "    </tr>\n",
              "    <tr>\n",
              "      <th>2</th>\n",
              "      <td>No</td>\n",
              "      <td>Yes</td>\n",
              "      <td>Yes</td>\n",
              "      <td>Yes</td>\n",
              "      <td>Yes</td>\n",
              "      <td>Yes</td>\n",
              "      <td>No</td>\n",
              "      <td>Yes</td>\n",
              "      <td>Yes</td>\n",
              "      <td>Yes</td>\n",
              "      <td>No</td>\n",
              "    </tr>\n",
              "    <tr>\n",
              "      <th>3</th>\n",
              "      <td>Yes</td>\n",
              "      <td>Yes</td>\n",
              "      <td>No</td>\n",
              "      <td>Yes</td>\n",
              "      <td>Yes</td>\n",
              "      <td>Yes</td>\n",
              "      <td>Yes</td>\n",
              "      <td>Yes</td>\n",
              "      <td>No</td>\n",
              "      <td>No</td>\n",
              "      <td>Yes</td>\n",
              "    </tr>\n",
              "    <tr>\n",
              "      <th>4</th>\n",
              "      <td>No</td>\n",
              "      <td>Yes</td>\n",
              "      <td>No</td>\n",
              "      <td>Yes</td>\n",
              "      <td>Yes</td>\n",
              "      <td>Yes</td>\n",
              "      <td>Yes</td>\n",
              "      <td>No</td>\n",
              "      <td>No</td>\n",
              "      <td>Yes</td>\n",
              "      <td>No</td>\n",
              "    </tr>\n",
              "  </tbody>\n",
              "</table>\n",
              "</div>\n",
              "      <button class=\"colab-df-convert\" onclick=\"convertToInteractive('df-245fe44d-1ade-40c9-9e9c-e42c36396636')\"\n",
              "              title=\"Convert this dataframe to an interactive table.\"\n",
              "              style=\"display:none;\">\n",
              "        \n",
              "  <svg xmlns=\"http://www.w3.org/2000/svg\" height=\"24px\"viewBox=\"0 0 24 24\"\n",
              "       width=\"24px\">\n",
              "    <path d=\"M0 0h24v24H0V0z\" fill=\"none\"/>\n",
              "    <path d=\"M18.56 5.44l.94 2.06.94-2.06 2.06-.94-2.06-.94-.94-2.06-.94 2.06-2.06.94zm-11 1L8.5 8.5l.94-2.06 2.06-.94-2.06-.94L8.5 2.5l-.94 2.06-2.06.94zm10 10l.94 2.06.94-2.06 2.06-.94-2.06-.94-.94-2.06-.94 2.06-2.06.94z\"/><path d=\"M17.41 7.96l-1.37-1.37c-.4-.4-.92-.59-1.43-.59-.52 0-1.04.2-1.43.59L10.3 9.45l-7.72 7.72c-.78.78-.78 2.05 0 2.83L4 21.41c.39.39.9.59 1.41.59.51 0 1.02-.2 1.41-.59l7.78-7.78 2.81-2.81c.8-.78.8-2.07 0-2.86zM5.41 20L4 18.59l7.72-7.72 1.47 1.35L5.41 20z\"/>\n",
              "  </svg>\n",
              "      </button>\n",
              "      \n",
              "  <style>\n",
              "    .colab-df-container {\n",
              "      display:flex;\n",
              "      flex-wrap:wrap;\n",
              "      gap: 12px;\n",
              "    }\n",
              "\n",
              "    .colab-df-convert {\n",
              "      background-color: #E8F0FE;\n",
              "      border: none;\n",
              "      border-radius: 50%;\n",
              "      cursor: pointer;\n",
              "      display: none;\n",
              "      fill: #1967D2;\n",
              "      height: 32px;\n",
              "      padding: 0 0 0 0;\n",
              "      width: 32px;\n",
              "    }\n",
              "\n",
              "    .colab-df-convert:hover {\n",
              "      background-color: #E2EBFA;\n",
              "      box-shadow: 0px 1px 2px rgba(60, 64, 67, 0.3), 0px 1px 3px 1px rgba(60, 64, 67, 0.15);\n",
              "      fill: #174EA6;\n",
              "    }\n",
              "\n",
              "    [theme=dark] .colab-df-convert {\n",
              "      background-color: #3B4455;\n",
              "      fill: #D2E3FC;\n",
              "    }\n",
              "\n",
              "    [theme=dark] .colab-df-convert:hover {\n",
              "      background-color: #434B5C;\n",
              "      box-shadow: 0px 1px 3px 1px rgba(0, 0, 0, 0.15);\n",
              "      filter: drop-shadow(0px 1px 2px rgba(0, 0, 0, 0.3));\n",
              "      fill: #FFFFFF;\n",
              "    }\n",
              "  </style>\n",
              "\n",
              "      <script>\n",
              "        const buttonEl =\n",
              "          document.querySelector('#df-245fe44d-1ade-40c9-9e9c-e42c36396636 button.colab-df-convert');\n",
              "        buttonEl.style.display =\n",
              "          google.colab.kernel.accessAllowed ? 'block' : 'none';\n",
              "\n",
              "        async function convertToInteractive(key) {\n",
              "          const element = document.querySelector('#df-245fe44d-1ade-40c9-9e9c-e42c36396636');\n",
              "          const dataTable =\n",
              "            await google.colab.kernel.invokeFunction('convertToInteractive',\n",
              "                                                     [key], {});\n",
              "          if (!dataTable) return;\n",
              "\n",
              "          const docLinkHtml = 'Like what you see? Visit the ' +\n",
              "            '<a target=\"_blank\" href=https://colab.research.google.com/notebooks/data_table.ipynb>data table notebook</a>'\n",
              "            + ' to learn more about interactive tables.';\n",
              "          element.innerHTML = '';\n",
              "          dataTable['output_type'] = 'display_data';\n",
              "          await google.colab.output.renderOutput(dataTable, element);\n",
              "          const docLink = document.createElement('div');\n",
              "          docLink.innerHTML = docLinkHtml;\n",
              "          element.appendChild(docLink);\n",
              "        }\n",
              "      </script>\n",
              "    </div>\n",
              "  </div>\n",
              "  "
            ]
          },
          "metadata": {},
          "execution_count": 40
        }
      ]
    },
    {
      "cell_type": "code",
      "source": [
        "data.columns"
      ],
      "metadata": {
        "colab": {
          "base_uri": "https://localhost:8080/"
        },
        "id": "xQSmItTxyXIg",
        "outputId": "6f205cb7-850a-4813-806b-5cd46461117c"
      },
      "execution_count": null,
      "outputs": [
        {
          "output_type": "execute_result",
          "data": {
            "text/plain": [
              "Index(['yummy', 'convenient', 'spicy', 'fattening', 'greasy', 'fast', 'cheap',\n",
              "       'tasty', 'expensive', 'healthy', 'disgusting'],\n",
              "      dtype='object')"
            ]
          },
          "metadata": {},
          "execution_count": 41
        }
      ]
    },
    {
      "cell_type": "code",
      "source": [
        "data1 = data.copy()"
      ],
      "metadata": {
        "id": "sCO8ojhXyvvW"
      },
      "execution_count": null,
      "outputs": []
    },
    {
      "cell_type": "code",
      "source": [
        "data = dataset.replace(to_replace = ['Yes','No'],value = [1,0])\n",
        "data"
      ],
      "metadata": {
        "colab": {
          "base_uri": "https://localhost:8080/",
          "height": 423
        },
        "id": "BCRvZxipyakN",
        "outputId": "d7f4482a-0d50-4be4-8b9c-3bfdb71aa32c"
      },
      "execution_count": null,
      "outputs": [
        {
          "output_type": "execute_result",
          "data": {
            "text/plain": [
              "      yummy  convenient  spicy  fattening  greasy  fast  cheap  tasty  \\\n",
              "0         0           1      0          1       0     1      1      0   \n",
              "1         1           1      0          1       1     1      1      1   \n",
              "2         0           1      1          1       1     1      0      1   \n",
              "3         1           1      0          1       1     1      1      1   \n",
              "4         0           1      0          1       1     1      1      0   \n",
              "...     ...         ...    ...        ...     ...   ...    ...    ...   \n",
              "1448      0           1      0          1       1     0      0      0   \n",
              "1449      1           1      0          1       0     0      1      1   \n",
              "1450      1           1      0          1       0     1      0      1   \n",
              "1451      1           1      0          0       0     1      1      1   \n",
              "1452      0           1      0          1       1     0      0      0   \n",
              "\n",
              "      expensive  healthy  disgusting          Like  Age      VisitFrequency  \\\n",
              "0             1        0           0            -3   61  Every three months   \n",
              "1             1        0           0            +2   51  Every three months   \n",
              "2             1        1           0            +1   62  Every three months   \n",
              "3             0        0           1            +4   69         Once a week   \n",
              "4             0        1           0            +2   49        Once a month   \n",
              "...         ...      ...         ...           ...  ...                 ...   \n",
              "1448          1        0           1  I hate it!-5   47         Once a year   \n",
              "1449          0        1           0            +2   36         Once a week   \n",
              "1450          1        0           0            +3   52        Once a month   \n",
              "1451          0        1           0            +4   41  Every three months   \n",
              "1452          1        0           1            -3   30  Every three months   \n",
              "\n",
              "      Gender  \n",
              "0     Female  \n",
              "1     Female  \n",
              "2     Female  \n",
              "3     Female  \n",
              "4       Male  \n",
              "...      ...  \n",
              "1448    Male  \n",
              "1449  Female  \n",
              "1450  Female  \n",
              "1451    Male  \n",
              "1452    Male  \n",
              "\n",
              "[1453 rows x 15 columns]"
            ],
            "text/html": [
              "\n",
              "  <div id=\"df-623ce415-e382-4b00-a102-1860b703e42d\">\n",
              "    <div class=\"colab-df-container\">\n",
              "      <div>\n",
              "<style scoped>\n",
              "    .dataframe tbody tr th:only-of-type {\n",
              "        vertical-align: middle;\n",
              "    }\n",
              "\n",
              "    .dataframe tbody tr th {\n",
              "        vertical-align: top;\n",
              "    }\n",
              "\n",
              "    .dataframe thead th {\n",
              "        text-align: right;\n",
              "    }\n",
              "</style>\n",
              "<table border=\"1\" class=\"dataframe\">\n",
              "  <thead>\n",
              "    <tr style=\"text-align: right;\">\n",
              "      <th></th>\n",
              "      <th>yummy</th>\n",
              "      <th>convenient</th>\n",
              "      <th>spicy</th>\n",
              "      <th>fattening</th>\n",
              "      <th>greasy</th>\n",
              "      <th>fast</th>\n",
              "      <th>cheap</th>\n",
              "      <th>tasty</th>\n",
              "      <th>expensive</th>\n",
              "      <th>healthy</th>\n",
              "      <th>disgusting</th>\n",
              "      <th>Like</th>\n",
              "      <th>Age</th>\n",
              "      <th>VisitFrequency</th>\n",
              "      <th>Gender</th>\n",
              "    </tr>\n",
              "  </thead>\n",
              "  <tbody>\n",
              "    <tr>\n",
              "      <th>0</th>\n",
              "      <td>0</td>\n",
              "      <td>1</td>\n",
              "      <td>0</td>\n",
              "      <td>1</td>\n",
              "      <td>0</td>\n",
              "      <td>1</td>\n",
              "      <td>1</td>\n",
              "      <td>0</td>\n",
              "      <td>1</td>\n",
              "      <td>0</td>\n",
              "      <td>0</td>\n",
              "      <td>-3</td>\n",
              "      <td>61</td>\n",
              "      <td>Every three months</td>\n",
              "      <td>Female</td>\n",
              "    </tr>\n",
              "    <tr>\n",
              "      <th>1</th>\n",
              "      <td>1</td>\n",
              "      <td>1</td>\n",
              "      <td>0</td>\n",
              "      <td>1</td>\n",
              "      <td>1</td>\n",
              "      <td>1</td>\n",
              "      <td>1</td>\n",
              "      <td>1</td>\n",
              "      <td>1</td>\n",
              "      <td>0</td>\n",
              "      <td>0</td>\n",
              "      <td>+2</td>\n",
              "      <td>51</td>\n",
              "      <td>Every three months</td>\n",
              "      <td>Female</td>\n",
              "    </tr>\n",
              "    <tr>\n",
              "      <th>2</th>\n",
              "      <td>0</td>\n",
              "      <td>1</td>\n",
              "      <td>1</td>\n",
              "      <td>1</td>\n",
              "      <td>1</td>\n",
              "      <td>1</td>\n",
              "      <td>0</td>\n",
              "      <td>1</td>\n",
              "      <td>1</td>\n",
              "      <td>1</td>\n",
              "      <td>0</td>\n",
              "      <td>+1</td>\n",
              "      <td>62</td>\n",
              "      <td>Every three months</td>\n",
              "      <td>Female</td>\n",
              "    </tr>\n",
              "    <tr>\n",
              "      <th>3</th>\n",
              "      <td>1</td>\n",
              "      <td>1</td>\n",
              "      <td>0</td>\n",
              "      <td>1</td>\n",
              "      <td>1</td>\n",
              "      <td>1</td>\n",
              "      <td>1</td>\n",
              "      <td>1</td>\n",
              "      <td>0</td>\n",
              "      <td>0</td>\n",
              "      <td>1</td>\n",
              "      <td>+4</td>\n",
              "      <td>69</td>\n",
              "      <td>Once a week</td>\n",
              "      <td>Female</td>\n",
              "    </tr>\n",
              "    <tr>\n",
              "      <th>4</th>\n",
              "      <td>0</td>\n",
              "      <td>1</td>\n",
              "      <td>0</td>\n",
              "      <td>1</td>\n",
              "      <td>1</td>\n",
              "      <td>1</td>\n",
              "      <td>1</td>\n",
              "      <td>0</td>\n",
              "      <td>0</td>\n",
              "      <td>1</td>\n",
              "      <td>0</td>\n",
              "      <td>+2</td>\n",
              "      <td>49</td>\n",
              "      <td>Once a month</td>\n",
              "      <td>Male</td>\n",
              "    </tr>\n",
              "    <tr>\n",
              "      <th>...</th>\n",
              "      <td>...</td>\n",
              "      <td>...</td>\n",
              "      <td>...</td>\n",
              "      <td>...</td>\n",
              "      <td>...</td>\n",
              "      <td>...</td>\n",
              "      <td>...</td>\n",
              "      <td>...</td>\n",
              "      <td>...</td>\n",
              "      <td>...</td>\n",
              "      <td>...</td>\n",
              "      <td>...</td>\n",
              "      <td>...</td>\n",
              "      <td>...</td>\n",
              "      <td>...</td>\n",
              "    </tr>\n",
              "    <tr>\n",
              "      <th>1448</th>\n",
              "      <td>0</td>\n",
              "      <td>1</td>\n",
              "      <td>0</td>\n",
              "      <td>1</td>\n",
              "      <td>1</td>\n",
              "      <td>0</td>\n",
              "      <td>0</td>\n",
              "      <td>0</td>\n",
              "      <td>1</td>\n",
              "      <td>0</td>\n",
              "      <td>1</td>\n",
              "      <td>I hate it!-5</td>\n",
              "      <td>47</td>\n",
              "      <td>Once a year</td>\n",
              "      <td>Male</td>\n",
              "    </tr>\n",
              "    <tr>\n",
              "      <th>1449</th>\n",
              "      <td>1</td>\n",
              "      <td>1</td>\n",
              "      <td>0</td>\n",
              "      <td>1</td>\n",
              "      <td>0</td>\n",
              "      <td>0</td>\n",
              "      <td>1</td>\n",
              "      <td>1</td>\n",
              "      <td>0</td>\n",
              "      <td>1</td>\n",
              "      <td>0</td>\n",
              "      <td>+2</td>\n",
              "      <td>36</td>\n",
              "      <td>Once a week</td>\n",
              "      <td>Female</td>\n",
              "    </tr>\n",
              "    <tr>\n",
              "      <th>1450</th>\n",
              "      <td>1</td>\n",
              "      <td>1</td>\n",
              "      <td>0</td>\n",
              "      <td>1</td>\n",
              "      <td>0</td>\n",
              "      <td>1</td>\n",
              "      <td>0</td>\n",
              "      <td>1</td>\n",
              "      <td>1</td>\n",
              "      <td>0</td>\n",
              "      <td>0</td>\n",
              "      <td>+3</td>\n",
              "      <td>52</td>\n",
              "      <td>Once a month</td>\n",
              "      <td>Female</td>\n",
              "    </tr>\n",
              "    <tr>\n",
              "      <th>1451</th>\n",
              "      <td>1</td>\n",
              "      <td>1</td>\n",
              "      <td>0</td>\n",
              "      <td>0</td>\n",
              "      <td>0</td>\n",
              "      <td>1</td>\n",
              "      <td>1</td>\n",
              "      <td>1</td>\n",
              "      <td>0</td>\n",
              "      <td>1</td>\n",
              "      <td>0</td>\n",
              "      <td>+4</td>\n",
              "      <td>41</td>\n",
              "      <td>Every three months</td>\n",
              "      <td>Male</td>\n",
              "    </tr>\n",
              "    <tr>\n",
              "      <th>1452</th>\n",
              "      <td>0</td>\n",
              "      <td>1</td>\n",
              "      <td>0</td>\n",
              "      <td>1</td>\n",
              "      <td>1</td>\n",
              "      <td>0</td>\n",
              "      <td>0</td>\n",
              "      <td>0</td>\n",
              "      <td>1</td>\n",
              "      <td>0</td>\n",
              "      <td>1</td>\n",
              "      <td>-3</td>\n",
              "      <td>30</td>\n",
              "      <td>Every three months</td>\n",
              "      <td>Male</td>\n",
              "    </tr>\n",
              "  </tbody>\n",
              "</table>\n",
              "<p>1453 rows × 15 columns</p>\n",
              "</div>\n",
              "      <button class=\"colab-df-convert\" onclick=\"convertToInteractive('df-623ce415-e382-4b00-a102-1860b703e42d')\"\n",
              "              title=\"Convert this dataframe to an interactive table.\"\n",
              "              style=\"display:none;\">\n",
              "        \n",
              "  <svg xmlns=\"http://www.w3.org/2000/svg\" height=\"24px\"viewBox=\"0 0 24 24\"\n",
              "       width=\"24px\">\n",
              "    <path d=\"M0 0h24v24H0V0z\" fill=\"none\"/>\n",
              "    <path d=\"M18.56 5.44l.94 2.06.94-2.06 2.06-.94-2.06-.94-.94-2.06-.94 2.06-2.06.94zm-11 1L8.5 8.5l.94-2.06 2.06-.94-2.06-.94L8.5 2.5l-.94 2.06-2.06.94zm10 10l.94 2.06.94-2.06 2.06-.94-2.06-.94-.94-2.06-.94 2.06-2.06.94z\"/><path d=\"M17.41 7.96l-1.37-1.37c-.4-.4-.92-.59-1.43-.59-.52 0-1.04.2-1.43.59L10.3 9.45l-7.72 7.72c-.78.78-.78 2.05 0 2.83L4 21.41c.39.39.9.59 1.41.59.51 0 1.02-.2 1.41-.59l7.78-7.78 2.81-2.81c.8-.78.8-2.07 0-2.86zM5.41 20L4 18.59l7.72-7.72 1.47 1.35L5.41 20z\"/>\n",
              "  </svg>\n",
              "      </button>\n",
              "      \n",
              "  <style>\n",
              "    .colab-df-container {\n",
              "      display:flex;\n",
              "      flex-wrap:wrap;\n",
              "      gap: 12px;\n",
              "    }\n",
              "\n",
              "    .colab-df-convert {\n",
              "      background-color: #E8F0FE;\n",
              "      border: none;\n",
              "      border-radius: 50%;\n",
              "      cursor: pointer;\n",
              "      display: none;\n",
              "      fill: #1967D2;\n",
              "      height: 32px;\n",
              "      padding: 0 0 0 0;\n",
              "      width: 32px;\n",
              "    }\n",
              "\n",
              "    .colab-df-convert:hover {\n",
              "      background-color: #E2EBFA;\n",
              "      box-shadow: 0px 1px 2px rgba(60, 64, 67, 0.3), 0px 1px 3px 1px rgba(60, 64, 67, 0.15);\n",
              "      fill: #174EA6;\n",
              "    }\n",
              "\n",
              "    [theme=dark] .colab-df-convert {\n",
              "      background-color: #3B4455;\n",
              "      fill: #D2E3FC;\n",
              "    }\n",
              "\n",
              "    [theme=dark] .colab-df-convert:hover {\n",
              "      background-color: #434B5C;\n",
              "      box-shadow: 0px 1px 3px 1px rgba(0, 0, 0, 0.15);\n",
              "      filter: drop-shadow(0px 1px 2px rgba(0, 0, 0, 0.3));\n",
              "      fill: #FFFFFF;\n",
              "    }\n",
              "  </style>\n",
              "\n",
              "      <script>\n",
              "        const buttonEl =\n",
              "          document.querySelector('#df-623ce415-e382-4b00-a102-1860b703e42d button.colab-df-convert');\n",
              "        buttonEl.style.display =\n",
              "          google.colab.kernel.accessAllowed ? 'block' : 'none';\n",
              "\n",
              "        async function convertToInteractive(key) {\n",
              "          const element = document.querySelector('#df-623ce415-e382-4b00-a102-1860b703e42d');\n",
              "          const dataTable =\n",
              "            await google.colab.kernel.invokeFunction('convertToInteractive',\n",
              "                                                     [key], {});\n",
              "          if (!dataTable) return;\n",
              "\n",
              "          const docLinkHtml = 'Like what you see? Visit the ' +\n",
              "            '<a target=\"_blank\" href=https://colab.research.google.com/notebooks/data_table.ipynb>data table notebook</a>'\n",
              "            + ' to learn more about interactive tables.';\n",
              "          element.innerHTML = '';\n",
              "          dataTable['output_type'] = 'display_data';\n",
              "          await google.colab.output.renderOutput(dataTable, element);\n",
              "          const docLink = document.createElement('div');\n",
              "          docLink.innerHTML = docLinkHtml;\n",
              "          element.appendChild(docLink);\n",
              "        }\n",
              "      </script>\n",
              "    </div>\n",
              "  </div>\n",
              "  "
            ]
          },
          "metadata": {},
          "execution_count": 43
        }
      ]
    },
    {
      "cell_type": "code",
      "source": [
        "plt.figure(figsize=(7,7))\n",
        "sns.heatmap(data.corr(), annot=True, cmap=\"PiYG\")\n",
        "plt.show()"
      ],
      "metadata": {
        "colab": {
          "base_uri": "https://localhost:8080/",
          "height": 487
        },
        "id": "J8icKMwZye1p",
        "outputId": "8482935f-6b61-408f-e5ca-209db82784df"
      },
      "execution_count": null,
      "outputs": [
        {
          "output_type": "display_data",
          "data": {
            "text/plain": [
              "<Figure size 504x504 with 2 Axes>"
            ],
            "image/png": "[encoded data removed]"
          },
          "metadata": {}
        }
      ]
    },
    {
      "cell_type": "code",
      "source": [
        "for col in (data1.columns):\n",
        "    data1[col] = data1[col].map({'Yes':1, 'No':0})"
      ],
      "metadata": {
        "id": "2gjXib6ayjmW"
      },
      "execution_count": null,
      "outputs": []
    },
    {
      "cell_type": "code",
      "source": [
        "data1.mean()"
      ],
      "metadata": {
        "colab": {
          "base_uri": "https://localhost:8080/"
        },
        "id": "46nFWrJqy6KV",
        "outputId": "a3421e10-25f6-450e-cba0-9e7d4f28a9fd"
      },
      "execution_count": null,
      "outputs": [
        {
          "output_type": "execute_result",
          "data": {
            "text/plain": [
              "yummy         0.552650\n",
              "convenient    0.907777\n",
              "spicy         0.093599\n",
              "fattening     0.867171\n",
              "greasy        0.526497\n",
              "fast          0.900206\n",
              "cheap         0.598761\n",
              "tasty         0.644184\n",
              "expensive     0.357880\n",
              "healthy       0.198899\n",
              "disgusting    0.242946\n",
              "dtype: float64"
            ]
          },
          "metadata": {},
          "execution_count": 46
        }
      ]
    },
    {
      "cell_type": "markdown",
      "source": [
        "**Principal Component Analysis**"
      ],
      "metadata": {
        "id": "hV7hSYywKKm3"
      }
    },
    {
      "cell_type": "code",
      "source": [
        "import plotly.express as px\n",
        "from sklearn.decomposition import PCA\n",
        "from sklearn.preprocessing import StandardScaler"
      ],
      "metadata": {
        "id": "bc1-ImhxzTxo"
      },
      "execution_count": null,
      "outputs": []
    },
    {
      "cell_type": "code",
      "source": [
        "pca = PCA(n_components=2)\n",
        "features = ['yummy', 'convenient', 'spicy', 'fattening', 'greasy', 'fast', 'cheap','tasty', 'expensive', 'healthy', 'disgusting']\n",
        "components = pca.fit_transform(data1)\n",
        "loadings = pca.components_.T*np.sqrt(pca.explained_variance_)\n",
        "fig = px.scatter(components, x=0, y=1)\n",
        "\n",
        "for i, feature in enumerate(features):\n",
        "    fig.add_shape(\n",
        "        type='line',\n",
        "        x0=0, y0=0,\n",
        "        x1=loadings[i, 0],\n",
        "        y1=loadings[i, 1]\n",
        "    )\n",
        "    fig.add_annotation(\n",
        "        x=loadings[i, 0],\n",
        "        y=loadings[i, 1],\n",
        "        ax=0, ay=0,\n",
        "        xanchor=\"center\",\n",
        "        yanchor=\"bottom\",\n",
        "        text=feature,\n",
        "    )\n",
        "fig.show()"
      ],
      "metadata": {
        "colab": {
          "base_uri": "https://localhost:8080/",
          "height": 542
        },
        "id": "p-MN-pdozbuJ",
        "outputId": "7febda90-64b7-4e08-cb36-ddab328943d8"
      },
      "execution_count": null,
      "outputs": [
        {
          "output_type": "display_data",
          "data": {
            "text/html": [
              "<html>\n",
              "<head><meta charset=\"utf-8\" /></head>\n",
              "<body>\n",
              "    <div>            <script src=\"https://cdnjs.cloudflare.com/ajax/libs/mathjax/2.7.5/MathJax.js?config=TeX-AMS-MML_SVG\"></script><script type=\"text/javascript\">if (window.MathJax) {MathJax.Hub.Config({SVG: {font: \"STIX-Web\"}});}</script>                <script type=\"text/javascript\">window.PlotlyConfig = {MathJaxConfig: 'local'};</script>\n",
              "        <script src=\"https://cdn.plot.ly/plotly-2.8.3.min.js\"></script>                <div id=\"e83be712-d5e5-48e7-a7bc-586be36d530d\" class=\"plotly-graph-div\" style=\"height:525px; width:100%;\"></div>            <script type=\"text/javascript\">                                    window.PLOTLYENV=window.PLOTLYENV || {};                                    if (document.getElementById(\"e83be712-d5e5-48e7-a7bc-586be36d530d\")) {                    Plotly.newPlot(                        \"e83be712-d5e5-48e7-a7bc-586be36d530d\",                        [{\"hovertemplate\":\"0=%{x}<br>1=%{y}<extra></extra>\",\"legendgroup\":\"\",\"marker\":{\"color\":\"#636efa\",\"symbol\":\"circle\"},\"mode\":\"markers\",\"name\":\"\",\"showlegend\":false,\"x\":[0.4253670557968502,-0.2186376804515991,0.37541475233063976,-0.1729264828526309,0.1870573995318621,-0.8521221082036448,-0.40596143342898644,-0.5476794122116484,1.7055734494762507,0.11854824465940685,0.47107825339580817,0.4933011740184243,0.09632532403679053,-0.39960507182951455,0.7625529809078457,-0.8521221082036448,-0.5476794122116484,-0.32672517112415755,1.2598942710479053,0.4933011740184243,0.4933011740184243,-0.5230803764435933,0.14975888730794887,-0.1922508129320616,-1.0658327287005698,0.25287626202120905,-0.17292648285263085,0.052729382170059846,0.3172795651242811,-1.0658327287005698,-0.5476794122116484,-0.7051309229564534,-0.5476794122116484,0.7755209493878045,-1.0658327287005698,0.7755209493878045,-1.0658327287005698,0.7755209493878045,0.930852539287854,1.597080196158909,0.07793039188480132,-1.0658327287005698,-1.0721890903000415,-0.5149361830926411,0.7755209493878045,-0.063951733188976,-0.36794499784544954,-0.18589445133258958,-0.8521221082036448,-0.5476794122116484,1.4353922446593876,-0.07616546973884238,0.11854824465940685,1.1373059102668635,-1.1820644127240825,-0.3751886184360155,0.7755209493878045,0.400768020028787,-0.8521221082036448,-0.5476794122116484,-0.2104934871006446,-0.7613900327085733,-1.0658327287005698,1.0669956768998419,-0.5476794122116484,1.292637500166913,0.754814550201674,-0.063951733188976,-0.5888992389329402,-0.8521221082036448,-0.11738529646013426,-1.1820644127240825,0.3995322917523811,-0.07074592244401905,-1.1820644127240825,1.5502418595762015,-0.8521221082036448,0.7625529809078457,0.1121918830599351,-1.1820644127240825,1.1127068744988085,-0.3751886184360155,-0.3751886184360155,-1.1820644127240825,0.7508133243270856,-0.9683537922271578,0.15611524890742068,0.7039749877443778,-0.18589445133258958,-0.5294367380430651,-0.8521221082036448,-0.17292648285263085,1.7055734494762507,-0.3751886184360155,-0.7613900327085733,-0.2104934871006446,-0.07074592244401905,0.7379539451397907,1.0669956768998419,-0.8521221082036448,0.400768020028787,0.11854824465940685,-0.063951733188976,-0.8584784698031166,-0.5149361830926411,0.7625529809078457,0.6017944273357658,0.5420045024651359,-0.8521221082036448,0.400768020028787,0.535648140865664,-0.515836755853028,1.7055734494762507,-0.18589445133258958,1.1754889302171838,0.09632532403679053,-0.767746394308045,-1.0658327287005698,0.7755209493878045,0.400768020028787,-1.1820644127240825,-0.22499404205106874,-0.39960507182951455,0.47107825339580817,-0.5476794122116484,0.2910390384350397,0.47107825339580817,-0.8521221082036448,0.1870573995318621,-0.17292648285263085,-0.01990635998672249,0.7625529809078457,-0.8521221082036448,-0.5476794122116484,-0.07074592244401905,0.8469286948034453,-0.8521221082036448,-0.8521221082036448,-0.43918615889430673,-0.5476794122116484,-0.3751886184360155,0.7755209493878045,0.7625529809078457,0.30400700691499843,-0.39234782231159904,-0.8521221082036448,0.11854824465940685,-0.39960507182951455,1.4417486062588598,0.11854824465940685,1.7055734494762507,-1.1820644127240825,0.11854824465940685,-0.8521221082036448,-0.5540357738111201,-0.5476794122116484,-0.49142030245952845,0.11854824465940685,0.11854824465940685,0.5092612733461286,-0.07074592244401905,1.597080196158909,-1.1820644127240825,1.597080196158909,-1.1820644127240825,-1.1820644127240825,0.9444076312768575,-0.18589445133258958,-0.8521221082036448,-0.09516237583751808,-0.09516237583751808,-0.5149361830926411,-0.17292648285263085,0.4475626879207528,1.4417486062588598,1.4417486062588598,0.7755209493878045,1.292637500166913,-0.4242041075975695,0.3172795651242811,0.9702346637860535,0.14113594887537023,0.924496177688382,0.7755209493878045,0.15611524890742068,0.7625529809078457,-0.3751886184360155,0.09632532403679053,0.7755209493878045,-0.38060816573083894,-0.18589445133258958,-0.5476794122116484,-0.5476794122116484,-0.5476794122116484,-0.7613900327085733,0.7379539451397907,0.400768020028787,1.7055734494762507,-0.3751886184360155,-0.5476794122116484,-1.1820644127240825,-1.0721890903000415,0.5954817344270361,0.7755209493878045,0.08996896243731872,1.7055734494762507,-0.3751886184360155,1.5907238345594377,1.5438854979767291,1.1373059102668635,-0.3751886184360155,1.4417486062588598,-0.5540357738111201,-0.5476794122116484,-0.6311678671161546,0.27323419192202764,1.0393457926051952,-1.0658327287005698,0.27387983455945625,0.09632532403679053,-0.49142030245952845,-0.10200023378330308,-0.8521221082036448,1.1373059102668635,-0.697436160941024,-0.07074592244401905,0.5891253728275644,-0.8521221082036448,1.0669956768998419,-0.5476794122116484,-0.8521221082036448,-0.5476794122116484,-0.8776217167320863,0.7755209493878045,-1.1820644127240825,0.09632532403679053,-1.1884207743235546,1.292637500166913,0.3667890626333739,-0.8521221082036448,1.292637500166913,0.7755209493878045,1.597080196158909,0.13542522991332698,-0.302126135356103,-0.11738529646013426,0.9444076312768575,-0.7613900327085733,0.11854824465940685,-1.1820644127240825,1.4353922446593876,-0.38696452733031056,-0.8521221082036448,0.11854824465940685,-1.0658327287005698,-0.8584784698031166,-0.07074592244401905,0.09632532403679053,-1.1820644127240825,-0.8521221082036448,-0.5149361830926411,-0.2844565429409439,-0.18589445133258958,0.5560996099288364,0.30400700691499843,0.9118556331891781,0.3944116584293152,-0.7031468799030672,-1.0658327287005698,-0.17292648285263085,0.30400700691499843,0.11854824465940685,-0.8521221082036448,-0.5476794122116484,0.400768020028787,1.0669956768998419,0.09632532403679053,-0.5476794122116484,-0.5476794122116484,0.09632532403679053,1.699217087876779,-0.7613900327085733,0.22704149797674847,0.1121918830599351,-0.6967905183035954,-0.5476794122116484,0.9178845708078954,1.597080196158909,0.7755209493878045,0.3172795651242811,0.2516569139368401,-0.2104934871006446,0.7625529809078457,0.5891253728275644,0.09632532403679053,-0.3751886184360155,-0.2844565429409439,-0.07616546973884238,-0.18589445133258958,-0.515836755853028,-0.9573394753832284,0.11854824465940685,0.11854824465940685,0.22704149797674847,0.2910390384350397,-0.39960507182951455,0.2856194911402164,-0.8521221082036448,0.6408943332123023,-1.0658327287005698,1.7055734494762507,0.400768020028787,-0.8521221082036448,-0.5476794122116484,-0.07074592244401905,-0.18589445133258958,-1.0658327287005698,-0.2844565429409439,-0.5476794122116484,0.09632532403679053,1.597080196158909,-0.8530226809640312,-0.5149361830926411,-0.18589445133258958,-0.23361698048364724,-1.0658327287005698,-0.3751886184360155,0.2610204553721614,-0.29111181851217305,0.1044534523537634,-0.39234782231159904,0.7755209493878045,-1.1820644127240825,-0.5476794122116484,-0.3751886184360155,0.400768020028787,-0.8521221082036448,1.2212001278161497,0.47107825339580817,0.37493325598432614,-0.91050113880052,-1.1820644127240825,-0.302126135356103,1.1127068744988085,-0.8521221082036448,-0.17292648285263085,-0.8521221082036448,-0.39960507182951455,-0.07740119801524822,-0.5476794122116484,-0.18589445133258958,-0.21863768045159696,-0.03800269332501171,-1.1884207743235546,0.30400700691499843,0.22704149797674847,-0.8521221082036448,0.4933011740184243,-0.21863768045159696,1.5502418595762015,0.400768020028787,0.3770694899949113,-0.7051309229564534,-0.8521221082036448,-0.07740119801524822,0.3358496632736193,-0.18589445133258958,-0.21684984870011645,-0.07074592244401905,-1.0658327287005698,-0.49142030245952845,0.22068513637727658,0.11854824465940685,-0.9683537922271578,0.11854824465940685,-0.15423437734852471,-1.0735711594067414,-0.38060816573083894,0.1121918830599351,0.8082641785068121,0.39411274445755784,1.4417486062588598,-0.5476794122116484,-0.5476794122116484,0.7755209493878045,0.11854824465940685,-0.6311678671161546,-0.5476794122116484,0.7625529809078457,-0.043422240619835045,-0.5476794122116484,0.6017944273357658,1.1373059102668635,0.6264098432958576,0.08458566745603041,0.7755209493878045,0.09632532403679053,-0.8521221082036448,-0.5476794122116484,0.09632532403679053,-0.5149361830926411,-0.7051309229564534,-0.18589445133258958,0.400768020028787,-1.1820644127240825,0.7755209493878045,1.292637500166913,0.1121918830599351,-0.5476794122116484,-0.18589445133258958,-0.38060816573083894,-0.5476794122116484,-0.8521221082036448,0.11854824465940685,-1.1884207743235546,1.2598942710479053,0.11854824465940685,0.42715488754832276,-0.38154498003548737,-1.1820644127240825,0.5488423604109207,0.11854824465940685,-0.29111181851217305,-0.9683537922271578,-1.1820644127240825,1.4417486062588598,-1.0658327287005698,1.597080196158909,0.09632532403679053,-0.063951733188976,0.9702346637860535,1.2598942710479053,-0.3866371033495556,0.4933011740184243,0.8710462342251873,0.6985554404495543,0.1642594422583729,0.2910390384350397,0.432610676387408,-0.2104934871006446,-0.3751886184360155,0.09632532403679053,-0.6702674578346333,-1.0735711594067414,-1.1820644127240825,0.14975888730794887,-0.5476794122116484,-1.1820644127240825,-1.1820644127240825,-0.4387046625479936,-0.18589445133258958,0.7625529809078457,0.17480735441152656,-0.18589445133258958,0.400768020028787,-0.03800269332501171,0.7379539451397907,1.4417486062588598,-0.18589445133258958,-0.11738529646013426,0.25287626202120905,1.0669956768998419,-0.5476794122116484,-0.8521221082036448,-0.8521221082036448,-0.8521221082036448,0.09632532403679053,-0.5476794122116484,-0.8521221082036448,0.7755209493878045,-0.9683537922271578,-0.5476794122116484,-0.5476794122116484,-0.063951733188976,0.930852539287854,-0.7613900327085733,0.930852539287854,1.5438854979767291,-0.5476794122116484,-0.4136998641351577,0.16845099281205486,-0.7613900327085733,-0.09516237583751808,-1.1820644127240825,0.2910390384350397,-1.0658327287005698,0.46472189179633633,0.11854824465940685,-0.063951733188976,0.737053372379404,-0.5476794122116484,-0.8521221082036448,0.11854824465940685,1.2223272667998917,0.400768020028787,1.1127068744988085,0.11854824465940685,-0.8521221082036448,-0.09516237583751808,-0.5476794122116484,0.11854824465940685,-1.0658327287005698,0.1121918830599351,-1.1820644127240825,1.1045626811478562,0.6657919677940575,-0.5476794122116484,-1.1820644127240825,-0.39960507182951455,-0.8584784698031166,-0.5476794122116484,-1.0658327287005698,-1.0658327287005698,-0.18589445133258958,0.11854824465940685,-0.2104934871006446,-0.5476794122116484,0.2910390384350397,-1.1820644127240825,0.7565240432891287,1.0669956768998419,1.2603000336926864,-1.1820644127240825,-0.8521221082036448,-0.5476794122116484,-0.11738529646013426,1.2598942710479053,-0.8584784698031166,-0.7613900327085733,-0.515836755853028,-1.0658327287005698,0.2910390384350397,0.400768020028787,-0.18589445133258958,0.8464471984571323,-0.7286468035895658,-0.3751886184360155,-0.5476794122116484,-0.2104934871006446,0.28453633600527406,1.4417486062588598,0.4933011740184243,0.45208134729713245,0.400768020028787,-0.3605051659529784,-0.3751886184360155,-0.8521221082036448,-0.18589445133258958,-0.21863768045159696,1.4417486062588598,0.09632532403679053,-0.38060816573083894,-0.8521221082036448,-0.9683537922271578,1.597080196158909,-0.8521221082036448,-0.5476794122116484,0.30400700691499843,0.7755209493878045,-0.3751886184360155,-0.5221931174524993,-0.8521221082036448,0.16122263548740134,-0.8598605389098163,1.5502418595762015,-0.8521221082036448,0.7755209493878045,-1.0721890903000415,0.14113594887537023,-0.5476794122116484,0.5954817344270361,-0.5476794122116484,0.2910390384350397,0.09632532403679053,-0.5476794122116484,1.1754889302171838,1.2223272667998917,-0.767746394308045,-0.03800269332501171,0.11854824465940685,1.5502418595762015,-0.17292648285263085,0.09632532403679053,0.11854824465940685,1.0461836505509803,-0.5476794122116484,-0.5476794122116484,-0.43918615889430673,-0.40734350253568624,0.47107825339580817,-0.7436288548863034,-1.0658327287005698,0.7755209493878045,0.5242433246428658,0.09632532403679053,0.03822882721963581,-0.5540357738111201,1.7055734494762507,0.7755209493878045,-1.0658327287005698,-0.07074592244401905,0.400768020028787,1.4417486062588598,0.47107825339580817,0.400768020028787,-0.8521221082036448,0.11854824465940685,-0.8521221082036448,1.2848990694607414,0.47107825339580817,0.3303938744345341,-0.01990635998672249,0.47107825339580817,0.09632532403679053,-0.03800269332501171,-0.8521221082036448,-0.5888992389329402,-0.3751886184360155,-0.6393120604671063,-0.07074592244401905,0.7755209493878045,-0.18589445133258958,-1.0658327287005698,0.400768020028787,-1.1820644127240825,0.5954817344270361,-0.3751886184360155,0.930852539287854,-0.8521221082036448,1.5502418595762015,-0.521292544692113,-0.8521221082036448,1.597080196158909,-0.15965392464334827,-0.5149361830926411,-0.49142030245952845,0.400768020028787,0.450882242749253,-0.8521221082036448,0.11854824465940685,-0.8521221082036448,-0.5476794122116484,0.7755209493878045,-0.8521221082036448,1.1373059102668635,1.4011307534842543,-0.8521221082036448,0.22704149797674847,-0.8584784698031166,-0.18589445133258958,0.06958998723194332,-0.18589445133258958,-1.1820644127240825,0.5811044083416723,-0.9683537922271578,-0.8521221082036448,-0.5476794122116484,0.7755209493878045,0.22704149797674847,0.11854824465940685,-0.5149361830926411,1.1045626811478562,-0.7613900327085733,0.6657919677940575,-0.5476794122116484,-0.5149361830926411,1.2848990694607414,0.9702346637860535,-0.8776217167320863,0.11854824465940685,0.7755209493878045,0.18070103793239045,-1.0658327287005698,0.11854824465940685,-0.5476794122116484,-1.0658327287005698,-0.07616546973884238,0.5891253728275644,-1.1820644127240825,1.7055734494762507,-1.0658327287005698,-0.5476794122116484,0.11854824465940685,-0.8521221082036448,-0.043422240619835045,0.5900621871322126,-0.8521221082036448,-0.7436288548863034,-0.8521221082036448,0.7755209493878045,1.4011307534842543,0.7755209493878045,-0.04432281338022144,-0.5476794122116484,-0.8839780783315582,1.0669956768998419,0.754814550201674,-0.17292648285263085,-0.5476794122116484,0.7755209493878045,1.7055734494762507,-0.5476794122116484,1.4417486062588598,-0.21863768045159696,0.07082571550834917,1.5502418595762015,0.6264098432958576,-0.5476794122116484,-0.8521221082036448,-0.3751886184360155,-0.8521221082036448,0.1121918830599351,1.1754889302171838,-0.8521221082036448,0.400768020028787,-0.8521221082036448,0.6264098432958576,0.7171419187909293,-1.0658327287005698,-1.0658327287005698,-1.1884207743235546,0.8082641785068121,-0.5476794122116484,0.09632532403679053,-0.7613900327085733,0.400768020028787,0.11854824465940685,-0.3751886184360155,0.7625529809078457,0.6592892653642913,0.2610204553721614,-0.18589445133258958,0.400768020028787,-0.3751886184360155,0.7625529809078457,1.597080196158909,1.0669956768998419,-0.05759537158950421,0.09632532403679053,-0.17928284445210263,-0.17292648285263085,-0.5476794122116484,0.400768020028787,-0.18138283691842577,-0.5476794122116484,-0.5476794122116484,-0.07074592244401905,-0.7613900327085733,0.09632532403679053,0.9702346637860535,0.7298097517888383,1.1309495486673913,1.597080196158909,0.5900621871322126,-0.5476794122116484,0.63304873867505,-0.40596143342898644,0.09632532403679053,0.7625529809078457,1.597080196158909,-1.0658327287005698,-0.2908129045404156,1.5502418595762015,0.25193944771656074,-0.5476794122116484,-1.1820644127240825,-0.29111181851217305,0.7755209493878045,0.8082641785068121,0.30400700691499843,-0.8521221082036448,-0.18589445133258958,0.6985554404495543,-0.8521221082036448,-0.8521221082036448,0.03916564152428424,0.11854824465940685,-0.07710228404349082,-0.043422240619835045,-0.11738529646013426,-0.18589445133258958,-0.07740119801524822,0.6348365704265306,0.2976506453155266,-0.6895468977130296,0.11854824465940685,-0.39960507182951455,-0.18589445133258958,0.930852539287854,0.9648151164912303,1.4417486062588598,-0.5476794122116484,-0.39960507182951455,-0.7613900327085733,0.26644000266698475,-1.1884207743235546,0.400768020028787,0.3172795651242811,-1.0658327287005698,-0.18589445133258958,0.3944116584293152,1.0393457926051952,0.5811044083416723,1.4417486062588598,-0.5476794122116484,1.1127068744988085,-0.18589445133258958,-0.07710228404349082,0.8710462342251873,-0.10200023378330308,1.1754889302171838,0.15764815053594314,-0.18589445133258958,-0.8521221082036448,0.5420045024651359,0.7508133243270856,0.5954817344270361,-0.8521221082036448,1.0669956768998419,0.47107825339580817,1.0669956768998419,0.7755209493878045,0.21314566823769757,-0.18589445133258958,-1.1884207743235546,-0.5149361830926411,0.09632532403679053,-0.5476794122116484,0.8532850564029172,-1.0658327287005698,0.11854824465940685,1.597080196158909,-0.18589445133258958,0.1870573995318621,0.4262543147879363,0.400768020028787,0.7755209493878045,-0.07710228404349082,-0.38154498003548737,-0.8521221082036448,-1.0658327287005698,-0.5149361830926411,1.0669956768998419,0.47107825339580817,-0.5476794122116484,-0.7613900327085733,-0.09516237583751808,-0.8521221082036448,1.4417486062588598,1.4417486062588598,-0.8521221082036448,-0.8521221082036448,0.5811044083416723,-0.7613900327085733,-1.1820644127240825,0.11854824465940685,1.4353922446593876,-0.8521221082036448,-0.5476794122116484,0.5806986456968916,-0.8521221082036448,-0.5540357738111201,-0.3751886184360155,-0.515836755853028,0.930852539287854,-1.1820644127240825,-0.38150873849122524,1.7055734494762507,-0.8521221082036448,0.5554539672914076,0.19307892077337205,1.0669956768998419,1.4417486062588598,-1.0658327287005698,1.1127068744988085,0.3995322917523811,0.5795715067131494,0.30400700691499843,-0.4323483009485216,-0.4387046625479936,-0.8521221082036448,0.7755209493878045,0.9635957684068617,-0.21863768045159696,-0.9747101538266297,-0.9683537922271578,0.7379539451397907,1.4417486062588598,0.7755209493878045,1.1564647356198026,1.4417486062588598,-0.5230803764435933,-0.5149361830926411,1.4417486062588598,-0.8521221082036448,-0.844878487613079,-0.39960507182951455,1.4417486062588598,-0.844878487613079,0.400768020028787,0.5891253728275644,-0.5476794122116484,1.1373059102668635,-0.18589445133258958,-0.3751886184360155,1.1045626811478562,0.9635957684068617,-0.8521221082036448,0.11854824465940685,-0.23361698048364724,-0.063951733188976,1.4417486062588598,0.13542522991332698,-1.1820644127240825,0.09632532403679053,-0.8521221082036448,0.7755209493878045,-0.9683537922271578,-0.17292648285263085,-1.1820644127240825,-0.8130222023271088,0.16938780711670315,-0.18589445133258958,-0.8521221082036448,-0.09516237583751808,0.09632532403679053,-0.9683537922271578,-0.8521221082036448,-0.5149361830926411,-1.1820644127240825,-0.5476794122116484,0.11854824465940685,1.1045626811478562,0.7625529809078457,-0.8521221082036448,1.0669956768998419,-0.07710228404349082,-0.07074592244401905,0.930852539287854,-0.7613900327085733,0.1642594422583729,0.27387983455945625,0.5900621871322126,0.09632532403679053,-0.3751886184360155,0.09632532403679053,-0.8521221082036448,-0.3751886184360155,-0.07074592244401905,0.11854824465940685,0.09632532403679053,0.95585733770069,-0.8521221082036448,0.6357733847311791,-0.7613900327085733,0.16845099281205486,0.400768020028787,-1.1820644127240825,0.7755209493878045,0.09632532403679053,-0.515836755853028,-0.2104934871006446,-0.5476794122116484,0.18777532289148532,1.597080196158909,0.4933011740184243,0.26644000266698475,0.7625529809078457,0.400768020028787,-0.2104934871006446,0.43351124914779443,-0.18589445133258958,0.11854824465940685,-0.8521221082036448,-0.7613900327085733,0.63304873867505,-1.0658327287005698,-1.0721890903000415,0.9648151164912303,-0.5540357738111201,0.7755209493878045,-0.4773691788446274,1.2598942710479053,0.09632532403679053,-0.4387046625479936,0.4933011740184243,-0.36794499784544954,-0.18589445133258958,0.5900621871322126,0.3172795651242811,0.3944116584293152,0.4386321976289176,-1.0658327287005698,-0.6311678671161546,-0.21863768045159696,-0.5476794122116484,0.11854824465940685,-0.36203806758150076,-0.2104934871006446,-1.1820644127240825,1.597080196158909,-0.8521221082036448,-0.5476794122116484,-0.5476794122116484,0.7625529809078457,0.400768020028787,-0.7286468035895658,-0.14018325373362353,1.7055734494762507,0.6985554404495543,0.11854824465940685,-0.7051309229564534,-0.8521221082036448,-0.5476794122116484,0.3944116584293152,-0.5476794122116484,-0.9683537922271578,1.4417486062588598,-0.5476794122116484,-0.8521221082036448,0.43351124914779443,0.47107825339580817,-0.7436288548863034,-0.8521221082036448,-1.1820644127240825,-0.8521221082036448,1.7055734494762507,-0.7286468035895658,1.5502418595762015,0.11854824465940685,-0.07074592244401905,-0.5476794122116484,-1.0658327287005698,-1.1820644127240825,-0.9683537922271578,-0.8584784698031166,-0.8521221082036448,-0.18589445133258958,0.6017944273357658,-0.18589445133258958,-0.7169068318507483,-1.1820644127240825,0.7755209493878045,0.2910390384350397,-1.0658327287005698,-0.5476794122116484,-1.1820644127240825,-0.5540357738111201,-0.9683537922271578,-0.8521221082036448,0.11854824465940685,-0.2104934871006446,-0.09516237583751808,0.39411274445755784,0.8001199851558595,0.7625529809078457,-1.0658327287005698,-0.07616546973884238,0.4125002602323401,-1.1820644127240825,0.930852539287854,1.4417486062588598,-0.19363288203876136,0.09632532403679053,1.4417486062588598,-0.39960507182951455,1.4353922446593876,-0.5476794122116484,-0.09516237583751808,-0.5476794122116484,-0.8521221082036448,0.8710462342251873,0.400768020028787,-0.38154498003548737,-0.8521221082036448,-0.18589445133258958,0.5092612733461286,1.0592572461936705,0.2910390384350397,-0.8521221082036448,-0.38154498003548737,-1.0658327287005698,0.8840142027051457,-0.07740119801524822,0.2910390384350397,-0.07074592244401905,-1.0658327287005698,1.1373059102668635,-0.07074592244401905,-0.1759632896236023,-0.14322006050459504,-0.844878487613079,-0.07740119801524822,-0.5476794122116484,0.11854824465940685,-0.302126135356103,-1.1820644127240825,0.09632532403679053,0.3944116584293152,0.6005750792513967,-0.8521221082036448,-0.7613900327085733,-1.0658327287005698,0.11854824465940685,1.597080196158909,0.400768020028787,-0.8584784698031166,0.7379539451397907,1.7055734494762507,-0.48582553291042213,-0.18589445133258958,0.400768020028787,0.013330877479823477,0.11854824465940685,-0.5476794122116484,1.4417486062588598,0.7755209493878045,-0.7051309229564534,-0.07074592244401905,0.47107825339580817,1.597080196158909,-0.5149361830926411,0.26644000266698475,-0.9683537922271578,0.400768020028787,0.4529822352155762,1.597080196158909,0.42536705579684203,-0.07616546973884238,-0.8521221082036448,-0.5476794122116484,1.7055734494762507,0.11854824465940685,0.756196619308374,-0.8521221082036448,-0.8521221082036448,1.1309495486673913,-0.3751886184360155,0.09632532403679053,0.31144683880747,1.597080196158909,-0.2104934871006446,0.2856194911402164,-0.5476794122116484,-0.8521221082036448,-0.5476794122116484,-0.5476794122116484,0.30400700691499843,-0.5476794122116484,-0.5476794122116484,0.47107825339580817,0.30400700691499843,-0.5476794122116484,0.09632532403679053,-0.8521221082036448,-0.8521221082036448,0.7755209493878045,-0.8521221082036448,-1.1820644127240825,-0.8530226809640312,-0.5888992389329402,-0.18589445133258958,0.7315975835403189,0.400768020028787,-0.8530226809640312,-0.5149361830926411,1.4417486062588598,0.43351124914779443,-0.5476794122116484,-0.9573394753832284,0.2610204553721614,0.930852539287854,-0.7286468035895658,0.9702346637860535,-0.8521221082036448,0.47107825339580817,-0.7613900327085733,1.3255169222353467,-0.5476794122116484,1.4417486062588598,0.27387983455945625,-0.1015187374369897,1.597080196158909,0.8840142027051457,-0.18589445133258958,-1.1884207743235546,-0.5476794122116484,-0.5476794122116484,-0.515836755853028,-0.01990635998672249,-0.11738529646013426,0.6017944273357658,0.43351124914779443,1.7055734494762507,0.5891253728275644,0.11854824465940685,-0.7613900327085733,1.4417486062588598,-0.7613900327085733,0.2610204553721614,-0.8521221082036448,-0.7613900327085733,0.11854824465940685,-0.8521221082036448,0.7625529809078457,-0.33608871255947914,-0.17928284445210263,0.11854824465940685,-0.18589445133258958,-0.06443322953528934,-0.8521221082036448,-1.0658327287005698,1.4417486062588598,-0.8073114833650649,0.09632532403679053,0.2795905535214994,-0.2104934871006446,0.400768020028787,-0.07074592244401905,-0.07074592244401905,0.626692377075578,-0.43918615889430673,0.11854824465940685,0.7755209493878045,0.09632532403679053,1.5502418595762015,-0.5476794122116484,1.7055734494762507,0.7755209493878045,0.7755209493878045,-1.1884207743235546,1.7055734494762507,-0.07074592244401905,0.400768020028787,0.7379539451397907,-0.18589445133258958,0.400768020028787,0.9702346637860535,-0.49777666405900034,0.15020831864347167,-0.5476794122116484,0.400768020028787,-0.17292648285263085,0.400768020028787,0.5900621871322126,-0.14832744708457588,0.35484656937229514,-0.07740119801524822,-1.0658327287005698,0.8082641785068121,-0.5476794122116484,-0.8521221082036448,-0.3751886184360155,0.11854824465940685,1.1373059102668635,0.4792500504035232,-0.17292648285263085,0.30400700691499843,-1.1820644127240825,-1.0658327287005698,0.11854824465940685,-1.1820644127240825,0.1121918830599351,0.5811044083416723,-0.17292648285263085,0.400768020028787,-0.09516237583751808,0.9702346637860535,0.400768020028787,-0.5476794122116484,1.4417486062588598,-1.1820644127240825,0.11854824465940685,-0.051160671326006664,1.597080196158909,0.400768020028787,0.7691645877883326,-0.7613900327085733,-0.3751886184360155,-0.18589445133258958,-0.5149361830926411,-1.0658327287005698,-0.5476794122116484,-0.5476794122116484,1.2848990694607414,-0.6967905183035954,1.0669956768998419,1.7055734494762507,1.4417486062588598,1.597080196158909,-0.18589445133258958,-0.5476794122116484,0.30400700691499843,0.013330877479823477,0.400768020028787,0.7625529809078457,-0.07740119801524822,-0.8584784698031166,0.09632532403679053,-0.3751886184360155,0.930852539287854,-0.5476794122116484,-0.43918615889430673,-0.07616546973884238,0.15790308065890113,0.26644000266698475,0.11854824465940685,0.8192788105087986,-0.01990635998672249,-0.07074592244401905,-0.8521221082036448,0.15611524890742068,-0.515836755853028,-0.8521221082036448,0.930852539287854,-0.5476794122116484,0.9638783021865818,-0.8598605389098163,-0.8521221082036448,-1.1820644127240825,1.4417486062588598,1.5502418595762015,-0.8521221082036448,0.2582958093160325,-0.9747101538266297,0.27387983455945625,0.2910390384350397,1.5502418595762015,0.5488423604109207,1.0669956768998419,0.11854824465940685,1.0669956768998419,0.11854824465940685,-0.18589445133258958,-0.8521221082036448,-0.3751886184360155,0.7039749877443778,0.13542522991332698,0.400768020028787,0.43351124914779443,1.4417486062588598,0.7379539451397907,-1.0721890903000415,0.7755209493878045,0.32318649538823013,0.400768020028787,-0.39960507182951455,-0.5540357738111201,-0.18589445133258958,-0.39960507182951455,-1.0658327287005698,0.11854824465940685,-0.3751886184360155,-0.7613900327085733,0.47107825339580817,0.7691645877883326,0.7755209493878045,-0.8521221082036448,1.2223272667998917,-0.5476794122116484,-0.5476794122116484,0.26644000266698475,-0.736790996940518,-0.18589445133258958,-0.0004356890769979061,0.09632532403679053,-0.8521221082036448,-0.8521221082036448,-0.736790996940518,-0.5476794122116484,-0.6639110962351613,0.09632532403679053,-0.3751886184360155,-0.5476794122116484,-0.5476794122116484,-0.3751886184360155,-0.07074592244401905,-0.5476794122116484,0.7755209493878045,-0.01990635998672249,-0.515836755853028,0.9648151164912303,1.597080196158909,-0.01990635998672249,1.1127068744988085,-0.844878487613079,0.09632532403679053,-0.8521221082036448,-0.07074592244401905,-0.8584784698031166,0.930852539287854,0.400768020028787,0.5618103288908795,-0.5476794122116484,-0.5476794122116484,-0.47583627721610494,-0.39960507182951455,-0.1605907389479967,0.7755209493878045,1.4417486062588598,-0.7613900327085733,0.7755209493878045,0.7625529809078457,1.1127068744988085,1.7055734494762507,-0.18589445133258958,1.1127068744988085,0.2910390384350397,0.8532850564029172,-0.18589445133258958,-0.7436288548863034,-0.5476794122116484,0.5560996099288364,-0.8521221082036448,0.47107825339580817,0.9702346637860535,0.400768020028787,-0.39960507182951455,0.930852539287854,0.7755209493878045,-0.8521221082036448,-0.5476794122116484,-0.8521221082036448,-0.8521221082036448,0.09632532403679053,-0.8521221082036448,-0.8130222023271088,0.5488423604109207,-0.07074592244401905,-0.43918615889430673,1.1045626811478562,-0.18589445133258958,0.400768020028787,1.2848990694607414,-0.17292648285263085,0.7755209493878045,0.11854824465940685,-1.0658327287005698,0.11854824465940685,-0.28450021163168604,-0.9683537922271578,0.11854824465940694,-0.6639110962351613,-0.8521221082036448,0.18705739953186215,0.30400700691499843,-0.7613900327085733,0.703974987744378,1.5502418595762015,-0.9573394753832284,-0.18589445133258958,-1.1820644127240825,1.550241859576201],\"xaxis\":\"x\",\"y\":[-0.21907878279008972,0.3881899596897034,0.7304350663348302,-0.3527523306962449,-0.807610146457948,-0.14925715704199688,1.1580636909251352,-0.2130959981435295,0.2586170109588534,0.9988227205761073,-0.9600210731760498,0.859166388023392,-0.8203647406233345,1.1392549969445593,0.39155397809630277,-0.14925715704199688,-0.21309599814352953,0.4316307170025357,-0.4389879537859302,0.859166388023392,0.859166388023392,0.4520288007912387,0.26734232111756673,1.081470255658216,-0.07266372177507777,0.08087215959714154,-0.35275233069624506,0.1103404145210178,-0.17563802547726884,-0.07266372177507777,-0.21309599814352953,-0.4023595510041872,-0.21309599814352953,-1.0238599142775824,-0.07266372177507777,-1.0238599142775824,-0.07266372177507777,-1.0238599142775824,-1.0402739116191653,0.17164480710047145,1.1332197681944391,-0.07266372177507777,-0.05385502779450176,0.4613756038444049,-1.0238599142775824,0.34393575638448565,0.2082732098822146,1.0626615616776403,-0.14925715704199688,-0.21309599814352953,0.20686749842263089,-0.520413798236094,0.9988227205761073,0.2518976455435876,-0.03856976751541384,-0.5130469405307699,-1.0238599142775824,-0.8842035817248673,-0.14925715704199688,-0.21309599814352953,0.39753676274287214,-0.13650256287661075,-0.07266372177507777,0.32771513699477006,-0.21309599814352953,0.23548364820200454,0.5126201362143478,0.34393575638448565,-0.4364535052638509,-0.14925715704199688,-0.7437713053564151,-0.03856976751541384,0.7858439820472486,-0.5768857816323028,-0.03856976751541384,0.275031008300436,-0.14925715704199688,0.39155397809630277,1.017631414556684,-0.03856976751541384,-0.41322715339118066,-0.5130469405307699,-0.5130469405307699,-0.03856976751541384,0.6186189397457511,-0.11516320278233305,0.24853362713699031,0.7220051409457159,1.0626615616776403,0.47083749477181486,-0.14925715704199688,-0.35275233069624506,0.2586170109588534,-0.5130469405307699,-0.13650256287661075,0.39753676274287214,-0.5768857816323028,-0.27357082083846546,0.32771513699477006,-0.14925715704199688,-0.8842035817248673,0.9988227205761073,0.34393575638448565,-0.13044846306142055,0.4613756038444049,0.39155397809630277,0.9461385918817734,-0.1227597758785509,-0.14925715704199688,-0.8842035817248673,-0.10395108189797468,1.1733489512042226,0.2586170109588534,1.0626615616776403,0.4146873408531515,-0.8203647406233345,-0.11769386889603449,-0.07266372177507777,-1.0238599142775824,-0.8842035817248673,-0.03856976751541384,0.4069986536702821,1.1392549969445593,-0.9600210731760498,-0.21309599814352953,0.698871778188867,-0.9600210731760498,-0.14925715704199688,-0.8076101464579484,-0.35275233069624506,-0.7862707863636705,0.39155397809630277,-0.14925715704199688,-0.21309599814352953,-0.5768857816323028,0.42311726624226514,-0.14925715704199688,-0.14925715704199688,-0.12612379428514792,-0.21309599814352953,-0.5130469405307699,-1.0238599142775824,0.39155397809630277,-0.7165421141850181,-0.2295099954851128,-0.14925715704199688,0.9988227205761073,1.1392549969445593,0.18805880444205444,0.9988227205761073,0.2586170109588534,-0.03856976751541384,0.9988227205761073,-0.14925715704199688,-0.1942873041629534,-0.21309599814352953,-0.4789529862711064,0.9988227205761073,0.9988227205761073,-0.7972313778664853,-0.5768857816323028,0.17164480710047145,-0.03856976751541384,0.17164480710047145,-0.03856976751541384,-0.03856976751541384,0.3806177852350102,1.0626615616776403,-0.14925715704199688,1.0754161558430264,1.0754161558430264,0.4613756038444049,-0.35275233069624506,-0.6576754341498162,0.18805880444205444,0.18805880444205444,-1.0238599142775824,0.23548364820200454,0.4741301980097907,-0.17563802547726884,0.49537660453461885,-0.8493336836494668,-1.0214652176385892,-1.0238599142775824,0.24853362713699031,0.39155397809630277,-0.5130469405307699,-0.8203647406233345,-1.0238599142775824,-0.4565749571345611,1.0626615616776403,-0.21309599814352953,-0.21309599814352953,-0.21309599814352953,-0.13650256287661075,-0.27357082083846546,-0.8842035817248673,0.2586170109588534,-0.5130469405307699,-0.21309599814352953,-0.03856976751541384,-0.05385502779450176,0.6350329370873342,-1.0238599142775824,-0.8015560466427579,0.2586170109588534,-0.5130469405307699,0.19045350108104792,0.2938397022810124,0.2518976455435876,-0.5130469405307699,0.18805880444205444,-0.1942873041629534,-0.21309599814352953,0.4954695581040687,0.9545685172708872,-0.9533017077607836,-0.07266372177507777,0.9824087232345244,-0.8203647406233345,-0.4789529862711064,0.4845089666012537,-0.14925715704199688,0.2518976455435876,-0.193511360347217,-0.5768857816323028,0.6538416310679106,-0.14925715704199688,0.32771513699477006,-0.21309599814352953,-0.14925715704199688,-0.21309599814352953,-0.10240860861694698,-1.0238599142775824,-0.03856976751541384,-0.8203647406233345,-0.019761073534837914,0.23548364820200454,0.11137238005931423,-0.14925715704199688,0.23548364820200454,-1.0238599142775824,0.17164480710047145,-0.8026847837052533,1.096755515937304,-0.7437713053564151,0.3806177852350102,-0.13650256287661075,0.9988227205761073,-0.03856976751541384,0.20686749842263089,-0.43776626315398487,-0.14925715704199688,0.9988227205761073,-0.07266372177507777,-0.13044846306142055,-0.5768857816323028,-0.8203647406233345,-0.03856976751541384,-0.14925715704199688,0.4613756038444049,-0.500292346365384,1.0626615616776403,-0.90061757906645,-0.7165421141850181,0.5555560424599548,-0.8653948877442909,-0.14686246040300352,-0.07266372177507777,-0.35275233069624506,-0.7165421141850181,0.9988227205761073,-0.14925715704199688,-0.21309599814352953,-0.8842035817248673,0.32771513699477006,-0.8203647406233345,-0.21309599814352953,-0.21309599814352953,-0.8203647406233345,0.2774257049394294,-0.13650256287661075,1.0857949244344893,1.017631414556684,-0.16567115438357974,-0.21309599814352953,0.37513998075471994,0.17164480710047145,-1.0238599142775824,-0.17563802547726884,-0.8367787379649172,0.39753676274287214,0.39155397809630277,0.6538416310679106,-0.8203647406233345,-0.5130469405307699,-0.500292346365384,-0.520413798236094,1.0626615616776403,1.1733489512042226,0.014308482083303794,0.9988227205761073,0.9988227205761073,1.0857949244344893,0.698871778188867,1.1392549969445593,0.7553437615850762,-0.14925715704199688,0.9638185487998543,-0.07266372177507777,0.2586170109588534,-0.8842035817248673,-0.14925715704199688,-0.21309599814352953,-0.5768857816323028,1.0626615616776403,-0.07266372177507777,-0.500292346365384,-0.21309599814352953,-0.8203647406233345,0.17164480710047145,0.5627161903178212,0.4613756038444049,1.0626615616776403,-0.7096773510967513,-0.07266372177507777,-0.5130469405307699,0.0902189626503078,1.2262272008029407,1.1386975726747288,-0.2295099954851128,-1.0238599142775824,-0.03856976751541384,-0.21309599814352953,-0.5130469405307699,-0.8842035817248673,-0.14925715704199688,-0.3262549495327992,-0.9600210731760498,0.12071918311248048,-0.08907771911666072,-0.03856976751541384,1.096755515937304,-0.41322715339118066,-0.14925715704199688,-0.35275233069624506,-0.14925715704199688,1.1392549969445593,1.1496337655360218,-0.21309599814352953,1.0626615616776403,0.38818995968970577,0.09758582035563163,-0.019761073534837914,-0.7165421141850181,1.0857949244344893,-0.14925715704199688,0.859166388023392,0.38818995968970577,0.275031008300436,-0.8842035817248673,0.8932603422830557,-0.4023595510041872,-0.14925715704199688,1.1496337655360218,0.6699028351627343,1.0626615616776403,0.4163454567234485,-0.5768857816323028,-0.07266372177507777,-0.4789529862711064,1.1046036184150654,0.9988227205761073,-0.11516320278233305,0.9988227205761073,0.13167977461529545,0.04840243634296752,-0.4565749571345611,1.017631414556684,-0.349388312289648,0.8423159654434575,0.18805880444205444,-0.21309599814352953,-0.21309599814352953,-1.0238599142775824,0.9988227205761073,0.4954695581040687,-0.21309599814352953,0.39155397809630277,0.15405780375184064,-0.21309599814352953,0.9461385918817734,0.2518976455435876,-0.9764350705176326,-0.5932997789738859,-1.0238599142775824,-0.8203647406233345,-0.14925715704199688,-0.21309599814352953,-0.8203647406233345,0.4613756038444049,-0.4023595510041872,1.0626615616776403,-0.8842035817248673,-0.03856976751541384,-1.0238599142775824,0.23548364820200454,1.017631414556684,-0.21309599814352953,1.0626615616776403,-0.4565749571345611,-0.21309599814352953,-0.14925715704199688,0.9988227205761073,-0.019761073534837914,-0.4389879537859302,0.9988227205761073,-0.19092328575635625,-0.49423824655019377,-0.03856976751541384,0.4681474133632214,0.9988227205761073,1.2262272008029407,-0.11516320278233305,-0.03856976751541384,0.18805880444205444,-0.07266372177507777,0.17164480710047145,-0.8203647406233345,0.34393575638448565,0.49537660453461885,-0.4389879537859302,-0.27615889542932603,0.859166388023392,0.4785261819546845,0.7784771243419251,0.25788043019015655,0.698871778188867,0.5022413676228856,0.39753676274287214,-0.5130469405307699,-0.8203647406233345,-0.16019334990328962,0.04840243634296752,-0.03856976751541384,0.26734232111756673,-0.21309599814352953,-0.03856976751541384,-0.03856976751541384,0.4835920889372011,1.0626615616776403,0.39155397809630277,0.7329657324485308,1.0626615616776403,-0.8842035817248673,0.09758582035563163,-0.27357082083846546,0.18805880444205444,1.0626615616776403,-0.7437713053564151,0.08087215959714154,0.32771513699477006,-0.21309599814352953,-0.14925715704199688,-0.14925715704199688,-0.14925715704199688,-0.8203647406233345,-0.21309599814352953,-0.14925715704199688,-1.0238599142775824,-0.11516320278233305,-0.21309599814352953,-0.21309599814352953,0.34393575638448565,-1.0402739116191653,-0.13650256287661075,-1.0402739116191653,0.2938397022810124,-0.21309599814352953,1.2791298490431808,0.7517744264291067,-0.13650256287661075,1.0754161558430264,-0.03856976751541384,0.698871778188867,-0.07266372177507777,-0.9412123791954734,0.9988227205761073,0.34393575638448565,0.43840252652135253,-0.21309599814352953,-0.14925715704199688,0.9988227205761073,0.31130113965318695,-0.8842035817248673,-0.41322715339118066,0.9988227205761073,-0.14925715704199688,1.0754161558430264,-0.21309599814352953,0.9988227205761073,-0.07266372177507777,1.017631414556684,-0.03856976751541384,-0.4225739564443472,0.5592154456361517,-0.21309599814352953,-0.03856976751541384,1.1392549969445593,-0.13044846306142055,-0.21309599814352953,-0.07266372177507777,-0.07266372177507777,1.0626615616776403,0.9988227205761073,0.39753676274287214,-0.21309599814352953,0.698871778188867,-0.03856976751541384,0.5719700398015377,0.32771513699477006,-0.30857499261471844,-0.03856976751541384,-0.14925715704199688,-0.21309599814352953,-0.7437713053564151,-0.4389879537859302,-0.13044846306142055,-0.13650256287661075,1.1733489512042226,-0.07266372177507777,0.698871778188867,-0.8842035817248673,1.0626615616776403,-0.18659861698008373,0.5379690391113239,-0.5130469405307699,-0.21309599814352953,0.39753676274287214,-0.8501096274652035,0.18805880444205444,0.859166388023392,0.6358088809030706,-0.8842035817248673,1.1569349538626397,-0.5130469405307699,-0.14925715704199688,1.0626615616776403,0.38818995968970577,0.18805880444205444,-0.8203647406233345,-0.4565749571345611,-0.14925715704199688,-0.11516320278233305,0.17164480710047145,-0.14925715704199688,-0.21309599814352953,-0.7165421141850181,-1.0238599142775824,-0.5130469405307699,1.1921576451847993,-0.14925715704199688,0.19731261837939942,-0.02819099892395138,0.275031008300436,-0.14925715704199688,-1.0238599142775824,-0.05385502779450176,-0.8493336836494668,-0.21309599814352953,0.6350329370873342,-0.21309599814352953,0.698871778188867,-0.8203647406233345,-0.21309599814352953,0.4146873408531515,0.31130113965318695,-0.11769386889603449,0.09758582035563163,0.9988227205761073,0.275031008300436,-0.35275233069624506,-0.8203647406233345,0.9988227205761073,-0.3623945185190113,-0.21309599814352953,-0.21309599814352953,-0.12612379428514792,1.2603211550626046,-0.9600210731760498,-0.0622849531836152,-0.07266372177507777,-1.0238599142775824,-0.19697738557154645,-0.8203647406233345,0.11980230544842786,-0.1942873041629534,0.2586170109588534,-1.0238599142775824,-0.07266372177507777,-0.5768857816323028,-0.8842035817248673,0.18805880444205444,-0.9600210731760498,-0.8842035817248673,-0.14925715704199688,0.9988227205761073,-0.14925715704199688,0.35654980632004996,-0.9600210731760498,-0.02326181821650756,-0.7862707863636705,-0.9600210731760498,-0.8203647406233345,0.09758582035563163,-0.14925715704199688,-0.4364535052638509,-0.5130469405307699,0.4861227550509026,-0.5768857816323028,-1.0238599142775824,1.0626615616776403,-0.07266372177507777,-0.8842035817248673,-0.03856976751541384,0.6350329370873342,-0.5130469405307699,-1.0402739116191653,-0.14925715704199688,0.275031008300436,0.4801842978249813,-0.14925715704199688,0.17164480710047145,0.1881517580115044,0.4613756038444049,-0.4789529862711064,-0.8842035817248673,-0.7370519399411496,-0.14925715704199688,0.9988227205761073,-0.14925715704199688,-0.21309599814352953,-1.0238599142775824,-0.14925715704199688,0.2518976455435876,0.32245585206038613,-0.14925715704199688,1.0857949244344893,-0.13044846306142055,1.0626615616776403,0.8965313715738313,1.0626615616776403,-0.03856976751541384,-0.10507981896047006,-0.11516320278233305,-0.14925715704199688,-0.21309599814352953,-1.0238599142775824,1.0857949244344893,0.9988227205761073,0.4613756038444049,-0.4225739564443472,-0.13650256287661075,0.5592154456361517,-0.21309599814352953,0.4613756038444049,0.35654980632004996,0.49537660453461885,-0.10240860861694698,0.9988227205761073,-1.0238599142775824,-0.7888014524773718,-0.07266372177507777,0.9988227205761073,-0.21309599814352953,-0.07266372177507777,-0.520413798236094,0.6538416310679106,-0.03856976751541384,0.2586170109588534,-0.07266372177507777,-0.21309599814352953,0.9988227205761073,-0.14925715704199688,0.15405780375184064,0.691504920483543,-0.14925715704199688,-0.0622849531836152,-0.14925715704199688,-1.0238599142775824,0.32245585206038613,-1.0238599142775824,0.8660311511116588,-0.21309599814352953,-0.08359991463637084,0.32771513699477006,0.5126201362143478,-0.35275233069624506,-0.21309599814352953,-1.0238599142775824,0.2586170109588534,-0.21309599814352953,0.18805880444205444,0.38818995968970577,-0.7735161921982843,0.275031008300436,-0.9764350705176326,-0.21309599814352953,-0.14925715704199688,-0.5130469405307699,-0.14925715704199688,1.017631414556684,0.4146873408531515,-0.14925715704199688,-0.8842035817248673,-0.14925715704199688,-0.9764350705176326,-0.963680476352247,-0.07266372177507777,-0.07266372177507777,-0.019761073534837914,-0.349388312289648,-0.21309599814352953,-0.8203647406233345,-0.13650256287661075,-0.8842035817248673,0.9988227205761073,-0.5130469405307699,0.39155397809630277,-0.9897659600179188,0.0902189626503078,1.0626615616776403,-0.8842035817248673,-0.5130469405307699,0.39155397809630277,0.17164480710047145,0.32771513699477006,0.3251270624039092,-0.8203647406233345,-0.3339436367156687,-0.35275233069624506,-0.21309599814352953,-0.8842035817248673,-0.35684815911079343,-0.21309599814352953,-0.21309599814352953,-0.5768857816323028,-0.13650256287661075,-0.8203647406233345,0.49537660453461885,-0.28291762389163166,0.27070633952416345,0.17164480710047145,0.691504920483543,-0.21309599814352953,-0.11525615635178299,1.1580636909251352,-0.8203647406233345,0.39155397809630277,0.17164480710047145,-0.07266372177507777,-0.4814836523848075,0.275031008300436,0.043208870181508964,-0.21309599814352953,-0.03856976751541384,1.2262272008029407,-1.0238599142775824,-0.349388312289648,-0.7165421141850181,-0.14925715704199688,1.0626615616776403,0.7784771243419251,-0.14925715704199688,-0.14925715704199688,0.15746559486406042,0.9988227205761073,-0.5580770876517265,0.15405780375184064,-0.7437713053564151,1.0626615616776403,1.1496337655360218,-0.08710065931804033,-0.6977334202044417,0.5556489960294045,0.9988227205761073,1.1392549969445593,1.0626615616776403,-1.0402739116191653,0.5518485879308276,0.18805880444205444,-0.21309599814352953,1.1392549969445593,-0.13650256287661075,0.03374697925409889,-0.019761073534837914,-0.8842035817248673,-0.17563802547726884,-0.07266372177507777,1.0626615616776403,-0.8653948877442909,-0.9533017077607836,-0.10507981896047006,0.18805880444205444,-0.21309599814352953,-0.41322715339118066,1.0626615616776403,-0.5580770876517265,0.4785261819546845,0.4845089666012537,0.4146873408531515,1.0165026774941879,1.0626615616776403,-0.14925715704199688,-0.1227597758785509,0.6186189397457511,0.6350329370873342,-0.14925715704199688,0.32771513699477006,-0.9600210731760498,0.32771513699477006,-1.0238599142775824,0.9553980516090336,1.0626615616776403,-0.019761073534837914,0.4613756038444049,-0.8203647406233345,-0.21309599814352953,0.40430857226168876,-0.07266372177507777,0.9988227205761073,0.17164480710047145,1.0626615616776403,-0.8076101464579484,0.5210500616034619,-0.8842035817248673,-1.0238599142775824,-0.5580770876517265,-0.49423824655019377,-0.14925715704199688,-0.07266372177507777,0.4613756038444049,0.32771513699477006,-0.9600210731760498,-0.21309599814352953,-0.13650256287661075,1.0754161558430264,-0.14925715704199688,0.18805880444205444,0.18805880444205444,-0.14925715704199688,-0.14925715704199688,-0.10507981896047006,-0.13650256287661075,-0.03856976751541384,0.9988227205761073,0.20686749842263089,-0.14925715704199688,-0.21309599814352953,-0.2354927801316817,-0.14925715704199688,-0.1942873041629534,-0.5130469405307699,1.1733489512042226,-1.0402739116191653,-0.03856976751541384,0.255398390225257,0.2586170109588534,-0.14925715704199688,-0.9284577850300872,-0.5063275751155041,0.32771513699477006,0.18805880444205444,-0.07266372177507777,-0.41322715339118066,0.7858439820472486,-0.8730488693176679,-0.7165421141850181,0.46478339495662474,0.4835920889372011,-0.14925715704199688,-1.0238599142775824,-0.36580230963123095,0.38818995968970577,-0.09635450880175694,-0.11516320278233305,-0.27357082083846546,0.18805880444205444,-1.0238599142775824,-0.247266817626887,0.18805880444205444,0.4520288007912387,0.4613756038444049,0.18805880444205444,-0.14925715704199688,0.5720629933709875,1.1392549969445593,0.18805880444205444,0.5720629933709875,-0.8842035817248673,0.6538416310679106,-0.21309599814352953,0.2518976455435876,1.0626615616776403,-0.5130469405307699,-0.4225739564443472,-0.36580230963123095,-0.14925715704199688,0.9988227205761073,-0.7096773510967513,0.34393575638448565,0.18805880444205444,-0.8026847837052533,-0.03856976751541384,-0.8203647406233345,-0.14925715704199688,-1.0238599142775824,-0.11516320278233305,-0.35275233069624506,-0.03856976751541384,-0.13157720012391597,0.7894377158447394,1.0626615616776403,-0.14925715704199688,1.0754161558430264,-0.8203647406233345,-0.11516320278233305,-0.14925715704199688,0.4613756038444049,-0.03856976751541384,-0.21309599814352953,0.9988227205761073,-0.4225739564443472,0.39155397809630277,-0.14925715704199688,0.32771513699477006,-0.5580770876517265,-0.5768857816323028,-1.0402739116191653,-0.13650256287661075,0.25788043019015655,0.9824087232345244,0.691504920483543,-0.8203647406233345,-0.5130469405307699,-0.8203647406233345,-0.14925715704199688,-0.5130469405307699,-0.5768857816323028,0.9988227205761073,-0.8203647406233345,-0.24473615151318534,-0.14925715704199688,-0.049437369902407685,-0.13650256287661075,0.7517744264291067,-0.8842035817248673,-0.03856976751541384,-1.0238599142775824,-0.8203647406233345,1.1733489512042226,0.39753676274287214,-0.21309599814352953,-0.6824481599253546,0.17164480710047145,0.859166388023392,0.03374697925409889,0.39155397809630277,-0.8842035817248673,0.39753676274287214,-0.20973197973693244,1.0626615616776403,0.9988227205761073,-0.14925715704199688,-0.13650256287661075,-0.11525615635178299,-0.07266372177507777,-0.05385502779450176,0.5518485879308276,-0.1942873041629534,-1.0238599142775824,-0.2889134895947122,-0.4389879537859302,-0.8203647406233345,0.4835920889372011,0.859166388023392,0.2082732098822146,1.0626615616776403,0.691504920483543,-0.17563802547726884,-0.8653948877442909,0.8035239389653293,-0.07266372177507777,0.4954695581040687,0.38818995968970577,-0.21309599814352953,0.9988227205761073,0.3889659035054421,0.39753676274287214,-0.03856976751541384,0.17164480710047145,-0.14925715704199688,-0.21309599814352953,-0.21309599814352953,0.39155397809630277,-0.8842035817248673,0.5379690391113239,0.3217192712916894,0.2586170109588534,0.7784771243419251,0.9988227205761073,-0.4023595510041872,-0.14925715704199688,-0.21309599814352953,-0.8653948877442909,-0.21309599814352953,-0.11516320278233305,0.18805880444205444,-0.21309599814352953,-0.14925715704199688,-0.20973197973693244,-0.9600210731760498,-0.0622849531836152,-0.14925715704199688,-0.03856976751541384,-0.14925715704199688,0.2586170109588534,0.5379690391113239,0.275031008300436,0.9988227205761073,-0.5768857816323028,-0.21309599814352953,-0.07266372177507777,-0.03856976751541384,-0.11516320278233305,-0.13044846306142055,-0.14925715704199688,1.0626615616776403,0.9461385918817734,1.0626615616776403,-0.32707887362740196,-0.03856976751541384,-1.0238599142775824,0.698871778188867,-0.07266372177507777,-0.21309599814352953,-0.03856976751541384,-0.1942873041629534,-0.11516320278233305,-0.14925715704199688,0.9988227205761073,0.39753676274287214,1.0754161558430264,0.8423159654434575,-0.35873511534281416,0.39155397809630277,-0.07266372177507777,-0.520413798236094,-0.6295699103266367,-0.03856976751541384,-1.0402739116191653,0.18805880444205444,1.1837277197956855,-0.8203647406233345,0.18805880444205444,1.1392549969445593,0.20686749842263089,-0.21309599814352953,1.0754161558430264,-0.21309599814352953,-0.14925715704199688,0.4785261819546845,-0.8842035817248673,-0.49423824655019377,-0.14925715704199688,1.0626615616776403,-0.7972313778664853,0.44878129511281534,0.698871778188867,-0.14925715704199688,-0.49423824655019377,-0.07266372177507777,-0.9368877104192008,1.1496337655360218,0.698871778188867,-0.5768857816323028,-0.07266372177507777,0.2518976455435876,-0.5768857816323028,-0.4133201425070023,0.2611514594809323,0.5720629933709875,1.1496337655360218,-0.21309599814352953,0.9988227205761073,1.096755515937304,-0.03856976751541384,-0.8203647406233345,-0.8653948877442909,0.028487694319714707,-0.14925715704199688,-0.13650256287661075,-0.07266372177507777,0.9988227205761073,0.17164480710047145,-0.8842035817248673,-0.13044846306142055,-0.27357082083846546,0.2586170109588534,-0.29300931800926056,1.0626615616776403,-0.8842035817248673,1.1623883597014082,0.9988227205761073,-0.21309599814352953,0.18805880444205444,-1.0238599142775824,-0.4023595510041872,-0.5768857816323028,-0.9600210731760498,0.17164480710047145,0.4613756038444049,0.03374697925409889,-0.11516320278233305,-0.8842035817248673,-0.7141474175460251,0.17164480710047145,-0.21907878279009885,-0.520413798236094,-0.14925715704199688,-0.21309599814352953,0.2586170109588534,0.9988227205761073,0.41036267207687893,-0.14925715704199688,-0.14925715704199688,0.27070633952416345,-0.5130469405307699,-0.8203647406233345,0.2321196297954072,0.17164480710047145,0.39753676274287214,0.7553437615850762,-0.21309599814352953,-0.14925715704199688,-0.21309599814352953,-0.21309599814352953,-0.7165421141850181,-0.21309599814352953,-0.21309599814352953,-0.9600210731760498,-0.7165421141850181,-0.21309599814352953,-0.8203647406233345,-0.14925715704199688,-0.14925715704199688,-1.0238599142775824,-0.14925715704199688,-0.03856976751541384,0.5627161903178212,-0.4364535052638509,1.0626615616776403,-0.2547621268578892,-0.8842035817248673,0.5627161903178212,0.4613756038444049,0.18805880444205444,-0.20973197973693244,-0.21309599814352953,0.014308482083303794,0.0902189626503078,-1.0402739116191653,0.5379690391113239,0.49537660453461885,-0.14925715704199688,-0.9600210731760498,-0.13650256287661075,0.22215275870171822,-0.21309599814352953,0.18805880444205444,0.9824087232345244,1.0942248498236025,0.17164480710047145,-0.9368877104192008,1.0626615616776403,-0.019761073534837914,-0.21309599814352953,-0.21309599814352953,1.1733489512042226,-0.7862707863636705,-0.7437713053564151,0.9461385918817734,-0.20973197973693244,0.2586170109588534,0.6538416310679106,0.9988227205761073,-0.13650256287661075,0.18805880444205444,-0.13650256287661075,0.0902189626503078,-0.14925715704199688,-0.13650256287661075,0.9988227205761073,-0.14925715704199688,0.39155397809630277,-0.4953669836126893,-0.3339436367156687,0.9988227205761073,1.0626615616776403,-0.2657801268378634,-0.14925715704199688,-0.07266372177507777,0.18805880444205444,-0.17822610006812925,-0.8203647406233345,0.935759823290311,0.39753676274287214,-0.8842035817248673,-0.5768857816323028,-0.5768857816323028,-0.09644746237120655,-0.12612379428514792,0.9988227205761073,-1.0238599142775824,-0.8203647406233345,0.275031008300436,-0.21309599814352953,0.2586170109588534,-1.0238599142775824,-1.0238599142775824,-0.019761073534837914,0.2586170109588534,-0.5768857816323028,-0.8842035817248673,-0.27357082083846546,1.0626615616776403,-0.8842035817248673,0.49537660453461885,-0.46014429229053017,0.06784093351376261,-0.21309599814352953,-0.8842035817248673,-0.35275233069624506,-0.8842035817248673,0.691504920483543,0.3123724682385232,-0.9259271189163857,1.1496337655360218,-0.07266372177507777,-0.349388312289648,-0.21309599814352953,-0.14925715704199688,-0.5130469405307699,0.9988227205761073,0.2518976455435876,0.6691268913469981,-0.35275233069624506,-0.7165421141850181,-0.03856976751541384,-0.07266372177507777,0.9988227205761073,-0.03856976751541384,1.017631414556684,-0.10507981896047006,-0.35275233069624506,-0.8842035817248673,1.0754161558430264,0.49537660453461885,-0.8842035817248673,-0.21309599814352953,0.18805880444205444,-0.03856976751541384,0.9988227205761073,0.2751239618698859,0.17164480710047145,-0.8842035817248673,-1.0050512202970063,-0.13650256287661075,-0.5130469405307699,1.0626615616776403,0.4613756038444049,-0.07266372177507777,-0.21309599814352953,-0.21309599814352953,0.35654980632004996,-0.16567115438357974,0.32771513699477006,0.2586170109588534,0.18805880444205444,0.17164480710047145,1.0626615616776403,-0.21309599814352953,-0.7165421141850181,1.1623883597014082,-0.8842035817248673,0.39155397809630277,1.1496337655360218,-0.13044846306142055,-0.8203647406233345,-0.5130469405307699,-1.0402739116191653,-0.21309599814352953,-0.12612379428514792,-0.520413798236094,0.27668912417073294,0.03374697925409889,0.9988227205761073,-0.8578995785132888,-0.7862707863636705,-0.5768857816323028,-0.14925715704199688,0.24853362713699031,1.1733489512042226,-0.14925715704199688,-1.0402739116191653,-0.21309599814352953,0.5141852985151951,-0.02819099892395138,-0.14925715704199688,-0.03856976751541384,0.18805880444205444,0.275031008300436,-0.14925715704199688,0.02440017620093268,-0.09635450880175694,0.9824087232345244,0.698871778188867,0.275031008300436,0.4681474133632214,0.32771513699477006,0.9988227205761073,0.32771513699477006,0.9988227205761073,1.0626615616776403,-0.14925715704199688,-0.5130469405307699,0.7220051409457159,-0.8026847837052533,-0.8842035817248673,-0.20973197973693244,0.18805880444205444,-0.27357082083846546,-0.05385502779450176,-1.0238599142775824,0.005054668145958906,-0.8842035817248673,1.1392549969445593,-0.1942873041629534,1.0626615616776403,1.1392549969445593,-0.07266372177507777,0.9988227205761073,-0.5130469405307699,-0.13650256287661075,-0.9600210731760498,-1.0050512202970063,-1.0238599142775824,-0.14925715704199688,0.31130113965318695,-0.21309599814352953,-0.21309599814352953,0.03374697925409889,0.5286222360581575,1.0626615616776403,-0.6527032730834853,-0.8203647406233345,-0.14925715704199688,-0.14925715704199688,0.5286222360581575,-0.21309599814352953,-0.17900204388386595,-0.8203647406233345,-0.5130469405307699,-0.21309599814352953,-0.21309599814352953,-0.5130469405307699,-0.5768857816323028,-0.21309599814352953,-1.0238599142775824,-0.7862707863636705,1.1733489512042226,0.5518485879308276,0.17164480710047145,-0.7862707863636705,-0.41322715339118066,0.5720629933709875,-0.8203647406233345,-0.14925715704199688,-0.5768857816323028,-0.13044846306142055,-1.0402739116191653,-0.8842035817248673,-0.9472664790106635,-0.21309599814352953,-0.21309599814352953,0.4790555607624854,1.1392549969445593,0.1504884685958715,-1.0238599142775824,0.18805880444205444,-0.13650256287661075,-1.0238599142775824,0.39155397809630277,-0.41322715339118066,0.2586170109588534,1.0626615616776403,-0.41322715339118066,0.698871778188867,0.40430857226168876,1.0626615616776403,-0.0622849531836152,-0.21309599814352953,-0.90061757906645,-0.14925715704199688,-0.9600210731760498,0.49537660453461885,-0.8842035817248673,1.1392549969445593,-1.0402739116191653,-1.0238599142775824,-0.14925715704199688,-0.21309599814352953,-0.14925715704199688,-0.14925715704199688,-0.8203647406233345,-0.14925715704199688,-0.13157720012391597,0.4681474133632214,-0.5768857816323028,-0.12612379428514792,-0.4225739564443472,1.0626615616776403,-0.8842035817248673,0.35654980632004996,-0.35275233069624506,-1.0238599142775824,0.9988227205761073,-0.07266372177507777,0.9988227205761073,-0.17037799759036826,-0.11516320278233305,0.9988227205761074,-0.17900204388386595,-0.14925715704199688,-0.8076101464579482,-0.7165421141850181,-0.13650256287661072,0.722005140945716,0.275031008300436,0.014308482083303788,1.0626615616776403,-0.03856976751541384,0.27503100830043614],\"yaxis\":\"y\",\"type\":\"scattergl\"}],                        {\"template\":{\"data\":{\"bar\":[{\"error_x\":{\"color\":\"#2a3f5f\"},\"error_y\":{\"color\":\"#2a3f5f\"},\"marker\":{\"line\":{\"color\":\"#E5ECF6\",\"width\":0.5},\"pattern\":{\"fillmode\":\"overlay\",\"size\":10,\"solidity\":0.2}},\"type\":\"bar\"}],\"barpolar\":[{\"marker\":{\"line\":{\"color\":\"#E5ECF6\",\"width\":0.5},\"pattern\":{\"fillmode\":\"overlay\",\"size\":10,\"solidity\":0.2}},\"type\":\"barpolar\"}],\"carpet\":[{\"aaxis\":{\"endlinecolor\":\"#2a3f5f\",\"gridcolor\":\"white\",\"linecolor\":\"white\",\"minorgridcolor\":\"white\",\"startlinecolor\":\"#2a3f5f\"},\"baxis\":{\"endlinecolor\":\"#2a3f5f\",\"gridcolor\":\"white\",\"linecolor\":\"white\",\"minorgridcolor\":\"white\",\"startlinecolor\":\"#2a3f5f\"},\"type\":\"carpet\"}],\"choropleth\":[{\"colorbar\":{\"outlinewidth\":0,\"ticks\":\"\"},\"type\":\"choropleth\"}],\"contour\":[{\"colorbar\":{\"outlinewidth\":0,\"ticks\":\"\"},\"colorscale\":[[0.0,\"#0d0887\"],[0.1111111111111111,\"#46039f\"],[0.2222222222222222,\"#7201a8\"],[0.3333333333333333,\"#9c179e\"],[0.4444444444444444,\"#bd3786\"],[0.5555555555555556,\"#d8576b\"],[0.6666666666666666,\"#ed7953\"],[0.7777777777777778,\"#fb9f3a\"],[0.8888888888888888,\"#fdca26\"],[1.0,\"#f0f921\"]],\"type\":\"contour\"}],\"contourcarpet\":[{\"colorbar\":{\"outlinewidth\":0,\"ticks\":\"\"},\"type\":\"contourcarpet\"}],\"heatmap\":[{\"colorbar\":{\"outlinewidth\":0,\"ticks\":\"\"},\"colorscale\":[[0.0,\"#0d0887\"],[0.1111111111111111,\"#46039f\"],[0.2222222222222222,\"#7201a8\"],[0.3333333333333333,\"#9c179e\"],[0.4444444444444444,\"#bd3786\"],[0.5555555555555556,\"#d8576b\"],[0.6666666666666666,\"#ed7953\"],[0.7777777777777778,\"#fb9f3a\"],[0.8888888888888888,\"#fdca26\"],[1.0,\"#f0f921\"]],\"type\":\"heatmap\"}],\"heatmapgl\":[{\"colorbar\":{\"outlinewidth\":0,\"ticks\":\"\"},\"colorscale\":[[0.0,\"#0d0887\"],[0.1111111111111111,\"#46039f\"],[0.2222222222222222,\"#7201a8\"],[0.3333333333333333,\"#9c179e\"],[0.4444444444444444,\"#bd3786\"],[0.5555555555555556,\"#d8576b\"],[0.6666666666666666,\"#ed7953\"],[0.7777777777777778,\"#fb9f3a\"],[0.8888888888888888,\"#fdca26\"],[1.0,\"#f0f921\"]],\"type\":\"heatmapgl\"}],\"histogram\":[{\"marker\":{\"pattern\":{\"fillmode\":\"overlay\",\"size\":10,\"solidity\":0.2}},\"type\":\"histogram\"}],\"histogram2d\":[{\"colorbar\":{\"outlinewidth\":0,\"ticks\":\"\"},\"colorscale\":[[0.0,\"#0d0887\"],[0.1111111111111111,\"#46039f\"],[0.2222222222222222,\"#7201a8\"],[0.3333333333333333,\"#9c179e\"],[0.4444444444444444,\"#bd3786\"],[0.5555555555555556,\"#d8576b\"],[0.6666666666666666,\"#ed7953\"],[0.7777777777777778,\"#fb9f3a\"],[0.8888888888888888,\"#fdca26\"],[1.0,\"#f0f921\"]],\"type\":\"histogram2d\"}],\"histogram2dcontour\":[{\"colorbar\":{\"outlinewidth\":0,\"ticks\":\"\"},\"colorscale\":[[0.0,\"#0d0887\"],[0.1111111111111111,\"#46039f\"],[0.2222222222222222,\"#7201a8\"],[0.3333333333333333,\"#9c179e\"],[0.4444444444444444,\"#bd3786\"],[0.5555555555555556,\"#d8576b\"],[0.6666666666666666,\"#ed7953\"],[0.7777777777777778,\"#fb9f3a\"],[0.8888888888888888,\"#fdca26\"],[1.0,\"#f0f921\"]],\"type\":\"histogram2dcontour\"}],\"mesh3d\":[{\"colorbar\":{\"outlinewidth\":0,\"ticks\":\"\"},\"type\":\"mesh3d\"}],\"parcoords\":[{\"line\":{\"colorbar\":{\"outlinewidth\":0,\"ticks\":\"\"}},\"type\":\"parcoords\"}],\"pie\":[{\"automargin\":true,\"type\":\"pie\"}],\"scatter\":[{\"marker\":{\"colorbar\":{\"outlinewidth\":0,\"ticks\":\"\"}},\"type\":\"scatter\"}],\"scatter3d\":[{\"line\":{\"colorbar\":{\"outlinewidth\":0,\"ticks\":\"\"}},\"marker\":{\"colorbar\":{\"outlinewidth\":0,\"ticks\":\"\"}},\"type\":\"scatter3d\"}],\"scattercarpet\":[{\"marker\":{\"colorbar\":{\"outlinewidth\":0,\"ticks\":\"\"}},\"type\":\"scattercarpet\"}],\"scattergeo\":[{\"marker\":{\"colorbar\":{\"outlinewidth\":0,\"ticks\":\"\"}},\"type\":\"scattergeo\"}],\"scattergl\":[{\"marker\":{\"colorbar\":{\"outlinewidth\":0,\"ticks\":\"\"}},\"type\":\"scattergl\"}],\"scattermapbox\":[{\"marker\":{\"colorbar\":{\"outlinewidth\":0,\"ticks\":\"\"}},\"type\":\"scattermapbox\"}],\"scatterpolar\":[{\"marker\":{\"colorbar\":{\"outlinewidth\":0,\"ticks\":\"\"}},\"type\":\"scatterpolar\"}],\"scatterpolargl\":[{\"marker\":{\"colorbar\":{\"outlinewidth\":0,\"ticks\":\"\"}},\"type\":\"scatterpolargl\"}],\"scatterternary\":[{\"marker\":{\"colorbar\":{\"outlinewidth\":0,\"ticks\":\"\"}},\"type\":\"scatterternary\"}],\"surface\":[{\"colorbar\":{\"outlinewidth\":0,\"ticks\":\"\"},\"colorscale\":[[0.0,\"#0d0887\"],[0.1111111111111111,\"#46039f\"],[0.2222222222222222,\"#7201a8\"],[0.3333333333333333,\"#9c179e\"],[0.4444444444444444,\"#bd3786\"],[0.5555555555555556,\"#d8576b\"],[0.6666666666666666,\"#ed7953\"],[0.7777777777777778,\"#fb9f3a\"],[0.8888888888888888,\"#fdca26\"],[1.0,\"#f0f921\"]],\"type\":\"surface\"}],\"table\":[{\"cells\":{\"fill\":{\"color\":\"#EBF0F8\"},\"line\":{\"color\":\"white\"}},\"header\":{\"fill\":{\"color\":\"#C8D4E3\"},\"line\":{\"color\":\"white\"}},\"type\":\"table\"}]},\"layout\":{\"annotationdefaults\":{\"arrowcolor\":\"#2a3f5f\",\"arrowhead\":0,\"arrowwidth\":1},\"autotypenumbers\":\"strict\",\"coloraxis\":{\"colorbar\":{\"outlinewidth\":0,\"ticks\":\"\"}},\"colorscale\":{\"diverging\":[[0,\"#8e0152\"],[0.1,\"#c51b7d\"],[0.2,\"#de77ae\"],[0.3,\"#f1b6da\"],[0.4,\"#fde0ef\"],[0.5,\"#f7f7f7\"],[0.6,\"#e6f5d0\"],[0.7,\"#b8e186\"],[0.8,\"#7fbc41\"],[0.9,\"#4d9221\"],[1,\"#276419\"]],\"sequential\":[[0.0,\"#0d0887\"],[0.1111111111111111,\"#46039f\"],[0.2222222222222222,\"#7201a8\"],[0.3333333333333333,\"#9c179e\"],[0.4444444444444444,\"#bd3786\"],[0.5555555555555556,\"#d8576b\"],[0.6666666666666666,\"#ed7953\"],[0.7777777777777778,\"#fb9f3a\"],[0.8888888888888888,\"#fdca26\"],[1.0,\"#f0f921\"]],\"sequentialminus\":[[0.0,\"#0d0887\"],[0.1111111111111111,\"#46039f\"],[0.2222222222222222,\"#7201a8\"],[0.3333333333333333,\"#9c179e\"],[0.4444444444444444,\"#bd3786\"],[0.5555555555555556,\"#d8576b\"],[0.6666666666666666,\"#ed7953\"],[0.7777777777777778,\"#fb9f3a\"],[0.8888888888888888,\"#fdca26\"],[1.0,\"#f0f921\"]]},\"colorway\":[\"#636efa\",\"#EF553B\",\"#00cc96\",\"#ab63fa\",\"#FFA15A\",\"#19d3f3\",\"#FF6692\",\"#B6E880\",\"#FF97FF\",\"#FECB52\"],\"font\":{\"color\":\"#2a3f5f\"},\"geo\":{\"bgcolor\":\"white\",\"lakecolor\":\"white\",\"landcolor\":\"#E5ECF6\",\"showlakes\":true,\"showland\":true,\"subunitcolor\":\"white\"},\"hoverlabel\":{\"align\":\"left\"},\"hovermode\":\"closest\",\"mapbox\":{\"style\":\"light\"},\"paper_bgcolor\":\"white\",\"plot_bgcolor\":\"#E5ECF6\",\"polar\":{\"angularaxis\":{\"gridcolor\":\"white\",\"linecolor\":\"white\",\"ticks\":\"\"},\"bgcolor\":\"#E5ECF6\",\"radialaxis\":{\"gridcolor\":\"white\",\"linecolor\":\"white\",\"ticks\":\"\"}},\"scene\":{\"xaxis\":{\"backgroundcolor\":\"#E5ECF6\",\"gridcolor\":\"white\",\"gridwidth\":2,\"linecolor\":\"white\",\"showbackground\":true,\"ticks\":\"\",\"zerolinecolor\":\"white\"},\"yaxis\":{\"backgroundcolor\":\"#E5ECF6\",\"gridcolor\":\"white\",\"gridwidth\":2,\"linecolor\":\"white\",\"showbackground\":true,\"ticks\":\"\",\"zerolinecolor\":\"white\"},\"zaxis\":{\"backgroundcolor\":\"#E5ECF6\",\"gridcolor\":\"white\",\"gridwidth\":2,\"linecolor\":\"white\",\"showbackground\":true,\"ticks\":\"\",\"zerolinecolor\":\"white\"}},\"shapedefaults\":{\"line\":{\"color\":\"#2a3f5f\"}},\"ternary\":{\"aaxis\":{\"gridcolor\":\"white\",\"linecolor\":\"white\",\"ticks\":\"\"},\"baxis\":{\"gridcolor\":\"white\",\"linecolor\":\"white\",\"ticks\":\"\"},\"bgcolor\":\"#E5ECF6\",\"caxis\":{\"gridcolor\":\"white\",\"linecolor\":\"white\",\"ticks\":\"\"}},\"title\":{\"x\":0.05},\"xaxis\":{\"automargin\":true,\"gridcolor\":\"white\",\"linecolor\":\"white\",\"ticks\":\"\",\"title\":{\"standoff\":15},\"zerolinecolor\":\"white\",\"zerolinewidth\":2},\"yaxis\":{\"automargin\":true,\"gridcolor\":\"white\",\"linecolor\":\"white\",\"ticks\":\"\",\"title\":{\"standoff\":15},\"zerolinecolor\":\"white\",\"zerolinewidth\":2}}},\"xaxis\":{\"anchor\":\"y\",\"domain\":[0.0,1.0],\"title\":{\"text\":\"0\"}},\"yaxis\":{\"anchor\":\"x\",\"domain\":[0.0,1.0],\"title\":{\"text\":\"1\"}},\"legend\":{\"tracegroupgap\":0},\"margin\":{\"t\":60},\"shapes\":[{\"type\":\"line\",\"x0\":0,\"x1\":-0.3610622703413364,\"y0\":0,\"y1\":0.22098612828250364},{\"type\":\"line\",\"x0\":0,\"x1\":-0.11759370584851733,\"y0\":0,\"y1\":0.009970774020562028},{\"type\":\"line\",\"x0\":0,\"x1\":-0.004812080509032572,\"y0\":0,\"y1\":0.01142544581916844},{\"type\":\"line\",\"x0\":0,\"x1\":0.08799314080370746,\"y0\":0,\"y1\":-0.02071056223027859},{\"type\":\"line\",\"x0\":0,\"x1\":0.23047819740497574,\"y0\":0,\"y1\":-0.038779259257303876},{\"type\":\"line\",\"x0\":0,\"x1\":-0.08213476553840422,\"y0\":0,\"y1\":-0.052831749189167436},{\"type\":\"line\",\"x0\":0,\"x1\":-0.2552664433504958,\"y0\":0,\"y1\":-0.37093226845636806},{\"type\":\"line\",\"x0\":0,\"x1\":-0.3569594046536192,\"y0\":0,\"y1\":0.18668190773105658},{\"type\":\"line\",\"x0\":0,\"x1\":0.24910088566901228,\"y0\":0,\"y1\":0.3652545009315909},{\"type\":\"line\",\"x0\":0,\"x1\":-0.16178952304286845,\"y0\":0,\"y1\":0.04652710845579679},{\"type\":\"line\",\"x0\":0,\"x1\":0.2837065259505229,\"y0\":0,\"y1\":-0.08483501632450507}],\"annotations\":[{\"ax\":0,\"ay\":0,\"text\":\"yummy\",\"x\":-0.3610622703413364,\"xanchor\":\"center\",\"y\":0.22098612828250364,\"yanchor\":\"bottom\"},{\"ax\":0,\"ay\":0,\"text\":\"convenient\",\"x\":-0.11759370584851733,\"xanchor\":\"center\",\"y\":0.009970774020562028,\"yanchor\":\"bottom\"},{\"ax\":0,\"ay\":0,\"text\":\"spicy\",\"x\":-0.004812080509032572,\"xanchor\":\"center\",\"y\":0.01142544581916844,\"yanchor\":\"bottom\"},{\"ax\":0,\"ay\":0,\"text\":\"fattening\",\"x\":0.08799314080370746,\"xanchor\":\"center\",\"y\":-0.02071056223027859,\"yanchor\":\"bottom\"},{\"ax\":0,\"ay\":0,\"text\":\"greasy\",\"x\":0.23047819740497574,\"xanchor\":\"center\",\"y\":-0.038779259257303876,\"yanchor\":\"bottom\"},{\"ax\":0,\"ay\":0,\"text\":\"fast\",\"x\":-0.08213476553840422,\"xanchor\":\"center\",\"y\":-0.052831749189167436,\"yanchor\":\"bottom\"},{\"ax\":0,\"ay\":0,\"text\":\"cheap\",\"x\":-0.2552664433504958,\"xanchor\":\"center\",\"y\":-0.37093226845636806,\"yanchor\":\"bottom\"},{\"ax\":0,\"ay\":0,\"text\":\"tasty\",\"x\":-0.3569594046536192,\"xanchor\":\"center\",\"y\":0.18668190773105658,\"yanchor\":\"bottom\"},{\"ax\":0,\"ay\":0,\"text\":\"expensive\",\"x\":0.24910088566901228,\"xanchor\":\"center\",\"y\":0.3652545009315909,\"yanchor\":\"bottom\"},{\"ax\":0,\"ay\":0,\"text\":\"healthy\",\"x\":-0.16178952304286845,\"xanchor\":\"center\",\"y\":0.04652710845579679,\"yanchor\":\"bottom\"},{\"ax\":0,\"ay\":0,\"text\":\"disgusting\",\"x\":0.2837065259505229,\"xanchor\":\"center\",\"y\":-0.08483501632450507,\"yanchor\":\"bottom\"}]},                        {\"responsive\": true}                    ).then(function(){\n",
              "                            \n",
              "var gd = document.getElementById('e83be712-d5e5-48e7-a7bc-586be36d530d');\n",
              "var x = new MutationObserver(function (mutations, observer) {{\n",
              "        var display = window.getComputedStyle(gd).display;\n",
              "        if (!display || display === 'none') {{\n",
              "            console.log([gd, 'removed!']);\n",
              "            Plotly.purge(gd);\n",
              "            observer.disconnect();\n",
              "        }}\n",
              "}});\n",
              "\n",
              "// Listen for the removal of the full notebook cells\n",
              "var notebookContainer = gd.closest('#notebook-container');\n",
              "if (notebookContainer) {{\n",
              "    x.observe(notebookContainer, {childList: true});\n",
              "}}\n",
              "\n",
              "// Listen for the clearing of the current output cell\n",
              "var outputEl = gd.closest('.output');\n",
              "if (outputEl) {{\n",
              "    x.observe(outputEl, {childList: true});\n",
              "}}\n",
              "\n",
              "                        })                };                            </script>        </div>\n",
              "</body>\n",
              "</html>"
            ]
          },
          "metadata": {}
        }
      ]
    },
    {
      "cell_type": "markdown",
      "source": [
        "**k-means Clustering**"
      ],
      "metadata": {
        "id": "G-D_SRfaKRm3"
      }
    },
    {
      "cell_type": "code",
      "source": [
        "from sklearn.cluster import KMeans"
      ],
      "metadata": {
        "id": "Wf8poINtzyS7"
      },
      "execution_count": null,
      "outputs": []
    },
    {
      "cell_type": "code",
      "source": [
        "data2 = data1.values"
      ],
      "metadata": {
        "id": "2HKrOPzFz1g5"
      },
      "execution_count": null,
      "outputs": []
    },
    {
      "cell_type": "code",
      "source": [
        "l = []\n",
        "for i in range(2,20):\n",
        "    kmeans = KMeans(n_clusters = i, init = 'k-means++')\n",
        "    kmeans.fit(data2)\n",
        "    l.append(kmeans.inertia_)"
      ],
      "metadata": {
        "id": "QkgnP_Suz6XR"
      },
      "execution_count": null,
      "outputs": []
    },
    {
      "cell_type": "code",
      "source": [
        "wcss = pd.DataFrame({'Clusters':list(range(2,20)), 'WCSS':l})"
      ],
      "metadata": {
        "id": "tlvaetBg0BE_"
      },
      "execution_count": null,
      "outputs": []
    },
    {
      "cell_type": "code",
      "source": [
        "px.bar(data_frame=wcss, x='Clusters', y='WCSS')"
      ],
      "metadata": {
        "colab": {
          "base_uri": "https://localhost:8080/",
          "height": 542
        },
        "id": "mJbv9-VN0EP3",
        "outputId": "3e5ada76-951c-4cea-cd6a-f663e2a25984"
      },
      "execution_count": null,
      "outputs": [
        {
          "output_type": "display_data",
          "data": {
            "text/html": [
              "<html>\n",
              "<head><meta charset=\"utf-8\" /></head>\n",
              "<body>\n",
              "    <div>            <script src=\"https://cdnjs.cloudflare.com/ajax/libs/mathjax/2.7.5/MathJax.js?config=TeX-AMS-MML_SVG\"></script><script type=\"text/javascript\">if (window.MathJax) {MathJax.Hub.Config({SVG: {font: \"STIX-Web\"}});}</script>                <script type=\"text/javascript\">window.PlotlyConfig = {MathJaxConfig: 'local'};</script>\n",
              "        <script src=\"https://cdn.plot.ly/plotly-2.8.3.min.js\"></script>                <div id=\"905d1b40-e360-403f-b477-a6527e3ad402\" class=\"plotly-graph-div\" style=\"height:525px; width:100%;\"></div>            <script type=\"text/javascript\">                                    window.PLOTLYENV=window.PLOTLYENV || {};                                    if (document.getElementById(\"905d1b40-e360-403f-b477-a6527e3ad402\")) {                    Plotly.newPlot(                        \"905d1b40-e360-403f-b477-a6527e3ad402\",                        [{\"alignmentgroup\":\"True\",\"hovertemplate\":\"Clusters=%{x}<br>WCSS=%{y}<extra></extra>\",\"legendgroup\":\"\",\"marker\":{\"color\":\"#636efa\",\"pattern\":{\"shape\":\"\"}},\"name\":\"\",\"offsetgroup\":\"\",\"orientation\":\"v\",\"showlegend\":false,\"textposition\":\"auto\",\"x\":[2,3,4,5,6,7,8,9,10,11,12,13,14,15,16,17,18,19],\"xaxis\":\"x\",\"y\":[2145.5037269171667,1818.7176591653915,1602.915835107727,1434.6104173514616,1357.3378308874387,1249.8006108984055,1174.7072141263957,1112.356371890426,1079.821183902332,1041.5274540934154,983.0044393143689,960.5141474734223,936.0316052872041,896.3728863972334,852.1584427025973,839.0124010686438,808.3139379496397,792.4541604174926],\"yaxis\":\"y\",\"type\":\"bar\"}],                        {\"template\":{\"data\":{\"bar\":[{\"error_x\":{\"color\":\"#2a3f5f\"},\"error_y\":{\"color\":\"#2a3f5f\"},\"marker\":{\"line\":{\"color\":\"#E5ECF6\",\"width\":0.5},\"pattern\":{\"fillmode\":\"overlay\",\"size\":10,\"solidity\":0.2}},\"type\":\"bar\"}],\"barpolar\":[{\"marker\":{\"line\":{\"color\":\"#E5ECF6\",\"width\":0.5},\"pattern\":{\"fillmode\":\"overlay\",\"size\":10,\"solidity\":0.2}},\"type\":\"barpolar\"}],\"carpet\":[{\"aaxis\":{\"endlinecolor\":\"#2a3f5f\",\"gridcolor\":\"white\",\"linecolor\":\"white\",\"minorgridcolor\":\"white\",\"startlinecolor\":\"#2a3f5f\"},\"baxis\":{\"endlinecolor\":\"#2a3f5f\",\"gridcolor\":\"white\",\"linecolor\":\"white\",\"minorgridcolor\":\"white\",\"startlinecolor\":\"#2a3f5f\"},\"type\":\"carpet\"}],\"choropleth\":[{\"colorbar\":{\"outlinewidth\":0,\"ticks\":\"\"},\"type\":\"choropleth\"}],\"contour\":[{\"colorbar\":{\"outlinewidth\":0,\"ticks\":\"\"},\"colorscale\":[[0.0,\"#0d0887\"],[0.1111111111111111,\"#46039f\"],[0.2222222222222222,\"#7201a8\"],[0.3333333333333333,\"#9c179e\"],[0.4444444444444444,\"#bd3786\"],[0.5555555555555556,\"#d8576b\"],[0.6666666666666666,\"#ed7953\"],[0.7777777777777778,\"#fb9f3a\"],[0.8888888888888888,\"#fdca26\"],[1.0,\"#f0f921\"]],\"type\":\"contour\"}],\"contourcarpet\":[{\"colorbar\":{\"outlinewidth\":0,\"ticks\":\"\"},\"type\":\"contourcarpet\"}],\"heatmap\":[{\"colorbar\":{\"outlinewidth\":0,\"ticks\":\"\"},\"colorscale\":[[0.0,\"#0d0887\"],[0.1111111111111111,\"#46039f\"],[0.2222222222222222,\"#7201a8\"],[0.3333333333333333,\"#9c179e\"],[0.4444444444444444,\"#bd3786\"],[0.5555555555555556,\"#d8576b\"],[0.6666666666666666,\"#ed7953\"],[0.7777777777777778,\"#fb9f3a\"],[0.8888888888888888,\"#fdca26\"],[1.0,\"#f0f921\"]],\"type\":\"heatmap\"}],\"heatmapgl\":[{\"colorbar\":{\"outlinewidth\":0,\"ticks\":\"\"},\"colorscale\":[[0.0,\"#0d0887\"],[0.1111111111111111,\"#46039f\"],[0.2222222222222222,\"#7201a8\"],[0.3333333333333333,\"#9c179e\"],[0.4444444444444444,\"#bd3786\"],[0.5555555555555556,\"#d8576b\"],[0.6666666666666666,\"#ed7953\"],[0.7777777777777778,\"#fb9f3a\"],[0.8888888888888888,\"#fdca26\"],[1.0,\"#f0f921\"]],\"type\":\"heatmapgl\"}],\"histogram\":[{\"marker\":{\"pattern\":{\"fillmode\":\"overlay\",\"size\":10,\"solidity\":0.2}},\"type\":\"histogram\"}],\"histogram2d\":[{\"colorbar\":{\"outlinewidth\":0,\"ticks\":\"\"},\"colorscale\":[[0.0,\"#0d0887\"],[0.1111111111111111,\"#46039f\"],[0.2222222222222222,\"#7201a8\"],[0.3333333333333333,\"#9c179e\"],[0.4444444444444444,\"#bd3786\"],[0.5555555555555556,\"#d8576b\"],[0.6666666666666666,\"#ed7953\"],[0.7777777777777778,\"#fb9f3a\"],[0.8888888888888888,\"#fdca26\"],[1.0,\"#f0f921\"]],\"type\":\"histogram2d\"}],\"histogram2dcontour\":[{\"colorbar\":{\"outlinewidth\":0,\"ticks\":\"\"},\"colorscale\":[[0.0,\"#0d0887\"],[0.1111111111111111,\"#46039f\"],[0.2222222222222222,\"#7201a8\"],[0.3333333333333333,\"#9c179e\"],[0.4444444444444444,\"#bd3786\"],[0.5555555555555556,\"#d8576b\"],[0.6666666666666666,\"#ed7953\"],[0.7777777777777778,\"#fb9f3a\"],[0.8888888888888888,\"#fdca26\"],[1.0,\"#f0f921\"]],\"type\":\"histogram2dcontour\"}],\"mesh3d\":[{\"colorbar\":{\"outlinewidth\":0,\"ticks\":\"\"},\"type\":\"mesh3d\"}],\"parcoords\":[{\"line\":{\"colorbar\":{\"outlinewidth\":0,\"ticks\":\"\"}},\"type\":\"parcoords\"}],\"pie\":[{\"automargin\":true,\"type\":\"pie\"}],\"scatter\":[{\"marker\":{\"colorbar\":{\"outlinewidth\":0,\"ticks\":\"\"}},\"type\":\"scatter\"}],\"scatter3d\":[{\"line\":{\"colorbar\":{\"outlinewidth\":0,\"ticks\":\"\"}},\"marker\":{\"colorbar\":{\"outlinewidth\":0,\"ticks\":\"\"}},\"type\":\"scatter3d\"}],\"scattercarpet\":[{\"marker\":{\"colorbar\":{\"outlinewidth\":0,\"ticks\":\"\"}},\"type\":\"scattercarpet\"}],\"scattergeo\":[{\"marker\":{\"colorbar\":{\"outlinewidth\":0,\"ticks\":\"\"}},\"type\":\"scattergeo\"}],\"scattergl\":[{\"marker\":{\"colorbar\":{\"outlinewidth\":0,\"ticks\":\"\"}},\"type\":\"scattergl\"}],\"scattermapbox\":[{\"marker\":{\"colorbar\":{\"outlinewidth\":0,\"ticks\":\"\"}},\"type\":\"scattermapbox\"}],\"scatterpolar\":[{\"marker\":{\"colorbar\":{\"outlinewidth\":0,\"ticks\":\"\"}},\"type\":\"scatterpolar\"}],\"scatterpolargl\":[{\"marker\":{\"colorbar\":{\"outlinewidth\":0,\"ticks\":\"\"}},\"type\":\"scatterpolargl\"}],\"scatterternary\":[{\"marker\":{\"colorbar\":{\"outlinewidth\":0,\"ticks\":\"\"}},\"type\":\"scatterternary\"}],\"surface\":[{\"colorbar\":{\"outlinewidth\":0,\"ticks\":\"\"},\"colorscale\":[[0.0,\"#0d0887\"],[0.1111111111111111,\"#46039f\"],[0.2222222222222222,\"#7201a8\"],[0.3333333333333333,\"#9c179e\"],[0.4444444444444444,\"#bd3786\"],[0.5555555555555556,\"#d8576b\"],[0.6666666666666666,\"#ed7953\"],[0.7777777777777778,\"#fb9f3a\"],[0.8888888888888888,\"#fdca26\"],[1.0,\"#f0f921\"]],\"type\":\"surface\"}],\"table\":[{\"cells\":{\"fill\":{\"color\":\"#EBF0F8\"},\"line\":{\"color\":\"white\"}},\"header\":{\"fill\":{\"color\":\"#C8D4E3\"},\"line\":{\"color\":\"white\"}},\"type\":\"table\"}]},\"layout\":{\"annotationdefaults\":{\"arrowcolor\":\"#2a3f5f\",\"arrowhead\":0,\"arrowwidth\":1},\"autotypenumbers\":\"strict\",\"coloraxis\":{\"colorbar\":{\"outlinewidth\":0,\"ticks\":\"\"}},\"colorscale\":{\"diverging\":[[0,\"#8e0152\"],[0.1,\"#c51b7d\"],[0.2,\"#de77ae\"],[0.3,\"#f1b6da\"],[0.4,\"#fde0ef\"],[0.5,\"#f7f7f7\"],[0.6,\"#e6f5d0\"],[0.7,\"#b8e186\"],[0.8,\"#7fbc41\"],[0.9,\"#4d9221\"],[1,\"#276419\"]],\"sequential\":[[0.0,\"#0d0887\"],[0.1111111111111111,\"#46039f\"],[0.2222222222222222,\"#7201a8\"],[0.3333333333333333,\"#9c179e\"],[0.4444444444444444,\"#bd3786\"],[0.5555555555555556,\"#d8576b\"],[0.6666666666666666,\"#ed7953\"],[0.7777777777777778,\"#fb9f3a\"],[0.8888888888888888,\"#fdca26\"],[1.0,\"#f0f921\"]],\"sequentialminus\":[[0.0,\"#0d0887\"],[0.1111111111111111,\"#46039f\"],[0.2222222222222222,\"#7201a8\"],[0.3333333333333333,\"#9c179e\"],[0.4444444444444444,\"#bd3786\"],[0.5555555555555556,\"#d8576b\"],[0.6666666666666666,\"#ed7953\"],[0.7777777777777778,\"#fb9f3a\"],[0.8888888888888888,\"#fdca26\"],[1.0,\"#f0f921\"]]},\"colorway\":[\"#636efa\",\"#EF553B\",\"#00cc96\",\"#ab63fa\",\"#FFA15A\",\"#19d3f3\",\"#FF6692\",\"#B6E880\",\"#FF97FF\",\"#FECB52\"],\"font\":{\"color\":\"#2a3f5f\"},\"geo\":{\"bgcolor\":\"white\",\"lakecolor\":\"white\",\"landcolor\":\"#E5ECF6\",\"showlakes\":true,\"showland\":true,\"subunitcolor\":\"white\"},\"hoverlabel\":{\"align\":\"left\"},\"hovermode\":\"closest\",\"mapbox\":{\"style\":\"light\"},\"paper_bgcolor\":\"white\",\"plot_bgcolor\":\"#E5ECF6\",\"polar\":{\"angularaxis\":{\"gridcolor\":\"white\",\"linecolor\":\"white\",\"ticks\":\"\"},\"bgcolor\":\"#E5ECF6\",\"radialaxis\":{\"gridcolor\":\"white\",\"linecolor\":\"white\",\"ticks\":\"\"}},\"scene\":{\"xaxis\":{\"backgroundcolor\":\"#E5ECF6\",\"gridcolor\":\"white\",\"gridwidth\":2,\"linecolor\":\"white\",\"showbackground\":true,\"ticks\":\"\",\"zerolinecolor\":\"white\"},\"yaxis\":{\"backgroundcolor\":\"#E5ECF6\",\"gridcolor\":\"white\",\"gridwidth\":2,\"linecolor\":\"white\",\"showbackground\":true,\"ticks\":\"\",\"zerolinecolor\":\"white\"},\"zaxis\":{\"backgroundcolor\":\"#E5ECF6\",\"gridcolor\":\"white\",\"gridwidth\":2,\"linecolor\":\"white\",\"showbackground\":true,\"ticks\":\"\",\"zerolinecolor\":\"white\"}},\"shapedefaults\":{\"line\":{\"color\":\"#2a3f5f\"}},\"ternary\":{\"aaxis\":{\"gridcolor\":\"white\",\"linecolor\":\"white\",\"ticks\":\"\"},\"baxis\":{\"gridcolor\":\"white\",\"linecolor\":\"white\",\"ticks\":\"\"},\"bgcolor\":\"#E5ECF6\",\"caxis\":{\"gridcolor\":\"white\",\"linecolor\":\"white\",\"ticks\":\"\"}},\"title\":{\"x\":0.05},\"xaxis\":{\"automargin\":true,\"gridcolor\":\"white\",\"linecolor\":\"white\",\"ticks\":\"\",\"title\":{\"standoff\":15},\"zerolinecolor\":\"white\",\"zerolinewidth\":2},\"yaxis\":{\"automargin\":true,\"gridcolor\":\"white\",\"linecolor\":\"white\",\"ticks\":\"\",\"title\":{\"standoff\":15},\"zerolinecolor\":\"white\",\"zerolinewidth\":2}}},\"xaxis\":{\"anchor\":\"y\",\"domain\":[0.0,1.0],\"title\":{\"text\":\"Clusters\"}},\"yaxis\":{\"anchor\":\"x\",\"domain\":[0.0,1.0],\"title\":{\"text\":\"WCSS\"}},\"legend\":{\"tracegroupgap\":0},\"margin\":{\"t\":60},\"barmode\":\"relative\"},                        {\"responsive\": true}                    ).then(function(){\n",
              "                            \n",
              "var gd = document.getElementById('905d1b40-e360-403f-b477-a6527e3ad402');\n",
              "var x = new MutationObserver(function (mutations, observer) {{\n",
              "        var display = window.getComputedStyle(gd).display;\n",
              "        if (!display || display === 'none') {{\n",
              "            console.log([gd, 'removed!']);\n",
              "            Plotly.purge(gd);\n",
              "            observer.disconnect();\n",
              "        }}\n",
              "}});\n",
              "\n",
              "// Listen for the removal of the full notebook cells\n",
              "var notebookContainer = gd.closest('#notebook-container');\n",
              "if (notebookContainer) {{\n",
              "    x.observe(notebookContainer, {childList: true});\n",
              "}}\n",
              "\n",
              "// Listen for the clearing of the current output cell\n",
              "var outputEl = gd.closest('.output');\n",
              "if (outputEl) {{\n",
              "    x.observe(outputEl, {childList: true});\n",
              "}}\n",
              "\n",
              "                        })                };                            </script>        </div>\n",
              "</body>\n",
              "</html>"
            ]
          },
          "metadata": {}
        }
      ]
    },
    {
      "cell_type": "code",
      "source": [
        "kmeans = KMeans(4)\n",
        "kmeans.fit(data1)\n",
        "data1['Predicted_Clusters'] = kmeans.predict(data1)"
      ],
      "metadata": {
        "id": "6vqerDyJ0JSf"
      },
      "execution_count": null,
      "outputs": []
    },
    {
      "cell_type": "code",
      "source": [
        "plt.rcParams['figure.figsize'] = (10,6)\n",
        "sns.scatterplot(x = components[:,0], y = components[:,1], hue=data1['Predicted_Clusters'], palette='hls')"
      ],
      "metadata": {
        "colab": {
          "base_uri": "https://localhost:8080/",
          "height": 394
        },
        "id": "Tr-5ANuP0YXq",
        "outputId": "fc71ed4b-b265-42b1-d0c1-577d5966a5f0"
      },
      "execution_count": null,
      "outputs": [
        {
          "output_type": "execute_result",
          "data": {
            "text/plain": [
              "<matplotlib.axes._subplots.AxesSubplot at 0x7fa65e408310>"
            ]
          },
          "metadata": {},
          "execution_count": 64
        },
        {
          "output_type": "display_data",
          "data": {
            "text/plain": [
              "<Figure size 720x432 with 1 Axes>"
            ],
            "image/png": "[encoded data removed]"
          },
          "metadata": {}
        }
      ]
    },
    {
      "cell_type": "code",
      "source": [
        "dataset['cluster'] = data1['Predicted_Clusters']"
      ],
      "metadata": {
        "id": "oVr5LZWj0cfH"
      },
      "execution_count": null,
      "outputs": []
    },
    {
      "cell_type": "code",
      "source": [
        "dataset['cluster'].value_counts()"
      ],
      "metadata": {
        "colab": {
          "base_uri": "https://localhost:8080/"
        },
        "id": "n2LvFLbp1lab",
        "outputId": "0d163b3b-b42d-4162-99d4-916932028764"
      },
      "execution_count": null,
      "outputs": [
        {
          "output_type": "execute_result",
          "data": {
            "text/plain": [
              "1    580\n",
              "0    324\n",
              "3    309\n",
              "2    240\n",
              "Name: cluster, dtype: int64"
            ]
          },
          "metadata": {},
          "execution_count": 66
        }
      ]
    },
    {
      "cell_type": "code",
      "source": [
        "sns.countplot(x = dataset['cluster'], hue = dataset['cluster'])\n",
        "plt.show()"
      ],
      "metadata": {
        "colab": {
          "base_uri": "https://localhost:8080/",
          "height": 394
        },
        "id": "DeCssIwX1oAo",
        "outputId": "9b259c07-c931-4760-aadb-7f50b204eb58"
      },
      "execution_count": null,
      "outputs": [
        {
          "output_type": "display_data",
          "data": {
            "text/plain": [
              "<Figure size 720x432 with 1 Axes>"
            ],
            "image/png": "[encoded data removed]"
          },
          "metadata": {}
        }
      ]
    },
    {
      "cell_type": "code",
      "source": [
        "from statsmodels.graphics.mosaicplot import mosaic\n",
        "from itertools import product\n",
        "\n",
        "crosstable = pd.crosstab(dataset['cluster'], dataset['Gender'])\n",
        "crosstable"
      ],
      "metadata": {
        "colab": {
          "base_uri": "https://localhost:8080/",
          "height": 275
        },
        "id": "4rrme9ab1q0j",
        "outputId": "47737955-ef68-4412-a333-ea430a0dec7f"
      },
      "execution_count": null,
      "outputs": [
        {
          "output_type": "stream",
          "name": "stderr",
          "text": [
            "/usr/local/lib/python3.7/dist-packages/statsmodels/tools/_testing.py:19: FutureWarning:\n",
            "\n",
            "pandas.util.testing is deprecated. Use the functions in the public API at pandas.testing instead.\n",
            "\n"
          ]
        },
        {
          "output_type": "execute_result",
          "data": {
            "text/plain": [
              "Gender   Female  Male\n",
              "cluster              \n",
              "0           155   169\n",
              "1           349   231\n",
              "2           101   139\n",
              "3           183   126"
            ],
            "text/html": [
              "\n",
              "  <div id=\"df-c0285931-436d-4412-9636-eb4f13cedfd8\">\n",
              "    <div class=\"colab-df-container\">\n",
              "      <div>\n",
              "<style scoped>\n",
              "    .dataframe tbody tr th:only-of-type {\n",
              "        vertical-align: middle;\n",
              "    }\n",
              "\n",
              "    .dataframe tbody tr th {\n",
              "        vertical-align: top;\n",
              "    }\n",
              "\n",
              "    .dataframe thead th {\n",
              "        text-align: right;\n",
              "    }\n",
              "</style>\n",
              "<table border=\"1\" class=\"dataframe\">\n",
              "  <thead>\n",
              "    <tr style=\"text-align: right;\">\n",
              "      <th>Gender</th>\n",
              "      <th>Female</th>\n",
              "      <th>Male</th>\n",
              "    </tr>\n",
              "    <tr>\n",
              "      <th>cluster</th>\n",
              "      <th></th>\n",
              "      <th></th>\n",
              "    </tr>\n",
              "  </thead>\n",
              "  <tbody>\n",
              "    <tr>\n",
              "      <th>0</th>\n",
              "      <td>155</td>\n",
              "      <td>169</td>\n",
              "    </tr>\n",
              "    <tr>\n",
              "      <th>1</th>\n",
              "      <td>349</td>\n",
              "      <td>231</td>\n",
              "    </tr>\n",
              "    <tr>\n",
              "      <th>2</th>\n",
              "      <td>101</td>\n",
              "      <td>139</td>\n",
              "    </tr>\n",
              "    <tr>\n",
              "      <th>3</th>\n",
              "      <td>183</td>\n",
              "      <td>126</td>\n",
              "    </tr>\n",
              "  </tbody>\n",
              "</table>\n",
              "</div>\n",
              "      <button class=\"colab-df-convert\" onclick=\"convertToInteractive('df-c0285931-436d-4412-9636-eb4f13cedfd8')\"\n",
              "              title=\"Convert this dataframe to an interactive table.\"\n",
              "              style=\"display:none;\">\n",
              "        \n",
              "  <svg xmlns=\"http://www.w3.org/2000/svg\" height=\"24px\"viewBox=\"0 0 24 24\"\n",
              "       width=\"24px\">\n",
              "    <path d=\"M0 0h24v24H0V0z\" fill=\"none\"/>\n",
              "    <path d=\"M18.56 5.44l.94 2.06.94-2.06 2.06-.94-2.06-.94-.94-2.06-.94 2.06-2.06.94zm-11 1L8.5 8.5l.94-2.06 2.06-.94-2.06-.94L8.5 2.5l-.94 2.06-2.06.94zm10 10l.94 2.06.94-2.06 2.06-.94-2.06-.94-.94-2.06-.94 2.06-2.06.94z\"/><path d=\"M17.41 7.96l-1.37-1.37c-.4-.4-.92-.59-1.43-.59-.52 0-1.04.2-1.43.59L10.3 9.45l-7.72 7.72c-.78.78-.78 2.05 0 2.83L4 21.41c.39.39.9.59 1.41.59.51 0 1.02-.2 1.41-.59l7.78-7.78 2.81-2.81c.8-.78.8-2.07 0-2.86zM5.41 20L4 18.59l7.72-7.72 1.47 1.35L5.41 20z\"/>\n",
              "  </svg>\n",
              "      </button>\n",
              "      \n",
              "  <style>\n",
              "    .colab-df-container {\n",
              "      display:flex;\n",
              "      flex-wrap:wrap;\n",
              "      gap: 12px;\n",
              "    }\n",
              "\n",
              "    .colab-df-convert {\n",
              "      background-color: #E8F0FE;\n",
              "      border: none;\n",
              "      border-radius: 50%;\n",
              "      cursor: pointer;\n",
              "      display: none;\n",
              "      fill: #1967D2;\n",
              "      height: 32px;\n",
              "      padding: 0 0 0 0;\n",
              "      width: 32px;\n",
              "    }\n",
              "\n",
              "    .colab-df-convert:hover {\n",
              "      background-color: #E2EBFA;\n",
              "      box-shadow: 0px 1px 2px rgba(60, 64, 67, 0.3), 0px 1px 3px 1px rgba(60, 64, 67, 0.15);\n",
              "      fill: #174EA6;\n",
              "    }\n",
              "\n",
              "    [theme=dark] .colab-df-convert {\n",
              "      background-color: #3B4455;\n",
              "      fill: #D2E3FC;\n",
              "    }\n",
              "\n",
              "    [theme=dark] .colab-df-convert:hover {\n",
              "      background-color: #434B5C;\n",
              "      box-shadow: 0px 1px 3px 1px rgba(0, 0, 0, 0.15);\n",
              "      filter: drop-shadow(0px 1px 2px rgba(0, 0, 0, 0.3));\n",
              "      fill: #FFFFFF;\n",
              "    }\n",
              "  </style>\n",
              "\n",
              "      <script>\n",
              "        const buttonEl =\n",
              "          document.querySelector('#df-c0285931-436d-4412-9636-eb4f13cedfd8 button.colab-df-convert');\n",
              "        buttonEl.style.display =\n",
              "          google.colab.kernel.accessAllowed ? 'block' : 'none';\n",
              "\n",
              "        async function convertToInteractive(key) {\n",
              "          const element = document.querySelector('#df-c0285931-436d-4412-9636-eb4f13cedfd8');\n",
              "          const dataTable =\n",
              "            await google.colab.kernel.invokeFunction('convertToInteractive',\n",
              "                                                     [key], {});\n",
              "          if (!dataTable) return;\n",
              "\n",
              "          const docLinkHtml = 'Like what you see? Visit the ' +\n",
              "            '<a target=\"_blank\" href=https://colab.research.google.com/notebooks/data_table.ipynb>data table notebook</a>'\n",
              "            + ' to learn more about interactive tables.';\n",
              "          element.innerHTML = '';\n",
              "          dataTable['output_type'] = 'display_data';\n",
              "          await google.colab.output.renderOutput(dataTable, element);\n",
              "          const docLink = document.createElement('div');\n",
              "          docLink.innerHTML = docLinkHtml;\n",
              "          element.appendChild(docLink);\n",
              "        }\n",
              "      </script>\n",
              "    </div>\n",
              "  </div>\n",
              "  "
            ]
          },
          "metadata": {},
          "execution_count": 68
        }
      ]
    },
    {
      "cell_type": "code",
      "source": [
        "plt.figure(figsize = (14, 10))\n",
        "colors=['orange','yellow','blue','pink']\n",
        "props={}\n",
        "for i in range(len(colors)):\n",
        "    for j in range(-5,6):\n",
        "        sign=''\n",
        "        if (j)>0:\n",
        "            sign='+'\n",
        "\n",
        "        props[(str(i),sign+str(j))]={'color': 'xkcd:'+colors[i]}\n",
        "mosaic(crosstable.stack(),properties=props)\n",
        "plt.show()   "
      ],
      "metadata": {
        "colab": {
          "base_uri": "https://localhost:8080/",
          "height": 400
        },
        "id": "iTGzXNc51uCs",
        "outputId": "df7e877d-1732-4f3c-ba36-3c169422b402"
      },
      "execution_count": null,
      "outputs": [
        {
          "output_type": "display_data",
          "data": {
            "text/plain": [
              "<Figure size 1008x720 with 0 Axes>"
            ]
          },
          "metadata": {}
        },
        {
          "output_type": "display_data",
          "data": {
            "text/plain": [
              "<Figure size 720x432 with 3 Axes>"
            ],
            "image/png": "[encoded data removed]"
          },
          "metadata": {}
        }
      ]
    },
    {
      "cell_type": "code",
      "source": [
        "crosstable = pd.crosstab(dataset['cluster'], dataset['Like'])\n",
        "crosstable"
      ],
      "metadata": {
        "colab": {
          "base_uri": "https://localhost:8080/",
          "height": 206
        },
        "id": "3KLbkVwj1wr3",
        "outputId": "00324069-f28c-489d-babf-3ff3d715c271"
      },
      "execution_count": null,
      "outputs": [
        {
          "output_type": "execute_result",
          "data": {
            "text/plain": [
              "Like     +1  +2   +3   +4  -1  -2  -3  -4   0  I hate it!-5  I love it!+5\n",
              "cluster                                                                  \n",
              "0        42  60   66   47   7   6   7   4  36             5            44\n",
              "1        65  90  143  111  13   6   2   4  43             4            99\n",
              "2        13   6    8    0  12  18  30  27  37            89             0\n",
              "3        32  31   12    2  26  29  34  36  53            54             0"
            ],
            "text/html": [
              "\n",
              "  <div id=\"df-cfe7d4ab-f038-4657-a811-c42c4c33a716\">\n",
              "    <div class=\"colab-df-container\">\n",
              "      <div>\n",
              "<style scoped>\n",
              "    .dataframe tbody tr th:only-of-type {\n",
              "        vertical-align: middle;\n",
              "    }\n",
              "\n",
              "    .dataframe tbody tr th {\n",
              "        vertical-align: top;\n",
              "    }\n",
              "\n",
              "    .dataframe thead th {\n",
              "        text-align: right;\n",
              "    }\n",
              "</style>\n",
              "<table border=\"1\" class=\"dataframe\">\n",
              "  <thead>\n",
              "    <tr style=\"text-align: right;\">\n",
              "      <th>Like</th>\n",
              "      <th>+1</th>\n",
              "      <th>+2</th>\n",
              "      <th>+3</th>\n",
              "      <th>+4</th>\n",
              "      <th>-1</th>\n",
              "      <th>-2</th>\n",
              "      <th>-3</th>\n",
              "      <th>-4</th>\n",
              "      <th>0</th>\n",
              "      <th>I hate it!-5</th>\n",
              "      <th>I love it!+5</th>\n",
              "    </tr>\n",
              "    <tr>\n",
              "      <th>cluster</th>\n",
              "      <th></th>\n",
              "      <th></th>\n",
              "      <th></th>\n",
              "      <th></th>\n",
              "      <th></th>\n",
              "      <th></th>\n",
              "      <th></th>\n",
              "      <th></th>\n",
              "      <th></th>\n",
              "      <th></th>\n",
              "      <th></th>\n",
              "    </tr>\n",
              "  </thead>\n",
              "  <tbody>\n",
              "    <tr>\n",
              "      <th>0</th>\n",
              "      <td>42</td>\n",
              "      <td>60</td>\n",
              "      <td>66</td>\n",
              "      <td>47</td>\n",
              "      <td>7</td>\n",
              "      <td>6</td>\n",
              "      <td>7</td>\n",
              "      <td>4</td>\n",
              "      <td>36</td>\n",
              "      <td>5</td>\n",
              "      <td>44</td>\n",
              "    </tr>\n",
              "    <tr>\n",
              "      <th>1</th>\n",
              "      <td>65</td>\n",
              "      <td>90</td>\n",
              "      <td>143</td>\n",
              "      <td>111</td>\n",
              "      <td>13</td>\n",
              "      <td>6</td>\n",
              "      <td>2</td>\n",
              "      <td>4</td>\n",
              "      <td>43</td>\n",
              "      <td>4</td>\n",
              "      <td>99</td>\n",
              "    </tr>\n",
              "    <tr>\n",
              "      <th>2</th>\n",
              "      <td>13</td>\n",
              "      <td>6</td>\n",
              "      <td>8</td>\n",
              "      <td>0</td>\n",
              "      <td>12</td>\n",
              "      <td>18</td>\n",
              "      <td>30</td>\n",
              "      <td>27</td>\n",
              "      <td>37</td>\n",
              "      <td>89</td>\n",
              "      <td>0</td>\n",
              "    </tr>\n",
              "    <tr>\n",
              "      <th>3</th>\n",
              "      <td>32</td>\n",
              "      <td>31</td>\n",
              "      <td>12</td>\n",
              "      <td>2</td>\n",
              "      <td>26</td>\n",
              "      <td>29</td>\n",
              "      <td>34</td>\n",
              "      <td>36</td>\n",
              "      <td>53</td>\n",
              "      <td>54</td>\n",
              "      <td>0</td>\n",
              "    </tr>\n",
              "  </tbody>\n",
              "</table>\n",
              "</div>\n",
              "      <button class=\"colab-df-convert\" onclick=\"convertToInteractive('df-cfe7d4ab-f038-4657-a811-c42c4c33a716')\"\n",
              "              title=\"Convert this dataframe to an interactive table.\"\n",
              "              style=\"display:none;\">\n",
              "        \n",
              "  <svg xmlns=\"http://www.w3.org/2000/svg\" height=\"24px\"viewBox=\"0 0 24 24\"\n",
              "       width=\"24px\">\n",
              "    <path d=\"M0 0h24v24H0V0z\" fill=\"none\"/>\n",
              "    <path d=\"M18.56 5.44l.94 2.06.94-2.06 2.06-.94-2.06-.94-.94-2.06-.94 2.06-2.06.94zm-11 1L8.5 8.5l.94-2.06 2.06-.94-2.06-.94L8.5 2.5l-.94 2.06-2.06.94zm10 10l.94 2.06.94-2.06 2.06-.94-2.06-.94-.94-2.06-.94 2.06-2.06.94z\"/><path d=\"M17.41 7.96l-1.37-1.37c-.4-.4-.92-.59-1.43-.59-.52 0-1.04.2-1.43.59L10.3 9.45l-7.72 7.72c-.78.78-.78 2.05 0 2.83L4 21.41c.39.39.9.59 1.41.59.51 0 1.02-.2 1.41-.59l7.78-7.78 2.81-2.81c.8-.78.8-2.07 0-2.86zM5.41 20L4 18.59l7.72-7.72 1.47 1.35L5.41 20z\"/>\n",
              "  </svg>\n",
              "      </button>\n",
              "      \n",
              "  <style>\n",
              "    .colab-df-container {\n",
              "      display:flex;\n",
              "      flex-wrap:wrap;\n",
              "      gap: 12px;\n",
              "    }\n",
              "\n",
              "    .colab-df-convert {\n",
              "      background-color: #E8F0FE;\n",
              "      border: none;\n",
              "      border-radius: 50%;\n",
              "      cursor: pointer;\n",
              "      display: none;\n",
              "      fill: #1967D2;\n",
              "      height: 32px;\n",
              "      padding: 0 0 0 0;\n",
              "      width: 32px;\n",
              "    }\n",
              "\n",
              "    .colab-df-convert:hover {\n",
              "      background-color: #E2EBFA;\n",
              "      box-shadow: 0px 1px 2px rgba(60, 64, 67, 0.3), 0px 1px 3px 1px rgba(60, 64, 67, 0.15);\n",
              "      fill: #174EA6;\n",
              "    }\n",
              "\n",
              "    [theme=dark] .colab-df-convert {\n",
              "      background-color: #3B4455;\n",
              "      fill: #D2E3FC;\n",
              "    }\n",
              "\n",
              "    [theme=dark] .colab-df-convert:hover {\n",
              "      background-color: #434B5C;\n",
              "      box-shadow: 0px 1px 3px 1px rgba(0, 0, 0, 0.15);\n",
              "      filter: drop-shadow(0px 1px 2px rgba(0, 0, 0, 0.3));\n",
              "      fill: #FFFFFF;\n",
              "    }\n",
              "  </style>\n",
              "\n",
              "      <script>\n",
              "        const buttonEl =\n",
              "          document.querySelector('#df-cfe7d4ab-f038-4657-a811-c42c4c33a716 button.colab-df-convert');\n",
              "        buttonEl.style.display =\n",
              "          google.colab.kernel.accessAllowed ? 'block' : 'none';\n",
              "\n",
              "        async function convertToInteractive(key) {\n",
              "          const element = document.querySelector('#df-cfe7d4ab-f038-4657-a811-c42c4c33a716');\n",
              "          const dataTable =\n",
              "            await google.colab.kernel.invokeFunction('convertToInteractive',\n",
              "                                                     [key], {});\n",
              "          if (!dataTable) return;\n",
              "\n",
              "          const docLinkHtml = 'Like what you see? Visit the ' +\n",
              "            '<a target=\"_blank\" href=https://colab.research.google.com/notebooks/data_table.ipynb>data table notebook</a>'\n",
              "            + ' to learn more about interactive tables.';\n",
              "          element.innerHTML = '';\n",
              "          dataTable['output_type'] = 'display_data';\n",
              "          await google.colab.output.renderOutput(dataTable, element);\n",
              "          const docLink = document.createElement('div');\n",
              "          docLink.innerHTML = docLinkHtml;\n",
              "          element.appendChild(docLink);\n",
              "        }\n",
              "      </script>\n",
              "    </div>\n",
              "  </div>\n",
              "  "
            ]
          },
          "metadata": {},
          "execution_count": 70
        }
      ]
    },
    {
      "cell_type": "code",
      "source": [
        "plt.figure(figsize = (14, 10))\n",
        "mosaic(crosstable.stack(),properties=props)\n",
        "plt.show()"
      ],
      "metadata": {
        "colab": {
          "base_uri": "https://localhost:8080/",
          "height": 404
        },
        "id": "2qg4zsJr1yXO",
        "outputId": "e2f2b3f8-ab2d-4288-c313-a3436c47d740"
      },
      "execution_count": null,
      "outputs": [
        {
          "output_type": "display_data",
          "data": {
            "text/plain": [
              "<Figure size 1008x720 with 0 Axes>"
            ]
          },
          "metadata": {}
        },
        {
          "output_type": "display_data",
          "data": {
            "text/plain": [
              "<Figure size 720x432 with 3 Axes>"
            ],
            "image/png": "[encoded data removed]"
          },
          "metadata": {}
        }
      ]
    },
    {
      "cell_type": "code",
      "source": [
        "plt.figure(figsize = (14, 7))\n",
        "sns.countplot(x = dataset['Gender'], hue = dataset['cluster'])\n",
        "plt.title('Distribution of Gender in diffrent clusters')\n",
        "plt.show()"
      ],
      "metadata": {
        "colab": {
          "base_uri": "https://localhost:8080/",
          "height": 464
        },
        "id": "5vzCWFzF10Lr",
        "outputId": "8f532f0f-cd69-42fa-c7b9-9f9092f4f19a"
      },
      "execution_count": null,
      "outputs": [
        {
          "output_type": "display_data",
          "data": {
            "text/plain": [
              "<Figure size 1008x504 with 1 Axes>"
            ],
            "image/png": "[encoded data removed]"
          },
          "metadata": {}
        }
      ]
    },
    {
      "cell_type": "code",
      "source": [
        "plt.figure(figsize = (14, 7))\n",
        "sns.countplot(x = dataset['Like'], hue = dataset['cluster'])\n",
        "plt.title('Distribution of Likeness in diffrent clusters')\n",
        "plt.show()"
      ],
      "metadata": {
        "colab": {
          "base_uri": "https://localhost:8080/",
          "height": 464
        },
        "id": "ahGG4qk912TT",
        "outputId": "574edbc0-24e5-4722-9728-f28af2ef39a6"
      },
      "execution_count": null,
      "outputs": [
        {
          "output_type": "display_data",
          "data": {
            "text/plain": [
              "<Figure size 1008x504 with 1 Axes>"
            ],
            "image/png": "[encoded data removed]"
          },
          "metadata": {}
        }
      ]
    },
    {
      "cell_type": "code",
      "source": [
        "plt.figure(figsize = (14, 7))\n",
        "sns.countplot(x = dataset['VisitFrequency'], hue = dataset['cluster'])\n",
        "plt.title('Distribution of Likeness in diffrent clusters')\n",
        "plt.show()"
      ],
      "metadata": {
        "colab": {
          "base_uri": "https://localhost:8080/",
          "height": 464
        },
        "id": "6RbVuwaK15ni",
        "outputId": "8833d533-913a-4e17-b322-4df9609be636"
      },
      "execution_count": null,
      "outputs": [
        {
          "output_type": "display_data",
          "data": {
            "text/plain": [
              "<Figure size 1008x504 with 1 Axes>"
            ],
            "image/png": "[encoded data removed]"
          },
          "metadata": {}
        }
      ]
    },
    {
      "cell_type": "code",
      "source": [
        "plt.figure(figsize = (10, 8))\n",
        "sns.boxplot(x=\"cluster\", y=\"Age\", data=dataset)\n",
        "plt.show()\n"
      ],
      "metadata": {
        "colab": {
          "base_uri": "https://localhost:8080/",
          "height": 502
        },
        "id": "7c0U_al819TJ",
        "outputId": "3f45840f-a076-4d81-bc5d-d6759b2a4bc8"
      },
      "execution_count": null,
      "outputs": [
        {
          "output_type": "display_data",
          "data": {
            "text/plain": [
              "<Figure size 720x576 with 1 Axes>"
            ],
            "image/png": "[encoded data removed]"
          },
          "metadata": {}
        }
      ]
    },
    {
      "cell_type": "code",
      "source": [
        "from sklearn.preprocessing import LabelEncoder\n",
        "\n",
        "dataset['VisitFrequency'] = LabelEncoder().fit_transform(dataset['VisitFrequency'])\n",
        "visit = dataset.groupby('cluster')['VisitFrequency'].mean()\n",
        "visit = visit.to_frame().reset_index()\n",
        "visit"
      ],
      "metadata": {
        "colab": {
          "base_uri": "https://localhost:8080/",
          "height": 175
        },
        "id": "ebQZxD3U2Aox",
        "outputId": "a3d0a27f-9d56-477f-d9c2-31ff1f7d4330"
      },
      "execution_count": null,
      "outputs": [
        {
          "output_type": "execute_result",
          "data": {
            "text/plain": [
              "   cluster  VisitFrequency\n",
              "0        0        2.540123\n",
              "1        1        2.584483\n",
              "2        2        2.679167\n",
              "3        3        2.809061"
            ],
            "text/html": [
              "\n",
              "  <div id=\"df-b8bb0e5a-dbcb-4594-ae31-f52a66e9ed04\">\n",
              "    <div class=\"colab-df-container\">\n",
              "      <div>\n",
              "<style scoped>\n",
              "    .dataframe tbody tr th:only-of-type {\n",
              "        vertical-align: middle;\n",
              "    }\n",
              "\n",
              "    .dataframe tbody tr th {\n",
              "        vertical-align: top;\n",
              "    }\n",
              "\n",
              "    .dataframe thead th {\n",
              "        text-align: right;\n",
              "    }\n",
              "</style>\n",
              "<table border=\"1\" class=\"dataframe\">\n",
              "  <thead>\n",
              "    <tr style=\"text-align: right;\">\n",
              "      <th></th>\n",
              "      <th>cluster</th>\n",
              "      <th>VisitFrequency</th>\n",
              "    </tr>\n",
              "  </thead>\n",
              "  <tbody>\n",
              "    <tr>\n",
              "      <th>0</th>\n",
              "      <td>0</td>\n",
              "      <td>2.540123</td>\n",
              "    </tr>\n",
              "    <tr>\n",
              "      <th>1</th>\n",
              "      <td>1</td>\n",
              "      <td>2.584483</td>\n",
              "    </tr>\n",
              "    <tr>\n",
              "      <th>2</th>\n",
              "      <td>2</td>\n",
              "      <td>2.679167</td>\n",
              "    </tr>\n",
              "    <tr>\n",
              "      <th>3</th>\n",
              "      <td>3</td>\n",
              "      <td>2.809061</td>\n",
              "    </tr>\n",
              "  </tbody>\n",
              "</table>\n",
              "</div>\n",
              "      <button class=\"colab-df-convert\" onclick=\"convertToInteractive('df-b8bb0e5a-dbcb-4594-ae31-f52a66e9ed04')\"\n",
              "              title=\"Convert this dataframe to an interactive table.\"\n",
              "              style=\"display:none;\">\n",
              "        \n",
              "  <svg xmlns=\"http://www.w3.org/2000/svg\" height=\"24px\"viewBox=\"0 0 24 24\"\n",
              "       width=\"24px\">\n",
              "    <path d=\"M0 0h24v24H0V0z\" fill=\"none\"/>\n",
              "    <path d=\"M18.56 5.44l.94 2.06.94-2.06 2.06-.94-2.06-.94-.94-2.06-.94 2.06-2.06.94zm-11 1L8.5 8.5l.94-2.06 2.06-.94-2.06-.94L8.5 2.5l-.94 2.06-2.06.94zm10 10l.94 2.06.94-2.06 2.06-.94-2.06-.94-.94-2.06-.94 2.06-2.06.94z\"/><path d=\"M17.41 7.96l-1.37-1.37c-.4-.4-.92-.59-1.43-.59-.52 0-1.04.2-1.43.59L10.3 9.45l-7.72 7.72c-.78.78-.78 2.05 0 2.83L4 21.41c.39.39.9.59 1.41.59.51 0 1.02-.2 1.41-.59l7.78-7.78 2.81-2.81c.8-.78.8-2.07 0-2.86zM5.41 20L4 18.59l7.72-7.72 1.47 1.35L5.41 20z\"/>\n",
              "  </svg>\n",
              "      </button>\n",
              "      \n",
              "  <style>\n",
              "    .colab-df-container {\n",
              "      display:flex;\n",
              "      flex-wrap:wrap;\n",
              "      gap: 12px;\n",
              "    }\n",
              "\n",
              "    .colab-df-convert {\n",
              "      background-color: #E8F0FE;\n",
              "      border: none;\n",
              "      border-radius: 50%;\n",
              "      cursor: pointer;\n",
              "      display: none;\n",
              "      fill: #1967D2;\n",
              "      height: 32px;\n",
              "      padding: 0 0 0 0;\n",
              "      width: 32px;\n",
              "    }\n",
              "\n",
              "    .colab-df-convert:hover {\n",
              "      background-color: #E2EBFA;\n",
              "      box-shadow: 0px 1px 2px rgba(60, 64, 67, 0.3), 0px 1px 3px 1px rgba(60, 64, 67, 0.15);\n",
              "      fill: #174EA6;\n",
              "    }\n",
              "\n",
              "    [theme=dark] .colab-df-convert {\n",
              "      background-color: #3B4455;\n",
              "      fill: #D2E3FC;\n",
              "    }\n",
              "\n",
              "    [theme=dark] .colab-df-convert:hover {\n",
              "      background-color: #434B5C;\n",
              "      box-shadow: 0px 1px 3px 1px rgba(0, 0, 0, 0.15);\n",
              "      filter: drop-shadow(0px 1px 2px rgba(0, 0, 0, 0.3));\n",
              "      fill: #FFFFFF;\n",
              "    }\n",
              "  </style>\n",
              "\n",
              "      <script>\n",
              "        const buttonEl =\n",
              "          document.querySelector('#df-b8bb0e5a-dbcb-4594-ae31-f52a66e9ed04 button.colab-df-convert');\n",
              "        buttonEl.style.display =\n",
              "          google.colab.kernel.accessAllowed ? 'block' : 'none';\n",
              "\n",
              "        async function convertToInteractive(key) {\n",
              "          const element = document.querySelector('#df-b8bb0e5a-dbcb-4594-ae31-f52a66e9ed04');\n",
              "          const dataTable =\n",
              "            await google.colab.kernel.invokeFunction('convertToInteractive',\n",
              "                                                     [key], {});\n",
              "          if (!dataTable) return;\n",
              "\n",
              "          const docLinkHtml = 'Like what you see? Visit the ' +\n",
              "            '<a target=\"_blank\" href=https://colab.research.google.com/notebooks/data_table.ipynb>data table notebook</a>'\n",
              "            + ' to learn more about interactive tables.';\n",
              "          element.innerHTML = '';\n",
              "          dataTable['output_type'] = 'display_data';\n",
              "          await google.colab.output.renderOutput(dataTable, element);\n",
              "          const docLink = document.createElement('div');\n",
              "          docLink.innerHTML = docLinkHtml;\n",
              "          element.appendChild(docLink);\n",
              "        }\n",
              "      </script>\n",
              "    </div>\n",
              "  </div>\n",
              "  "
            ]
          },
          "metadata": {},
          "execution_count": 76
        }
      ]
    },
    {
      "cell_type": "code",
      "source": [
        "dataset['Like'] = LabelEncoder().fit_transform(dataset['Like'])\n",
        "Like = dataset.groupby('cluster')['Like'].mean()\n",
        "Like = Like.to_frame().reset_index()\n",
        "Like"
      ],
      "metadata": {
        "colab": {
          "base_uri": "https://localhost:8080/",
          "height": 175
        },
        "id": "D5_9LcnK2DlJ",
        "outputId": "6f4e7d60-6e6d-4eda-ada7-c92c7a2492ca"
      },
      "execution_count": null,
      "outputs": [
        {
          "output_type": "execute_result",
          "data": {
            "text/plain": [
              "   cluster      Like\n",
              "0        0  3.808642\n",
              "1        1  3.794828\n",
              "2        2  6.775000\n",
              "3        3  5.423948"
            ],
            "text/html": [
              "\n",
              "  <div id=\"df-cd2fd866-2370-4b57-abb4-44117d0e0c05\">\n",
              "    <div class=\"colab-df-container\">\n",
              "      <div>\n",
              "<style scoped>\n",
              "    .dataframe tbody tr th:only-of-type {\n",
              "        vertical-align: middle;\n",
              "    }\n",
              "\n",
              "    .dataframe tbody tr th {\n",
              "        vertical-align: top;\n",
              "    }\n",
              "\n",
              "    .dataframe thead th {\n",
              "        text-align: right;\n",
              "    }\n",
              "</style>\n",
              "<table border=\"1\" class=\"dataframe\">\n",
              "  <thead>\n",
              "    <tr style=\"text-align: right;\">\n",
              "      <th></th>\n",
              "      <th>cluster</th>\n",
              "      <th>Like</th>\n",
              "    </tr>\n",
              "  </thead>\n",
              "  <tbody>\n",
              "    <tr>\n",
              "      <th>0</th>\n",
              "      <td>0</td>\n",
              "      <td>3.808642</td>\n",
              "    </tr>\n",
              "    <tr>\n",
              "      <th>1</th>\n",
              "      <td>1</td>\n",
              "      <td>3.794828</td>\n",
              "    </tr>\n",
              "    <tr>\n",
              "      <th>2</th>\n",
              "      <td>2</td>\n",
              "      <td>6.775000</td>\n",
              "    </tr>\n",
              "    <tr>\n",
              "      <th>3</th>\n",
              "      <td>3</td>\n",
              "      <td>5.423948</td>\n",
              "    </tr>\n",
              "  </tbody>\n",
              "</table>\n",
              "</div>\n",
              "      <button class=\"colab-df-convert\" onclick=\"convertToInteractive('df-cd2fd866-2370-4b57-abb4-44117d0e0c05')\"\n",
              "              title=\"Convert this dataframe to an interactive table.\"\n",
              "              style=\"display:none;\">\n",
              "        \n",
              "  <svg xmlns=\"http://www.w3.org/2000/svg\" height=\"24px\"viewBox=\"0 0 24 24\"\n",
              "       width=\"24px\">\n",
              "    <path d=\"M0 0h24v24H0V0z\" fill=\"none\"/>\n",
              "    <path d=\"M18.56 5.44l.94 2.06.94-2.06 2.06-.94-2.06-.94-.94-2.06-.94 2.06-2.06.94zm-11 1L8.5 8.5l.94-2.06 2.06-.94-2.06-.94L8.5 2.5l-.94 2.06-2.06.94zm10 10l.94 2.06.94-2.06 2.06-.94-2.06-.94-.94-2.06-.94 2.06-2.06.94z\"/><path d=\"M17.41 7.96l-1.37-1.37c-.4-.4-.92-.59-1.43-.59-.52 0-1.04.2-1.43.59L10.3 9.45l-7.72 7.72c-.78.78-.78 2.05 0 2.83L4 21.41c.39.39.9.59 1.41.59.51 0 1.02-.2 1.41-.59l7.78-7.78 2.81-2.81c.8-.78.8-2.07 0-2.86zM5.41 20L4 18.59l7.72-7.72 1.47 1.35L5.41 20z\"/>\n",
              "  </svg>\n",
              "      </button>\n",
              "      \n",
              "  <style>\n",
              "    .colab-df-container {\n",
              "      display:flex;\n",
              "      flex-wrap:wrap;\n",
              "      gap: 12px;\n",
              "    }\n",
              "\n",
              "    .colab-df-convert {\n",
              "      background-color: #E8F0FE;\n",
              "      border: none;\n",
              "      border-radius: 50%;\n",
              "      cursor: pointer;\n",
              "      display: none;\n",
              "      fill: #1967D2;\n",
              "      height: 32px;\n",
              "      padding: 0 0 0 0;\n",
              "      width: 32px;\n",
              "    }\n",
              "\n",
              "    .colab-df-convert:hover {\n",
              "      background-color: #E2EBFA;\n",
              "      box-shadow: 0px 1px 2px rgba(60, 64, 67, 0.3), 0px 1px 3px 1px rgba(60, 64, 67, 0.15);\n",
              "      fill: #174EA6;\n",
              "    }\n",
              "\n",
              "    [theme=dark] .colab-df-convert {\n",
              "      background-color: #3B4455;\n",
              "      fill: #D2E3FC;\n",
              "    }\n",
              "\n",
              "    [theme=dark] .colab-df-convert:hover {\n",
              "      background-color: #434B5C;\n",
              "      box-shadow: 0px 1px 3px 1px rgba(0, 0, 0, 0.15);\n",
              "      filter: drop-shadow(0px 1px 2px rgba(0, 0, 0, 0.3));\n",
              "      fill: #FFFFFF;\n",
              "    }\n",
              "  </style>\n",
              "\n",
              "      <script>\n",
              "        const buttonEl =\n",
              "          document.querySelector('#df-cd2fd866-2370-4b57-abb4-44117d0e0c05 button.colab-df-convert');\n",
              "        buttonEl.style.display =\n",
              "          google.colab.kernel.accessAllowed ? 'block' : 'none';\n",
              "\n",
              "        async function convertToInteractive(key) {\n",
              "          const element = document.querySelector('#df-cd2fd866-2370-4b57-abb4-44117d0e0c05');\n",
              "          const dataTable =\n",
              "            await google.colab.kernel.invokeFunction('convertToInteractive',\n",
              "                                                     [key], {});\n",
              "          if (!dataTable) return;\n",
              "\n",
              "          const docLinkHtml = 'Like what you see? Visit the ' +\n",
              "            '<a target=\"_blank\" href=https://colab.research.google.com/notebooks/data_table.ipynb>data table notebook</a>'\n",
              "            + ' to learn more about interactive tables.';\n",
              "          element.innerHTML = '';\n",
              "          dataTable['output_type'] = 'display_data';\n",
              "          await google.colab.output.renderOutput(dataTable, element);\n",
              "          const docLink = document.createElement('div');\n",
              "          docLink.innerHTML = docLinkHtml;\n",
              "          element.appendChild(docLink);\n",
              "        }\n",
              "      </script>\n",
              "    </div>\n",
              "  </div>\n",
              "  "
            ]
          },
          "metadata": {},
          "execution_count": 77
        }
      ]
    },
    {
      "cell_type": "code",
      "source": [
        "dataset['Gender'] = LabelEncoder().fit_transform(dataset['Gender'])\n",
        "Gender = dataset.groupby('cluster')['Gender'].mean()\n",
        "Gender = Gender.to_frame().reset_index()\n",
        "Gender"
      ],
      "metadata": {
        "colab": {
          "base_uri": "https://localhost:8080/",
          "height": 175
        },
        "id": "EaAVeawR2FtX",
        "outputId": "151c4ce5-f9e9-4b60-d3c3-821f7565de02"
      },
      "execution_count": null,
      "outputs": [
        {
          "output_type": "execute_result",
          "data": {
            "text/plain": [
              "   cluster    Gender\n",
              "0        0  0.521605\n",
              "1        1  0.398276\n",
              "2        2  0.579167\n",
              "3        3  0.407767"
            ],
            "text/html": [
              "\n",
              "  <div id=\"df-309f2993-bdd0-4ab1-a064-b7ff4833ec31\">\n",
              "    <div class=\"colab-df-container\">\n",
              "      <div>\n",
              "<style scoped>\n",
              "    .dataframe tbody tr th:only-of-type {\n",
              "        vertical-align: middle;\n",
              "    }\n",
              "\n",
              "    .dataframe tbody tr th {\n",
              "        vertical-align: top;\n",
              "    }\n",
              "\n",
              "    .dataframe thead th {\n",
              "        text-align: right;\n",
              "    }\n",
              "</style>\n",
              "<table border=\"1\" class=\"dataframe\">\n",
              "  <thead>\n",
              "    <tr style=\"text-align: right;\">\n",
              "      <th></th>\n",
              "      <th>cluster</th>\n",
              "      <th>Gender</th>\n",
              "    </tr>\n",
              "  </thead>\n",
              "  <tbody>\n",
              "    <tr>\n",
              "      <th>0</th>\n",
              "      <td>0</td>\n",
              "      <td>0.521605</td>\n",
              "    </tr>\n",
              "    <tr>\n",
              "      <th>1</th>\n",
              "      <td>1</td>\n",
              "      <td>0.398276</td>\n",
              "    </tr>\n",
              "    <tr>\n",
              "      <th>2</th>\n",
              "      <td>2</td>\n",
              "      <td>0.579167</td>\n",
              "    </tr>\n",
              "    <tr>\n",
              "      <th>3</th>\n",
              "      <td>3</td>\n",
              "      <td>0.407767</td>\n",
              "    </tr>\n",
              "  </tbody>\n",
              "</table>\n",
              "</div>\n",
              "      <button class=\"colab-df-convert\" onclick=\"convertToInteractive('df-309f2993-bdd0-4ab1-a064-b7ff4833ec31')\"\n",
              "              title=\"Convert this dataframe to an interactive table.\"\n",
              "              style=\"display:none;\">\n",
              "        \n",
              "  <svg xmlns=\"http://www.w3.org/2000/svg\" height=\"24px\"viewBox=\"0 0 24 24\"\n",
              "       width=\"24px\">\n",
              "    <path d=\"M0 0h24v24H0V0z\" fill=\"none\"/>\n",
              "    <path d=\"M18.56 5.44l.94 2.06.94-2.06 2.06-.94-2.06-.94-.94-2.06-.94 2.06-2.06.94zm-11 1L8.5 8.5l.94-2.06 2.06-.94-2.06-.94L8.5 2.5l-.94 2.06-2.06.94zm10 10l.94 2.06.94-2.06 2.06-.94-2.06-.94-.94-2.06-.94 2.06-2.06.94z\"/><path d=\"M17.41 7.96l-1.37-1.37c-.4-.4-.92-.59-1.43-.59-.52 0-1.04.2-1.43.59L10.3 9.45l-7.72 7.72c-.78.78-.78 2.05 0 2.83L4 21.41c.39.39.9.59 1.41.59.51 0 1.02-.2 1.41-.59l7.78-7.78 2.81-2.81c.8-.78.8-2.07 0-2.86zM5.41 20L4 18.59l7.72-7.72 1.47 1.35L5.41 20z\"/>\n",
              "  </svg>\n",
              "      </button>\n",
              "      \n",
              "  <style>\n",
              "    .colab-df-container {\n",
              "      display:flex;\n",
              "      flex-wrap:wrap;\n",
              "      gap: 12px;\n",
              "    }\n",
              "\n",
              "    .colab-df-convert {\n",
              "      background-color: #E8F0FE;\n",
              "      border: none;\n",
              "      border-radius: 50%;\n",
              "      cursor: pointer;\n",
              "      display: none;\n",
              "      fill: #1967D2;\n",
              "      height: 32px;\n",
              "      padding: 0 0 0 0;\n",
              "      width: 32px;\n",
              "    }\n",
              "\n",
              "    .colab-df-convert:hover {\n",
              "      background-color: #E2EBFA;\n",
              "      box-shadow: 0px 1px 2px rgba(60, 64, 67, 0.3), 0px 1px 3px 1px rgba(60, 64, 67, 0.15);\n",
              "      fill: #174EA6;\n",
              "    }\n",
              "\n",
              "    [theme=dark] .colab-df-convert {\n",
              "      background-color: #3B4455;\n",
              "      fill: #D2E3FC;\n",
              "    }\n",
              "\n",
              "    [theme=dark] .colab-df-convert:hover {\n",
              "      background-color: #434B5C;\n",
              "      box-shadow: 0px 1px 3px 1px rgba(0, 0, 0, 0.15);\n",
              "      filter: drop-shadow(0px 1px 2px rgba(0, 0, 0, 0.3));\n",
              "      fill: #FFFFFF;\n",
              "    }\n",
              "  </style>\n",
              "\n",
              "      <script>\n",
              "        const buttonEl =\n",
              "          document.querySelector('#df-309f2993-bdd0-4ab1-a064-b7ff4833ec31 button.colab-df-convert');\n",
              "        buttonEl.style.display =\n",
              "          google.colab.kernel.accessAllowed ? 'block' : 'none';\n",
              "\n",
              "        async function convertToInteractive(key) {\n",
              "          const element = document.querySelector('#df-309f2993-bdd0-4ab1-a064-b7ff4833ec31');\n",
              "          const dataTable =\n",
              "            await google.colab.kernel.invokeFunction('convertToInteractive',\n",
              "                                                     [key], {});\n",
              "          if (!dataTable) return;\n",
              "\n",
              "          const docLinkHtml = 'Like what you see? Visit the ' +\n",
              "            '<a target=\"_blank\" href=https://colab.research.google.com/notebooks/data_table.ipynb>data table notebook</a>'\n",
              "            + ' to learn more about interactive tables.';\n",
              "          element.innerHTML = '';\n",
              "          dataTable['output_type'] = 'display_data';\n",
              "          await google.colab.output.renderOutput(dataTable, element);\n",
              "          const docLink = document.createElement('div');\n",
              "          docLink.innerHTML = docLinkHtml;\n",
              "          element.appendChild(docLink);\n",
              "        }\n",
              "      </script>\n",
              "    </div>\n",
              "  </div>\n",
              "  "
            ]
          },
          "metadata": {},
          "execution_count": 78
        }
      ]
    },
    {
      "cell_type": "code",
      "source": [
        "segments = Gender.merge(Like, on='cluster', how='left').merge(visit, on='cluster', how='left')\n",
        "segments"
      ],
      "metadata": {
        "colab": {
          "base_uri": "https://localhost:8080/",
          "height": 175
        },
        "id": "t6qGDmAD2O0C",
        "outputId": "940558cb-4e78-43ff-d15b-d7f3f153562d"
      },
      "execution_count": null,
      "outputs": [
        {
          "output_type": "execute_result",
          "data": {
            "text/plain": [
              "   cluster    Gender      Like  VisitFrequency\n",
              "0        0  0.521605  3.808642        2.540123\n",
              "1        1  0.398276  3.794828        2.584483\n",
              "2        2  0.579167  6.775000        2.679167\n",
              "3        3  0.407767  5.423948        2.809061"
            ],
            "text/html": [
              "\n",
              "  <div id=\"df-a9344f5f-4e95-4ff2-ae23-369569635086\">\n",
              "    <div class=\"colab-df-container\">\n",
              "      <div>\n",
              "<style scoped>\n",
              "    .dataframe tbody tr th:only-of-type {\n",
              "        vertical-align: middle;\n",
              "    }\n",
              "\n",
              "    .dataframe tbody tr th {\n",
              "        vertical-align: top;\n",
              "    }\n",
              "\n",
              "    .dataframe thead th {\n",
              "        text-align: right;\n",
              "    }\n",
              "</style>\n",
              "<table border=\"1\" class=\"dataframe\">\n",
              "  <thead>\n",
              "    <tr style=\"text-align: right;\">\n",
              "      <th></th>\n",
              "      <th>cluster</th>\n",
              "      <th>Gender</th>\n",
              "      <th>Like</th>\n",
              "      <th>VisitFrequency</th>\n",
              "    </tr>\n",
              "  </thead>\n",
              "  <tbody>\n",
              "    <tr>\n",
              "      <th>0</th>\n",
              "      <td>0</td>\n",
              "      <td>0.521605</td>\n",
              "      <td>3.808642</td>\n",
              "      <td>2.540123</td>\n",
              "    </tr>\n",
              "    <tr>\n",
              "      <th>1</th>\n",
              "      <td>1</td>\n",
              "      <td>0.398276</td>\n",
              "      <td>3.794828</td>\n",
              "      <td>2.584483</td>\n",
              "    </tr>\n",
              "    <tr>\n",
              "      <th>2</th>\n",
              "      <td>2</td>\n",
              "      <td>0.579167</td>\n",
              "      <td>6.775000</td>\n",
              "      <td>2.679167</td>\n",
              "    </tr>\n",
              "    <tr>\n",
              "      <th>3</th>\n",
              "      <td>3</td>\n",
              "      <td>0.407767</td>\n",
              "      <td>5.423948</td>\n",
              "      <td>2.809061</td>\n",
              "    </tr>\n",
              "  </tbody>\n",
              "</table>\n",
              "</div>\n",
              "      <button class=\"colab-df-convert\" onclick=\"convertToInteractive('df-a9344f5f-4e95-4ff2-ae23-369569635086')\"\n",
              "              title=\"Convert this dataframe to an interactive table.\"\n",
              "              style=\"display:none;\">\n",
              "        \n",
              "  <svg xmlns=\"http://www.w3.org/2000/svg\" height=\"24px\"viewBox=\"0 0 24 24\"\n",
              "       width=\"24px\">\n",
              "    <path d=\"M0 0h24v24H0V0z\" fill=\"none\"/>\n",
              "    <path d=\"M18.56 5.44l.94 2.06.94-2.06 2.06-.94-2.06-.94-.94-2.06-.94 2.06-2.06.94zm-11 1L8.5 8.5l.94-2.06 2.06-.94-2.06-.94L8.5 2.5l-.94 2.06-2.06.94zm10 10l.94 2.06.94-2.06 2.06-.94-2.06-.94-.94-2.06-.94 2.06-2.06.94z\"/><path d=\"M17.41 7.96l-1.37-1.37c-.4-.4-.92-.59-1.43-.59-.52 0-1.04.2-1.43.59L10.3 9.45l-7.72 7.72c-.78.78-.78 2.05 0 2.83L4 21.41c.39.39.9.59 1.41.59.51 0 1.02-.2 1.41-.59l7.78-7.78 2.81-2.81c.8-.78.8-2.07 0-2.86zM5.41 20L4 18.59l7.72-7.72 1.47 1.35L5.41 20z\"/>\n",
              "  </svg>\n",
              "      </button>\n",
              "      \n",
              "  <style>\n",
              "    .colab-df-container {\n",
              "      display:flex;\n",
              "      flex-wrap:wrap;\n",
              "      gap: 12px;\n",
              "    }\n",
              "\n",
              "    .colab-df-convert {\n",
              "      background-color: #E8F0FE;\n",
              "      border: none;\n",
              "      border-radius: 50%;\n",
              "      cursor: pointer;\n",
              "      display: none;\n",
              "      fill: #1967D2;\n",
              "      height: 32px;\n",
              "      padding: 0 0 0 0;\n",
              "      width: 32px;\n",
              "    }\n",
              "\n",
              "    .colab-df-convert:hover {\n",
              "      background-color: #E2EBFA;\n",
              "      box-shadow: 0px 1px 2px rgba(60, 64, 67, 0.3), 0px 1px 3px 1px rgba(60, 64, 67, 0.15);\n",
              "      fill: #174EA6;\n",
              "    }\n",
              "\n",
              "    [theme=dark] .colab-df-convert {\n",
              "      background-color: #3B4455;\n",
              "      fill: #D2E3FC;\n",
              "    }\n",
              "\n",
              "    [theme=dark] .colab-df-convert:hover {\n",
              "      background-color: #434B5C;\n",
              "      box-shadow: 0px 1px 3px 1px rgba(0, 0, 0, 0.15);\n",
              "      filter: drop-shadow(0px 1px 2px rgba(0, 0, 0, 0.3));\n",
              "      fill: #FFFFFF;\n",
              "    }\n",
              "  </style>\n",
              "\n",
              "      <script>\n",
              "        const buttonEl =\n",
              "          document.querySelector('#df-a9344f5f-4e95-4ff2-ae23-369569635086 button.colab-df-convert');\n",
              "        buttonEl.style.display =\n",
              "          google.colab.kernel.accessAllowed ? 'block' : 'none';\n",
              "\n",
              "        async function convertToInteractive(key) {\n",
              "          const element = document.querySelector('#df-a9344f5f-4e95-4ff2-ae23-369569635086');\n",
              "          const dataTable =\n",
              "            await google.colab.kernel.invokeFunction('convertToInteractive',\n",
              "                                                     [key], {});\n",
              "          if (!dataTable) return;\n",
              "\n",
              "          const docLinkHtml = 'Like what you see? Visit the ' +\n",
              "            '<a target=\"_blank\" href=https://colab.research.google.com/notebooks/data_table.ipynb>data table notebook</a>'\n",
              "            + ' to learn more about interactive tables.';\n",
              "          element.innerHTML = '';\n",
              "          dataTable['output_type'] = 'display_data';\n",
              "          await google.colab.output.renderOutput(dataTable, element);\n",
              "          const docLink = document.createElement('div');\n",
              "          docLink.innerHTML = docLinkHtml;\n",
              "          element.appendChild(docLink);\n",
              "        }\n",
              "      </script>\n",
              "    </div>\n",
              "  </div>\n",
              "  "
            ]
          },
          "metadata": {},
          "execution_count": 79
        }
      ]
    },
    {
      "cell_type": "code",
      "source": [
        "sns.scatterplot(x = \"VisitFrequency\", y = \"Like\",data=segments,s=100, color=\"m\")\n",
        "plt.title(\"Segment Evaluation Plot\", fontsize = 18) \n",
        "plt.xlabel(\"Visits\", fontsize = 15) \n",
        "plt.ylabel(\"Likes\", fontsize = 15) \n",
        "plt.show()"
      ],
      "metadata": {
        "id": "_B-HwDEA2ROZ",
        "outputId": "bdcde781-c504-48c2-805b-4b2478f12d5d",
        "colab": {
          "base_uri": "https://localhost:8080/",
          "height": 416
        }
      },
      "execution_count": null,
      "outputs": [
        {
          "output_type": "display_data",
          "data": {
            "text/plain": [
              "<Figure size 720x432 with 1 Axes>"
            ],
            "image/png": "[encoded data removed]"
          },
          "metadata": {}
        }
      ]
    }
  ]
}